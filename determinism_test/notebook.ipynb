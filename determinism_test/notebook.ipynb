{
 "cells": [
  {
   "cell_type": "code",
   "execution_count": 1,
   "metadata": {},
   "outputs": [],
   "source": [
    "import torch\n",
    "import flwr as fl\n",
    "from torchvision.datasets import MNIST\n",
    "from torchvision.transforms import Compose, Normalize, ToTensor\n",
    "from client import get_client_generator, weighted_average_accuracy\n",
    "from dataset import partition_dataset\n",
    "from util import seed_everything\n",
    "from flwr.server.strategy import FedAvg\n",
    "\n",
    "transform = Compose([ToTensor(), Normalize((0.1307,), (0.3081,))])\n",
    "train_dataset = MNIST(\"./mnist\", train=True, download=True, transform=transform)\n",
    "val_dataset = MNIST(\"./mnist\", train=False, transform=transform)\n",
    "\n",
    "def complete_run(seed=None):\n",
    "    if seed is not None:\n",
    "        seed_everything(seed)\n",
    "\n",
    "    num_clients = 10\n",
    "    train_datasets = partition_dataset(train_dataset, num_clients)\n",
    "    val_datasets = partition_dataset(val_dataset, num_clients)\n",
    "    train_dataloaders = [torch.utils.data.DataLoader(dataset, batch_size=16, shuffle=True) for dataset in train_datasets]\n",
    "    val_dataloaders = [torch.utils.data.DataLoader(dataset, batch_size=16) for dataset in val_datasets]\n",
    "    client_resources = None\n",
    "    client_fn = get_client_generator(train_dataloaders, val_dataloaders)\n",
    "    client_config = {\n",
    "        \"lr\": 0.05,\n",
    "        \"epochs\": 1,\n",
    "    }\n",
    "    strategy = FedAvg(\n",
    "        min_fit_clients=2,\n",
    "        min_evaluate_clients=2,\n",
    "        min_available_clients=2,\n",
    "        fraction_fit=0.5,\n",
    "        fraction_evaluate=0.5,\n",
    "        on_fit_config_fn=lambda _: client_config,\n",
    "        on_evaluate_config_fn=lambda _: client_config,\n",
    "        evaluate_metrics_aggregation_fn=weighted_average_accuracy,\n",
    "    )\n",
    "    hist = fl.simulation.start_simulation(\n",
    "        client_fn=client_fn,\n",
    "        seed_fn=seed_everything if seed is not None else None,\n",
    "        seed=seed,\n",
    "        num_clients=num_clients,\n",
    "        config=fl.server.ServerConfig(num_rounds=5),\n",
    "        client_resources=client_resources,\n",
    "        strategy=strategy\n",
    "    )\n",
    "    return hist"
   ]
  },
  {
   "cell_type": "code",
   "execution_count": 2,
   "metadata": {},
   "outputs": [
    {
     "name": "stderr",
     "output_type": "stream",
     "text": [
      "INFO flwr 2023-03-08 17:16:20,909 | app.py:177 | Starting Flower simulation, config: ServerConfig(num_rounds=5, round_timeout=None)\n",
      "2023-03-08 17:16:22,938\tINFO worker.py:1553 -- Started a local Ray instance.\n",
      "INFO flwr 2023-03-08 17:16:24,456 | app.py:211 | Flower VCE: Ray initialized with resources: {'CPU': 10.0, 'node:127.0.0.1': 1.0, 'memory': 16583085261.0, 'object_store_memory': 2147483648.0}\n",
      "INFO flwr 2023-03-08 17:16:24,779 | server.py:100 | Initializing global parameters\n",
      "INFO flwr 2023-03-08 17:16:24,779 | server.py:293 | Requesting initial parameters from one random client\n",
      "INFO flwr 2023-03-08 17:16:27,001 | server.py:297 | Received initial parameters from one random client\n",
      "INFO flwr 2023-03-08 17:16:27,002 | server.py:102 | Evaluating initial parameters\n",
      "INFO flwr 2023-03-08 17:16:27,002 | server.py:115 | FL starting\n",
      "DEBUG flwr 2023-03-08 17:16:27,003 | server.py:234 | fit_round 1: strategy sampled 5 clients (out of 10)\n",
      "DEBUG flwr 2023-03-08 17:16:35,005 | server.py:248 | fit_round 1 received 5 results and 0 failures\n",
      "WARNING flwr 2023-03-08 17:16:35,020 | fedavg.py:243 | No fit_metrics_aggregation_fn provided\n",
      "DEBUG flwr 2023-03-08 17:16:35,021 | server.py:179 | evaluate_round 1: strategy sampled 5 clients (out of 10)\n",
      "DEBUG flwr 2023-03-08 17:16:35,468 | server.py:193 | evaluate_round 1 received 5 results and 0 failures\n",
      "DEBUG flwr 2023-03-08 17:16:35,469 | server.py:234 | fit_round 2: strategy sampled 5 clients (out of 10)\n",
      "DEBUG flwr 2023-03-08 17:16:43,586 | server.py:248 | fit_round 2 received 5 results and 0 failures\n",
      "DEBUG flwr 2023-03-08 17:16:43,601 | server.py:179 | evaluate_round 2: strategy sampled 5 clients (out of 10)\n",
      "DEBUG flwr 2023-03-08 17:16:44,038 | server.py:193 | evaluate_round 2 received 5 results and 0 failures\n",
      "DEBUG flwr 2023-03-08 17:16:44,039 | server.py:234 | fit_round 3: strategy sampled 5 clients (out of 10)\n",
      "DEBUG flwr 2023-03-08 17:16:52,302 | server.py:248 | fit_round 3 received 5 results and 0 failures\n",
      "DEBUG flwr 2023-03-08 17:16:52,318 | server.py:179 | evaluate_round 3: strategy sampled 5 clients (out of 10)\n",
      "DEBUG flwr 2023-03-08 17:16:52,757 | server.py:193 | evaluate_round 3 received 5 results and 0 failures\n",
      "DEBUG flwr 2023-03-08 17:16:52,757 | server.py:234 | fit_round 4: strategy sampled 5 clients (out of 10)\n",
      "DEBUG flwr 2023-03-08 17:17:01,032 | server.py:248 | fit_round 4 received 5 results and 0 failures\n",
      "DEBUG flwr 2023-03-08 17:17:01,047 | server.py:179 | evaluate_round 4: strategy sampled 5 clients (out of 10)\n",
      "DEBUG flwr 2023-03-08 17:17:01,486 | server.py:193 | evaluate_round 4 received 5 results and 0 failures\n",
      "DEBUG flwr 2023-03-08 17:17:01,487 | server.py:234 | fit_round 5: strategy sampled 5 clients (out of 10)\n",
      "DEBUG flwr 2023-03-08 17:17:09,772 | server.py:248 | fit_round 5 received 5 results and 0 failures\n",
      "DEBUG flwr 2023-03-08 17:17:09,787 | server.py:179 | evaluate_round 5: strategy sampled 5 clients (out of 10)\n",
      "DEBUG flwr 2023-03-08 17:17:10,222 | server.py:193 | evaluate_round 5 received 5 results and 0 failures\n",
      "INFO flwr 2023-03-08 17:17:10,222 | server.py:158 | FL finished in 43.220014000020456\n",
      "INFO flwr 2023-03-08 17:17:10,224 | app.py:209 | app_fit: losses_distributed [(1, 0.341917051410675), (2, 0.2334419816419482), (3, 0.1811397484153509), (4, 0.1350405248582363), (5, 0.1206499027621001)]\n",
      "INFO flwr 2023-03-08 17:17:10,225 | app.py:210 | app_fit: metrics_distributed {'accuracy': [(1, 0.9072), (2, 0.9336), (3, 0.9464), (4, 0.9584), (5, 0.9646)]}\n",
      "INFO flwr 2023-03-08 17:17:10,225 | app.py:211 | app_fit: losses_centralized []\n",
      "INFO flwr 2023-03-08 17:17:10,225 | app.py:212 | app_fit: metrics_centralized {}\n"
     ]
    }
   ],
   "source": [
    "run1 = complete_run(0)"
   ]
  },
  {
   "cell_type": "code",
   "execution_count": 3,
   "metadata": {},
   "outputs": [
    {
     "name": "stderr",
     "output_type": "stream",
     "text": [
      "INFO flwr 2023-03-08 17:17:10,305 | app.py:177 | Starting Flower simulation, config: ServerConfig(num_rounds=5, round_timeout=None)\n",
      "2023-03-08 17:17:14,212\tINFO worker.py:1553 -- Started a local Ray instance.\n",
      "INFO flwr 2023-03-08 17:17:15,706 | app.py:211 | Flower VCE: Ray initialized with resources: {'object_store_memory': 2147483648.0, 'node:127.0.0.1': 1.0, 'CPU': 10.0, 'memory': 17109680128.0}\n",
      "INFO flwr 2023-03-08 17:17:16,165 | server.py:100 | Initializing global parameters\n",
      "INFO flwr 2023-03-08 17:17:16,166 | server.py:293 | Requesting initial parameters from one random client\n",
      "INFO flwr 2023-03-08 17:17:18,327 | server.py:297 | Received initial parameters from one random client\n",
      "INFO flwr 2023-03-08 17:17:18,327 | server.py:102 | Evaluating initial parameters\n",
      "INFO flwr 2023-03-08 17:17:18,327 | server.py:115 | FL starting\n",
      "DEBUG flwr 2023-03-08 17:17:18,327 | server.py:234 | fit_round 1: strategy sampled 5 clients (out of 10)\n",
      "DEBUG flwr 2023-03-08 17:17:26,479 | server.py:248 | fit_round 1 received 5 results and 0 failures\n",
      "WARNING flwr 2023-03-08 17:17:26,498 | fedavg.py:243 | No fit_metrics_aggregation_fn provided\n",
      "DEBUG flwr 2023-03-08 17:17:26,499 | server.py:179 | evaluate_round 1: strategy sampled 5 clients (out of 10)\n",
      "DEBUG flwr 2023-03-08 17:17:26,937 | server.py:193 | evaluate_round 1 received 5 results and 0 failures\n",
      "DEBUG flwr 2023-03-08 17:17:26,938 | server.py:234 | fit_round 2: strategy sampled 5 clients (out of 10)\n",
      "DEBUG flwr 2023-03-08 17:17:34,911 | server.py:248 | fit_round 2 received 5 results and 0 failures\n",
      "DEBUG flwr 2023-03-08 17:17:34,932 | server.py:179 | evaluate_round 2: strategy sampled 5 clients (out of 10)\n",
      "DEBUG flwr 2023-03-08 17:17:35,370 | server.py:193 | evaluate_round 2 received 5 results and 0 failures\n",
      "DEBUG flwr 2023-03-08 17:17:35,370 | server.py:234 | fit_round 3: strategy sampled 5 clients (out of 10)\n",
      "DEBUG flwr 2023-03-08 17:17:43,471 | server.py:248 | fit_round 3 received 5 results and 0 failures\n",
      "DEBUG flwr 2023-03-08 17:17:43,492 | server.py:179 | evaluate_round 3: strategy sampled 5 clients (out of 10)\n",
      "DEBUG flwr 2023-03-08 17:17:43,974 | server.py:193 | evaluate_round 3 received 5 results and 0 failures\n",
      "DEBUG flwr 2023-03-08 17:17:43,975 | server.py:234 | fit_round 4: strategy sampled 5 clients (out of 10)\n",
      "DEBUG flwr 2023-03-08 17:17:52,210 | server.py:248 | fit_round 4 received 5 results and 0 failures\n",
      "DEBUG flwr 2023-03-08 17:17:52,232 | server.py:179 | evaluate_round 4: strategy sampled 5 clients (out of 10)\n",
      "DEBUG flwr 2023-03-08 17:17:52,670 | server.py:193 | evaluate_round 4 received 5 results and 0 failures\n",
      "DEBUG flwr 2023-03-08 17:17:52,670 | server.py:234 | fit_round 5: strategy sampled 5 clients (out of 10)\n",
      "DEBUG flwr 2023-03-08 17:18:00,782 | server.py:248 | fit_round 5 received 5 results and 0 failures\n",
      "DEBUG flwr 2023-03-08 17:18:00,797 | server.py:179 | evaluate_round 5: strategy sampled 5 clients (out of 10)\n",
      "DEBUG flwr 2023-03-08 17:18:01,237 | server.py:193 | evaluate_round 5 received 5 results and 0 failures\n",
      "INFO flwr 2023-03-08 17:18:01,237 | server.py:158 | FL finished in 42.910146082984284\n",
      "INFO flwr 2023-03-08 17:18:01,240 | app.py:209 | app_fit: losses_distributed [(1, 0.341917051410675), (2, 0.2334419816419482), (3, 0.1811397484153509), (4, 0.1350405248582363), (5, 0.1206499027621001)]\n",
      "INFO flwr 2023-03-08 17:18:01,240 | app.py:210 | app_fit: metrics_distributed {'accuracy': [(1, 0.9072), (2, 0.9336), (3, 0.9464), (4, 0.9584), (5, 0.9646)]}\n",
      "INFO flwr 2023-03-08 17:18:01,240 | app.py:211 | app_fit: losses_centralized []\n",
      "INFO flwr 2023-03-08 17:18:01,241 | app.py:212 | app_fit: metrics_centralized {}\n"
     ]
    }
   ],
   "source": [
    "run2 = complete_run(0)"
   ]
  },
  {
   "cell_type": "code",
   "execution_count": 4,
   "metadata": {},
   "outputs": [
    {
     "data": {
      "text/plain": [
       "History (loss, distributed):\n",
       "\tround 1: 0.341917051410675\n",
       "\tround 2: 0.2334419816419482\n",
       "\tround 3: 0.1811397484153509\n",
       "\tround 4: 0.1350405248582363\n",
       "\tround 5: 0.1206499027621001\n",
       "History (metrics, distributed):\n",
       "{'accuracy': [(1, 0.9072), (2, 0.9336), (3, 0.9464), (4, 0.9584), (5, 0.9646)]}"
      ]
     },
     "execution_count": 4,
     "metadata": {},
     "output_type": "execute_result"
    }
   ],
   "source": [
    "run1"
   ]
  },
  {
   "cell_type": "code",
   "execution_count": 5,
   "metadata": {},
   "outputs": [
    {
     "data": {
      "text/plain": [
       "History (loss, distributed):\n",
       "\tround 1: 0.341917051410675\n",
       "\tround 2: 0.2334419816419482\n",
       "\tround 3: 0.1811397484153509\n",
       "\tround 4: 0.1350405248582363\n",
       "\tround 5: 0.1206499027621001\n",
       "History (metrics, distributed):\n",
       "{'accuracy': [(1, 0.9072), (2, 0.9336), (3, 0.9464), (4, 0.9584), (5, 0.9646)]}"
      ]
     },
     "execution_count": 5,
     "metadata": {},
     "output_type": "execute_result"
    }
   ],
   "source": [
    "run2"
   ]
  },
  {
   "cell_type": "code",
   "execution_count": 6,
   "metadata": {},
   "outputs": [
    {
     "name": "stderr",
     "output_type": "stream",
     "text": [
      "INFO flwr 2023-03-08 17:18:01,371 | app.py:177 | Starting Flower simulation, config: ServerConfig(num_rounds=5, round_timeout=None)\n",
      "2023-03-08 17:18:05,344\tINFO worker.py:1553 -- Started a local Ray instance.\n",
      "INFO flwr 2023-03-08 17:18:06,837 | app.py:211 | Flower VCE: Ray initialized with resources: {'object_store_memory': 2147483648.0, 'CPU': 10.0, 'node:127.0.0.1': 1.0, 'memory': 17010442240.0}\n",
      "INFO flwr 2023-03-08 17:18:07,325 | server.py:100 | Initializing global parameters\n",
      "INFO flwr 2023-03-08 17:18:07,362 | server.py:293 | Requesting initial parameters from one random client\n",
      "INFO flwr 2023-03-08 17:18:09,385 | server.py:297 | Received initial parameters from one random client\n",
      "INFO flwr 2023-03-08 17:18:09,385 | server.py:102 | Evaluating initial parameters\n",
      "INFO flwr 2023-03-08 17:18:09,386 | server.py:115 | FL starting\n",
      "DEBUG flwr 2023-03-08 17:18:09,386 | server.py:234 | fit_round 1: strategy sampled 5 clients (out of 10)\n",
      "DEBUG flwr 2023-03-08 17:18:17,723 | server.py:248 | fit_round 1 received 5 results and 0 failures\n",
      "WARNING flwr 2023-03-08 17:18:17,743 | fedavg.py:243 | No fit_metrics_aggregation_fn provided\n",
      "DEBUG flwr 2023-03-08 17:18:17,746 | server.py:179 | evaluate_round 1: strategy sampled 5 clients (out of 10)\n",
      "DEBUG flwr 2023-03-08 17:18:18,187 | server.py:193 | evaluate_round 1 received 5 results and 0 failures\n",
      "DEBUG flwr 2023-03-08 17:18:18,187 | server.py:234 | fit_round 2: strategy sampled 5 clients (out of 10)\n",
      "DEBUG flwr 2023-03-08 17:18:26,480 | server.py:248 | fit_round 2 received 5 results and 0 failures\n",
      "DEBUG flwr 2023-03-08 17:18:26,500 | server.py:179 | evaluate_round 2: strategy sampled 5 clients (out of 10)\n",
      "DEBUG flwr 2023-03-08 17:18:26,965 | server.py:193 | evaluate_round 2 received 5 results and 0 failures\n",
      "DEBUG flwr 2023-03-08 17:18:26,965 | server.py:234 | fit_round 3: strategy sampled 5 clients (out of 10)\n",
      "DEBUG flwr 2023-03-08 17:18:35,476 | server.py:248 | fit_round 3 received 5 results and 0 failures\n",
      "DEBUG flwr 2023-03-08 17:18:35,499 | server.py:179 | evaluate_round 3: strategy sampled 5 clients (out of 10)\n",
      "DEBUG flwr 2023-03-08 17:18:35,957 | server.py:193 | evaluate_round 3 received 5 results and 0 failures\n",
      "DEBUG flwr 2023-03-08 17:18:35,958 | server.py:234 | fit_round 4: strategy sampled 5 clients (out of 10)\n",
      "DEBUG flwr 2023-03-08 17:18:44,449 | server.py:248 | fit_round 4 received 5 results and 0 failures\n",
      "DEBUG flwr 2023-03-08 17:18:44,467 | server.py:179 | evaluate_round 4: strategy sampled 5 clients (out of 10)\n",
      "DEBUG flwr 2023-03-08 17:18:44,915 | server.py:193 | evaluate_round 4 received 5 results and 0 failures\n",
      "DEBUG flwr 2023-03-08 17:18:44,916 | server.py:234 | fit_round 5: strategy sampled 5 clients (out of 10)\n",
      "DEBUG flwr 2023-03-08 17:18:53,156 | server.py:248 | fit_round 5 received 5 results and 0 failures\n",
      "DEBUG flwr 2023-03-08 17:18:53,174 | server.py:179 | evaluate_round 5: strategy sampled 5 clients (out of 10)\n",
      "DEBUG flwr 2023-03-08 17:18:53,623 | server.py:193 | evaluate_round 5 received 5 results and 0 failures\n",
      "INFO flwr 2023-03-08 17:18:53,624 | server.py:158 | FL finished in 44.23775616599596\n",
      "INFO flwr 2023-03-08 17:18:53,627 | app.py:209 | app_fit: losses_distributed [(1, 0.3261045752644539), (2, 0.22692426733374596), (3, 0.1712837350204587), (4, 0.13125322770513595), (5, 0.10564676019698381)]\n",
      "INFO flwr 2023-03-08 17:18:53,627 | app.py:210 | app_fit: metrics_distributed {'accuracy': [(1, 0.908), (2, 0.9308), (3, 0.9506), (4, 0.9606), (5, 0.9668)]}\n",
      "INFO flwr 2023-03-08 17:18:53,628 | app.py:211 | app_fit: losses_centralized []\n",
      "INFO flwr 2023-03-08 17:18:53,628 | app.py:212 | app_fit: metrics_centralized {}\n"
     ]
    }
   ],
   "source": [
    "run3 = complete_run()"
   ]
  }
 ],
 "metadata": {
  "kernelspec": {
   "display_name": "flwr-mps",
   "language": "python",
   "name": "python3"
  },
  "language_info": {
   "codemirror_mode": {
    "name": "ipython",
    "version": 3
   },
   "file_extension": ".py",
   "mimetype": "text/x-python",
   "name": "python",
   "nbconvert_exporter": "python",
   "pygments_lexer": "ipython3",
   "version": "3.10.9"
  },
  "orig_nbformat": 4
 },
 "nbformat": 4,
 "nbformat_minor": 2
}
