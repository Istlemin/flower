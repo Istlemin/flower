{
 "cells": [
  {
   "cell_type": "code",
   "execution_count": 1,
   "metadata": {},
   "outputs": [
    {
     "name": "stderr",
     "output_type": "stream",
     "text": [
      "/home/fredrik/.local/lib/python3.10/site-packages/tqdm/auto.py:22: TqdmWarning: IProgress not found. Please update jupyter and ipywidgets. See https://ipywidgets.readthedocs.io/en/stable/user_install.html\n",
      "  from .autonotebook import tqdm as notebook_tqdm\n"
     ]
    }
   ],
   "source": [
    "import torch\n",
    "import flwr as fl\n",
    "from torch.utils.data import Dataset, Subset\n",
    "from torchvision.datasets import MNIST\n",
    "from torchvision.transforms import Compose, Normalize, ToTensor\n",
    "from client import get_client_generator, weighted_average_accuracy\n",
    "from dataset import partition_dataset\n",
    "from util import seed_everything\n",
    "from flwr.server.strategy import FedAvg\n",
    "\n",
    "transform = Compose([ToTensor(), Normalize((0.1307,), (0.3081,))])\n",
    "train_dataset = MNIST(\"./mnist\", train=True, download=True, transform=transform)\n",
    "val_dataset = MNIST(\"./mnist\", train=False, transform=transform)\n",
    "\n",
    "def complete_run(seed):\n",
    "    seed_everything(seed)\n",
    "\n",
    "    num_clients = 18\n",
    "    train_datasets = partition_dataset(train_dataset, num_clients)\n",
    "    val_datasets = partition_dataset(val_dataset, num_clients)\n",
    "    train_dataloaders = [torch.utils.data.DataLoader(dataset, batch_size=16, shuffle=True) for dataset in train_datasets]\n",
    "    val_dataloaders = [torch.utils.data.DataLoader(dataset, batch_size=16) for dataset in val_datasets]\n",
    "    client_resources = None\n",
    "    client_fn = get_client_generator(train_dataloaders, val_dataloaders)\n",
    "    client_config = {\n",
    "        \"lr\": 0.05,\n",
    "        \"epochs\": 1,\n",
    "    }\n",
    "    strategy = FedAvg(\n",
    "        min_fit_clients=2,\n",
    "        min_evaluate_clients=2,\n",
    "        min_available_clients=2,\n",
    "        fraction_fit=0.5,\n",
    "        fraction_evaluate=0.5,\n",
    "        on_fit_config_fn=lambda _: client_config,\n",
    "        on_evaluate_config_fn=lambda _: client_config,\n",
    "        evaluate_metrics_aggregation_fn=weighted_average_accuracy,\n",
    "    )\n",
    "    hist = fl.simulation.start_simulation(\n",
    "        client_fn=client_fn,\n",
    "        seed_fn=seed_everything,\n",
    "        seed=1234,\n",
    "        num_clients=num_clients,\n",
    "        config=fl.server.ServerConfig(num_rounds=1),\n",
    "        client_resources=client_resources,\n",
    "        strategy=strategy\n",
    "    )\n",
    "    return hist"
   ]
  },
  {
   "cell_type": "code",
   "execution_count": 2,
   "metadata": {},
   "outputs": [
    {
     "name": "stderr",
     "output_type": "stream",
     "text": [
      "INFO flwr 2023-03-08 12:41:26,428 | app.py:149 | Starting Flower simulation, config: ServerConfig(num_rounds=1, round_timeout=None)\n",
      "2023-03-08 12:41:28,168\tINFO worker.py:1553 -- Started a local Ray instance.\n",
      "INFO flwr 2023-03-08 12:41:29,011 | app.py:183 | Flower VCE: Ray initialized with resources: {'CPU': 12.0, 'memory': 5737567028.0, 'object_store_memory': 2868783513.0, 'node:172.17.96.211': 1.0}\n",
      "INFO flwr 2023-03-08 12:41:29,014 | server.py:96 | Initializing global parameters\n",
      "INFO flwr 2023-03-08 12:41:29,015 | server.py:291 | Requesting initial parameters from one random client\n"
     ]
    },
    {
     "name": "stdout",
     "output_type": "stream",
     "text": [
      "initial seed 0 1056700\n",
      "initial seed 1 3205573\n",
      "initial seed 2 9521250\n",
      "initial seed 3 3719574\n",
      "initial seed 4 4003310\n",
      "initial seed 5 2390659\n",
      "initial seed 6 9109859\n",
      "initial seed 7 7515682\n",
      "initial seed 8 1530349\n",
      "initial seed 9 1349656\n",
      "initial seed 10 5369625\n",
      "initial seed 11 8521829\n",
      "initial seed 12 8208870\n",
      "initial seed 13 1829687\n",
      "Start client: 12\n",
      "12 :  6390526\n"
     ]
    },
    {
     "name": "stderr",
     "output_type": "stream",
     "text": [
      "INFO flwr 2023-03-08 12:41:30,093 | server.py:296 | Received initial parameters from one random client\n",
      "INFO flwr 2023-03-08 12:41:30,094 | server.py:99 | Evaluating initial parameters\n",
      "INFO flwr 2023-03-08 12:41:30,094 | server.py:112 | FL starting\n",
      "DEBUG flwr 2023-03-08 12:41:30,095 | server.py:232 | fit_round 1: strategy sampled 7 clients (out of 14)\n"
     ]
    },
    {
     "name": "stdout",
     "output_type": "stream",
     "text": [
      "7 :  5236437\n",
      "1 :  8553978\n",
      "0 :  6244022\n",
      "12 :  8561430\n",
      "9 :  5413177\n",
      "11 :  3221233\n",
      "10 :  8792835\n",
      "\u001b[2m\u001b[36m(launch_and_fit pid=22598)\u001b[0m Before train: -5.256171226501465\n"
     ]
    },
    {
     "name": "stderr",
     "output_type": "stream",
     "text": [
      "DEBUG flwr 2023-03-08 12:41:32,181 | server.py:246 | fit_round 1 received 7 results and 0 failures\n"
     ]
    },
    {
     "name": "stdout",
     "output_type": "stream",
     "text": [
      "\u001b[2m\u001b[36m(launch_and_fit pid=22599)\u001b[0m Before train: -5.256171226501465\n",
      "\u001b[2m\u001b[36m(launch_and_fit pid=22593)\u001b[0m Before train: -5.256171226501465\n",
      "\u001b[2m\u001b[36m(launch_and_fit pid=22594)\u001b[0m Before train: -5.256171226501465\n",
      "\u001b[2m\u001b[36m(launch_and_fit pid=22595)\u001b[0m Before train: -5.256171226501465\n",
      "\u001b[2m\u001b[36m(launch_and_fit pid=22592)\u001b[0m Before train: -5.256171226501465\n"
     ]
    },
    {
     "name": "stderr",
     "output_type": "stream",
     "text": [
      "WARNING flwr 2023-03-08 12:41:32,216 | fedavg.py:243 | No fit_metrics_aggregation_fn provided\n",
      "DEBUG flwr 2023-03-08 12:41:32,217 | server.py:176 | evaluate_round 1: strategy sampled 7 clients (out of 14)\n"
     ]
    },
    {
     "name": "stdout",
     "output_type": "stream",
     "text": [
      "\u001b[2m\u001b[36m(launch_and_fit pid=22589)\u001b[0m Before train: -5.256171226501465\n",
      "5 :  5950579\n",
      "10 :  5698400\n",
      "9 :  2225242\n",
      "7 :  9562916\n",
      "11 :  5519838\n",
      "12 :  9918466\n",
      "2 :  7337212\n"
     ]
    },
    {
     "name": "stderr",
     "output_type": "stream",
     "text": [
      "DEBUG flwr 2023-03-08 12:41:33,736 | server.py:190 | evaluate_round 1 received 7 results and 0 failures\n",
      "INFO flwr 2023-03-08 12:41:33,737 | server.py:155 | FL finished in 3.64185025200004\n",
      "INFO flwr 2023-03-08 12:41:33,738 | app.py:209 | app_fit: losses_distributed [(1, 2.2934060990512313)]\n",
      "INFO flwr 2023-03-08 12:41:33,738 | app.py:210 | app_fit: metrics_distributed {'accuracy': [(1, 0.1252250450090018)]}\n",
      "INFO flwr 2023-03-08 12:41:33,738 | app.py:211 | app_fit: losses_centralized []\n",
      "INFO flwr 2023-03-08 12:41:33,739 | app.py:212 | app_fit: metrics_centralized {}\n"
     ]
    },
    {
     "name": "stdout",
     "output_type": "stream",
     "text": [
      "[2.2895233731309905, 2.296617921994848, 2.2934601273523327, 2.2919983957328047, 2.2943637431168757, 2.2952073094557646, 2.2926728495351085]\n",
      "2.2934060990512313\n"
     ]
    }
   ],
   "source": [
    "run1 = complete_run(0)"
   ]
  },
  {
   "cell_type": "code",
   "execution_count": 3,
   "metadata": {},
   "outputs": [
    {
     "name": "stderr",
     "output_type": "stream",
     "text": [
      "INFO flwr 2023-03-08 12:41:33,769 | app.py:149 | Starting Flower simulation, config: ServerConfig(num_rounds=1, round_timeout=None)\n",
      "2023-03-08 12:41:37,361\tINFO worker.py:1553 -- Started a local Ray instance.\n",
      "INFO flwr 2023-03-08 12:41:38,270 | app.py:183 | Flower VCE: Ray initialized with resources: {'node:172.17.96.211': 1.0, 'object_store_memory': 2836874035.0, 'memory': 5673748071.0, 'CPU': 12.0}\n",
      "INFO flwr 2023-03-08 12:41:38,272 | server.py:96 | Initializing global parameters\n",
      "INFO flwr 2023-03-08 12:41:38,272 | server.py:291 | Requesting initial parameters from one random client\n"
     ]
    },
    {
     "name": "stdout",
     "output_type": "stream",
     "text": [
      "initial seed 0 9521250\n",
      "initial seed 1 3719574\n",
      "initial seed 2 4003310\n",
      "initial seed 3 2390659\n",
      "initial seed 4 9109859\n",
      "initial seed 5 7515682\n",
      "initial seed 6 1530349\n",
      "initial seed 7 1349656\n",
      "initial seed 8 5369625\n",
      "initial seed 9 8521829\n",
      "initial seed 10 8208870\n",
      "initial seed 11 1829687\n",
      "initial seed 12 5057437\n",
      "initial seed 13 9248729\n",
      "Start client: 12\n",
      "12 :  3956067\n"
     ]
    },
    {
     "name": "stderr",
     "output_type": "stream",
     "text": [
      "INFO flwr 2023-03-08 12:41:39,374 | server.py:296 | Received initial parameters from one random client\n",
      "INFO flwr 2023-03-08 12:41:39,375 | server.py:99 | Evaluating initial parameters\n",
      "INFO flwr 2023-03-08 12:41:39,376 | server.py:112 | FL starting\n",
      "DEBUG flwr 2023-03-08 12:41:39,377 | server.py:232 | fit_round 1: strategy sampled 7 clients (out of 14)\n"
     ]
    },
    {
     "name": "stdout",
     "output_type": "stream",
     "text": [
      "7 :  5413177\n",
      "1 :  6496145\n",
      "0 :  7337212\n",
      "12 :  6461483\n",
      "9 :  3221233\n",
      "11 :  4145649\n",
      "10 :  6390526\n",
      "\u001b[2m\u001b[36m(launch_and_fit pid=23471)\u001b[0m Before train: -10.768680572509766\n",
      "\u001b[2m\u001b[36m(launch_and_fit pid=23468)\u001b[0m Before train: -10.768680572509766\n",
      "\u001b[2m\u001b[36m(launch_and_fit pid=23466)\u001b[0m Before train: -10.768680572509766\n",
      "\u001b[2m\u001b[36m(launch_and_fit pid=23463)\u001b[0m Before train: -10.768680572509766\n",
      "\u001b[2m\u001b[36m(launch_and_fit pid=23473)\u001b[0m Before train: -10.768680572509766\n",
      "\u001b[2m\u001b[36m(launch_and_fit pid=23472)\u001b[0m Before train: -10.768680572509766\n"
     ]
    },
    {
     "name": "stderr",
     "output_type": "stream",
     "text": [
      "DEBUG flwr 2023-03-08 12:41:41,412 | server.py:246 | fit_round 1 received 7 results and 0 failures\n",
      "WARNING flwr 2023-03-08 12:41:41,443 | fedavg.py:243 | No fit_metrics_aggregation_fn provided\n",
      "DEBUG flwr 2023-03-08 12:41:41,444 | server.py:176 | evaluate_round 1: strategy sampled 7 clients (out of 14)\n"
     ]
    },
    {
     "name": "stdout",
     "output_type": "stream",
     "text": [
      "\u001b[2m\u001b[36m(launch_and_fit pid=23464)\u001b[0m Before train: -10.768680572509766\n",
      "5 :  5236437\n",
      "10 :  8561430\n",
      "9 :  5519838\n",
      "7 :  2225242\n",
      "11 :  3466020\n",
      "12 :  812637\n",
      "2 :  2861705\n"
     ]
    },
    {
     "name": "stderr",
     "output_type": "stream",
     "text": [
      "DEBUG flwr 2023-03-08 12:41:42,962 | server.py:190 | evaluate_round 1 received 7 results and 0 failures\n",
      "INFO flwr 2023-03-08 12:41:42,963 | server.py:155 | FL finished in 3.586099347999607\n",
      "INFO flwr 2023-03-08 12:41:42,963 | app.py:209 | app_fit: losses_distributed [(1, 2.3025300265741624)]\n",
      "INFO flwr 2023-03-08 12:41:42,964 | app.py:210 | app_fit: metrics_distributed {'accuracy': [(1, 0.10702140428085617)]}\n",
      "INFO flwr 2023-03-08 12:41:42,964 | app.py:211 | app_fit: losses_centralized []\n",
      "INFO flwr 2023-03-08 12:41:42,965 | app.py:212 | app_fit: metrics_centralized {}\n"
     ]
    },
    {
     "name": "stdout",
     "output_type": "stream",
     "text": [
      "[2.2990310011791584, 2.301396944275757, 2.306243292757777, 2.299610453159535, 2.300124534371854, 2.3056185612825453, 2.305680985884233]\n",
      "2.3025300265741624\n"
     ]
    }
   ],
   "source": [
    "run2 = complete_run(0)"
   ]
  },
  {
   "cell_type": "code",
   "execution_count": 4,
   "metadata": {},
   "outputs": [
    {
     "data": {
      "text/plain": [
       "History (loss, distributed):\n",
       "\tround 1: 2.2934060990512313\n",
       "History (metrics, distributed):\n",
       "{'accuracy': [(1, 0.1252250450090018)]}"
      ]
     },
     "execution_count": 4,
     "metadata": {},
     "output_type": "execute_result"
    }
   ],
   "source": [
    "run1"
   ]
  },
  {
   "cell_type": "code",
   "execution_count": 5,
   "metadata": {},
   "outputs": [
    {
     "data": {
      "text/plain": [
       "History (loss, distributed):\n",
       "\tround 1: 2.3025300265741624\n",
       "History (metrics, distributed):\n",
       "{'accuracy': [(1, 0.10702140428085617)]}"
      ]
     },
     "execution_count": 5,
     "metadata": {},
     "output_type": "execute_result"
    }
   ],
   "source": [
    "run2"
   ]
  },
  {
   "cell_type": "code",
   "execution_count": null,
   "metadata": {},
   "outputs": [],
   "source": []
  }
 ],
 "metadata": {
  "kernelspec": {
   "display_name": "flwr-mps",
   "language": "python",
   "name": "python3"
  },
  "language_info": {
   "codemirror_mode": {
    "name": "ipython",
    "version": 3
   },
   "file_extension": ".py",
   "mimetype": "text/x-python",
   "name": "python",
   "nbconvert_exporter": "python",
   "pygments_lexer": "ipython3",
   "version": "3.10.9"
  },
  "orig_nbformat": 4
 },
 "nbformat": 4,
 "nbformat_minor": 2
}
