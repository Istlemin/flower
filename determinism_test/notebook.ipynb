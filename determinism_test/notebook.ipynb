{
 "cells": [
  {
   "cell_type": "code",
   "execution_count": 1,
   "metadata": {},
   "outputs": [
    {
     "name": "stderr",
     "output_type": "stream",
     "text": [
      "/home/fredrik/.local/lib/python3.10/site-packages/tqdm/auto.py:22: TqdmWarning: IProgress not found. Please update jupyter and ipywidgets. See https://ipywidgets.readthedocs.io/en/stable/user_install.html\n",
      "  from .autonotebook import tqdm as notebook_tqdm\n"
     ]
    }
   ],
   "source": [
    "import torch\n",
    "import flwr as fl\n",
    "from torch.utils.data import Dataset, Subset\n",
    "from torchvision.datasets import MNIST\n",
    "from torchvision.transforms import Compose, Normalize, ToTensor\n",
    "from client import get_client_generator, weighted_average_accuracy\n",
    "from dataset import partition_dataset\n",
    "from util import seed_everything\n",
    "from flwr.server.strategy import FedAvg\n",
    "\n",
    "transform = Compose([ToTensor(), Normalize((0.1307,), (0.3081,))])\n",
    "train_dataset = MNIST(\"./mnist\", train=True, download=True, transform=transform)\n",
    "val_dataset = MNIST(\"./mnist\", train=False, transform=transform)\n",
    "\n",
    "def complete_run(seed):\n",
    "    seed_everything(seed)\n",
    "\n",
    "    num_clients = 10\n",
    "    train_datasets = partition_dataset(train_dataset, num_clients)\n",
    "    val_datasets = partition_dataset(val_dataset, num_clients)\n",
    "    train_dataloaders = [torch.utils.data.DataLoader(dataset, batch_size=16, shuffle=True) for dataset in train_datasets]\n",
    "    val_dataloaders = [torch.utils.data.DataLoader(dataset, batch_size=16) for dataset in val_datasets]\n",
    "    client_resources = None\n",
    "    client_fn = get_client_generator(train_dataloaders, val_dataloaders)\n",
    "    client_config = {\n",
    "        \"lr\": 0.05,\n",
    "        \"epochs\": 1,\n",
    "    }\n",
    "    strategy = FedAvg(\n",
    "        min_fit_clients=2,\n",
    "        min_evaluate_clients=2,\n",
    "        min_available_clients=2,\n",
    "        fraction_fit=0.5,\n",
    "        fraction_evaluate=0.5,\n",
    "        on_fit_config_fn=lambda _: client_config,\n",
    "        on_evaluate_config_fn=lambda _: client_config,\n",
    "        evaluate_metrics_aggregation_fn=weighted_average_accuracy,\n",
    "    )\n",
    "    hist = fl.simulation.start_simulation(\n",
    "        client_fn=client_fn,\n",
    "        num_clients=num_clients,\n",
    "        config=fl.server.ServerConfig(num_rounds=10),\n",
    "        client_resources=client_resources,\n",
    "        strategy=strategy\n",
    "    )\n",
    "    return hist"
   ]
  },
  {
   "cell_type": "code",
   "execution_count": 2,
   "metadata": {},
   "outputs": [
    {
     "name": "stderr",
     "output_type": "stream",
     "text": [
      "INFO flwr 2023-03-06 15:35:49,762 | app.py:147 | Starting Flower simulation, config: ServerConfig(num_rounds=10, round_timeout=None)\n",
      "2023-03-06 15:35:51,757\tINFO worker.py:1553 -- Started a local Ray instance.\n",
      "INFO flwr 2023-03-06 15:35:52,558 | app.py:181 | Flower VCE: Ray initialized with resources: {'object_store_memory': 2517962342.0, 'CPU': 12.0, 'memory': 5035924686.0, 'node:172.25.58.94': 1.0}\n",
      "INFO flwr 2023-03-06 15:35:52,559 | server.py:86 | Initializing global parameters\n",
      "INFO flwr 2023-03-06 15:35:52,560 | server.py:271 | Requesting initial parameters from one random client\n"
     ]
    },
    {
     "name": "stdout",
     "output_type": "stream",
     "text": [
      "Deterministic sample: 87798\n"
     ]
    },
    {
     "name": "stderr",
     "output_type": "stream",
     "text": [
      "INFO flwr 2023-03-06 15:35:53,455 | server.py:275 | Received initial parameters from one random client\n",
      "INFO flwr 2023-03-06 15:35:53,456 | server.py:88 | Evaluating initial parameters\n",
      "INFO flwr 2023-03-06 15:35:53,456 | server.py:101 | FL starting\n",
      "DEBUG flwr 2023-03-06 15:35:53,457 | server.py:216 | fit_round 1: strategy sampled 5 clients (out of 10)\n",
      "DEBUG flwr 2023-03-06 15:35:54,747 | server.py:230 | fit_round 1 received 5 results and 0 failures\n",
      "WARNING flwr 2023-03-06 15:35:54,779 | fedavg.py:248 | No fit_metrics_aggregation_fn provided\n",
      "DEBUG flwr 2023-03-06 15:35:54,780 | server.py:165 | evaluate_round 1: strategy sampled 5 clients (out of 10)\n"
     ]
    },
    {
     "name": "stdout",
     "output_type": "stream",
     "text": [
      "model: -9.420576959848404\n",
      "model: -7.540801119059324\n",
      "model: -11.125018235296011\n",
      "model: -1.988593690097332\n",
      "model: -4.645153805613518\n",
      "-1.988593690097332 6000\n",
      "-7.540801119059324 6000\n",
      "-11.125018235296011 6000\n",
      "-9.420576959848404 6000\n",
      "-4.645153805613518 6000\n",
      "Aggregated model: -6.94402975961566\n",
      "Aggregated model2: -6.944027714431286\n"
     ]
    },
    {
     "name": "stderr",
     "output_type": "stream",
     "text": [
      "DEBUG flwr 2023-03-06 15:35:55,018 | server.py:179 | evaluate_round 1 received 5 results and 0 failures\n",
      "DEBUG flwr 2023-03-06 15:35:55,019 | server.py:216 | fit_round 2: strategy sampled 5 clients (out of 10)\n"
     ]
    },
    {
     "name": "stdout",
     "output_type": "stream",
     "text": [
      "[0.03681830978393555, 0.03687248992919922, 0.036820213317871095, 0.03677233505249024, 0.03695048522949219]\n",
      "(0.03684676666259765, {'accuracy': 0.0016})\n"
     ]
    },
    {
     "name": "stderr",
     "output_type": "stream",
     "text": [
      "DEBUG flwr 2023-03-06 15:35:55,336 | server.py:230 | fit_round 2 received 5 results and 0 failures\n",
      "DEBUG flwr 2023-03-06 15:35:55,365 | server.py:165 | evaluate_round 2: strategy sampled 5 clients (out of 10)\n"
     ]
    },
    {
     "name": "stdout",
     "output_type": "stream",
     "text": [
      "model: -1.3813256323337555\n",
      "model: 0.4445279948413372\n",
      "model: -6.340255677700043\n",
      "model: -9.502391442656517\n",
      "model: -9.665154352784157\n",
      "-6.340255677700043 6000\n",
      "-9.502391442656517 6000\n",
      "-9.665154352784157 6000\n",
      "-1.3813256323337555 6000\n",
      "0.4445279948413372 6000\n",
      "Aggregated model: -5.288920424878597\n",
      "Aggregated model2: -5.288921877741814\n"
     ]
    },
    {
     "name": "stderr",
     "output_type": "stream",
     "text": [
      "DEBUG flwr 2023-03-06 15:35:55,625 | server.py:179 | evaluate_round 2 received 5 results and 0 failures\n",
      "DEBUG flwr 2023-03-06 15:35:55,625 | server.py:216 | fit_round 3: strategy sampled 5 clients (out of 10)\n"
     ]
    },
    {
     "name": "stdout",
     "output_type": "stream",
     "text": [
      "[0.03700170516967773, 0.036748619079589845, 0.03670878982543945, 0.03625650024414063, 0.03640460968017578]\n",
      "(0.03662404479980469, {'accuracy': 0.0016})\n"
     ]
    },
    {
     "name": "stderr",
     "output_type": "stream",
     "text": [
      "DEBUG flwr 2023-03-06 15:35:55,967 | server.py:230 | fit_round 3 received 5 results and 0 failures\n",
      "DEBUG flwr 2023-03-06 15:35:56,010 | server.py:165 | evaluate_round 3: strategy sampled 5 clients (out of 10)\n"
     ]
    },
    {
     "name": "stdout",
     "output_type": "stream",
     "text": [
      "model: -5.872557293623686\n",
      "model: -4.0122398510575294\n",
      "model: -3.2299288511276245\n",
      "model: 0.2852197103202343\n",
      "model: 0.8204558081924915\n",
      "0.8204558081924915 6000\n",
      "-3.2299288511276245 6000\n",
      "-5.872557293623686 6000\n",
      "-4.0122398510575294 6000\n",
      "0.2852197103202343 6000\n",
      "Aggregated model: -2.401809599250555\n",
      "Aggregated model2: -2.4018092453479767\n"
     ]
    },
    {
     "name": "stderr",
     "output_type": "stream",
     "text": [
      "DEBUG flwr 2023-03-06 15:35:56,234 | server.py:179 | evaluate_round 3 received 5 results and 0 failures\n",
      "DEBUG flwr 2023-03-06 15:35:56,235 | server.py:216 | fit_round 4: strategy sampled 5 clients (out of 10)\n"
     ]
    },
    {
     "name": "stdout",
     "output_type": "stream",
     "text": [
      "[0.03665512847900391, 0.03627961349487305, 0.036731029510498045, 0.03619485473632812, 0.03659749984741211]\n",
      "(0.03649162521362305, {'accuracy': 0.0024})\n"
     ]
    },
    {
     "name": "stderr",
     "output_type": "stream",
     "text": [
      "DEBUG flwr 2023-03-06 15:35:56,514 | server.py:230 | fit_round 4 received 5 results and 0 failures\n",
      "DEBUG flwr 2023-03-06 15:35:56,546 | server.py:165 | evaluate_round 4: strategy sampled 5 clients (out of 10)\n"
     ]
    },
    {
     "name": "stdout",
     "output_type": "stream",
     "text": [
      "model: -2.9237152002751827\n",
      "model: 10.91481514275074\n",
      "model: 2.144663117825985\n",
      "model: 5.261254828423262\n",
      "model: -2.0847796499729156\n",
      "-2.0847796499729156 6000\n",
      "-2.9237152002751827 6000\n",
      "2.144663117825985 6000\n",
      "10.91481514275074 6000\n",
      "5.261254828423262 6000\n",
      "Aggregated model: 2.6624484546482563\n",
      "Aggregated model2: 2.662447717040777\n"
     ]
    },
    {
     "name": "stderr",
     "output_type": "stream",
     "text": [
      "DEBUG flwr 2023-03-06 15:35:56,783 | server.py:179 | evaluate_round 4 received 5 results and 0 failures\n",
      "DEBUG flwr 2023-03-06 15:35:56,783 | server.py:216 | fit_round 5: strategy sampled 5 clients (out of 10)\n"
     ]
    },
    {
     "name": "stdout",
     "output_type": "stream",
     "text": [
      "[0.036496402740478516, 0.036488445281982425, 0.0365917854309082, 0.03670556640625, 0.03593280029296875]\n",
      "(0.03644300003051758, {'accuracy': 0.0036})\n"
     ]
    },
    {
     "name": "stderr",
     "output_type": "stream",
     "text": [
      "DEBUG flwr 2023-03-06 15:35:57,076 | server.py:230 | fit_round 5 received 5 results and 0 failures\n",
      "DEBUG flwr 2023-03-06 15:35:57,109 | server.py:165 | evaluate_round 5: strategy sampled 5 clients (out of 10)\n"
     ]
    },
    {
     "name": "stdout",
     "output_type": "stream",
     "text": [
      "model: 7.788233019411564\n",
      "model: 5.44713169336319\n",
      "model: 3.6319235749542713\n",
      "model: 11.53307182341814\n",
      "model: 10.17601003497839\n",
      "10.17601003497839 6000\n",
      "7.788233019411564 6000\n",
      "5.44713169336319 6000\n",
      "3.6319235749542713 6000\n",
      "11.53307182341814 6000\n",
      "Aggregated model: 7.715271778404713\n",
      "Aggregated model2: 7.715274930000305\n"
     ]
    },
    {
     "name": "stderr",
     "output_type": "stream",
     "text": [
      "DEBUG flwr 2023-03-06 15:35:57,321 | server.py:179 | evaluate_round 5 received 5 results and 0 failures\n",
      "DEBUG flwr 2023-03-06 15:35:57,322 | server.py:216 | fit_round 6: strategy sampled 5 clients (out of 10)\n"
     ]
    },
    {
     "name": "stdout",
     "output_type": "stream",
     "text": [
      "[0.036030448913574216, 0.036525924682617186, 0.03648155975341797, 0.03577874374389649, 0.03637594985961914]\n",
      "(0.036238525390625, {'accuracy': 0.004})\n"
     ]
    },
    {
     "name": "stderr",
     "output_type": "stream",
     "text": [
      "DEBUG flwr 2023-03-06 15:35:57,601 | server.py:230 | fit_round 6 received 5 results and 0 failures\n",
      "DEBUG flwr 2023-03-06 15:35:57,641 | server.py:165 | evaluate_round 6: strategy sampled 5 clients (out of 10)\n"
     ]
    },
    {
     "name": "stdout",
     "output_type": "stream",
     "text": [
      "model: 23.312535889446735\n",
      "model: 13.785882990807295\n",
      "model: 14.408709611743689\n",
      "model: 12.089552521705627\n",
      "model: 10.84666571766138\n",
      "13.785882990807295 6000\n",
      "10.84666571766138 6000\n",
      "14.408709611743689 6000\n",
      "12.089552521705627 6000\n",
      "23.312535889446735 6000\n",
      "Aggregated model: 14.888671297580004\n",
      "Aggregated model2: 14.888671141117811\n"
     ]
    },
    {
     "name": "stderr",
     "output_type": "stream",
     "text": [
      "DEBUG flwr 2023-03-06 15:35:57,885 | server.py:179 | evaluate_round 6 received 5 results and 0 failures\n",
      "DEBUG flwr 2023-03-06 15:35:57,886 | server.py:216 | fit_round 7: strategy sampled 5 clients (out of 10)\n"
     ]
    },
    {
     "name": "stdout",
     "output_type": "stream",
     "text": [
      "[0.03552203750610351, 0.03610724258422852, 0.035856777191162106, 0.03611715698242188, 0.036446617126464846]\n",
      "(0.03600996627807617, {'accuracy': 0.0058})\n"
     ]
    },
    {
     "name": "stderr",
     "output_type": "stream",
     "text": [
      "DEBUG flwr 2023-03-06 15:35:58,161 | server.py:230 | fit_round 7 received 5 results and 0 failures\n",
      "DEBUG flwr 2023-03-06 15:35:58,195 | server.py:165 | evaluate_round 7: strategy sampled 5 clients (out of 10)\n"
     ]
    },
    {
     "name": "stdout",
     "output_type": "stream",
     "text": [
      "model: 21.890782479196787\n",
      "model: 19.55247811973095\n",
      "model: 24.004149459302425\n",
      "model: 17.729035332798958\n",
      "model: 32.417233254760504\n",
      "21.890782479196787 6000\n",
      "19.55247811973095 6000\n",
      "17.729035332798958 6000\n",
      "32.417233254760504 6000\n",
      "24.004149459302425 6000\n",
      "Aggregated model: 23.11873084306717\n",
      "Aggregated model2: 23.11872961372137\n"
     ]
    },
    {
     "name": "stderr",
     "output_type": "stream",
     "text": [
      "DEBUG flwr 2023-03-06 15:35:58,415 | server.py:179 | evaluate_round 7 received 5 results and 0 failures\n",
      "DEBUG flwr 2023-03-06 15:35:58,416 | server.py:216 | fit_round 8: strategy sampled 5 clients (out of 10)\n"
     ]
    },
    {
     "name": "stdout",
     "output_type": "stream",
     "text": [
      "[0.03531420135498047, 0.03524895095825195, 0.03615528869628906, 0.035711597442626954, 0.03591208648681641]\n",
      "(0.03566842498779297, {'accuracy': 0.005})\n"
     ]
    },
    {
     "name": "stderr",
     "output_type": "stream",
     "text": [
      "DEBUG flwr 2023-03-06 15:35:58,703 | server.py:230 | fit_round 8 received 5 results and 0 failures\n",
      "DEBUG flwr 2023-03-06 15:35:58,736 | server.py:165 | evaluate_round 8: strategy sampled 5 clients (out of 10)\n"
     ]
    },
    {
     "name": "stdout",
     "output_type": "stream",
     "text": [
      "model: 26.867137528955936\n",
      "model: 26.78454204648733\n",
      "model: 25.72195853665471\n",
      "model: 32.71415975689888\n",
      "model: 28.60040857642889\n",
      "25.72195853665471 6000\n",
      "26.78454204648733 6000\n",
      "28.60040857642889 6000\n",
      "26.867137528955936 6000\n",
      "32.71415975689888 6000\n",
      "Aggregated model: 28.13764127343893\n",
      "Aggregated model2: 28.137640576809645\n"
     ]
    },
    {
     "name": "stderr",
     "output_type": "stream",
     "text": [
      "DEBUG flwr 2023-03-06 15:35:58,948 | server.py:179 | evaluate_round 8 received 5 results and 0 failures\n",
      "DEBUG flwr 2023-03-06 15:35:58,949 | server.py:216 | fit_round 9: strategy sampled 5 clients (out of 10)\n"
     ]
    },
    {
     "name": "stdout",
     "output_type": "stream",
     "text": [
      "[0.035774856567382815, 0.035911201477050785, 0.03567884826660156, 0.03576622772216797, 0.035218746185302734]\n",
      "(0.035669976043701174, {'accuracy': 0.0052})\n"
     ]
    },
    {
     "name": "stderr",
     "output_type": "stream",
     "text": [
      "DEBUG flwr 2023-03-06 15:35:59,203 | server.py:230 | fit_round 9 received 5 results and 0 failures\n",
      "DEBUG flwr 2023-03-06 15:35:59,234 | server.py:165 | evaluate_round 9: strategy sampled 5 clients (out of 10)\n"
     ]
    },
    {
     "name": "stdout",
     "output_type": "stream",
     "text": [
      "model: 45.123354867100716\n",
      "model: 40.36804498359561\n",
      "model: 34.34897584095597\n",
      "model: 34.08870534226298\n",
      "model: 32.086887411773205\n",
      "34.08870534226298 6000\n",
      "34.34897584095597 6000\n",
      "32.086887411773205 6000\n",
      "45.123354867100716 6000\n",
      "40.36804498359561 6000\n",
      "Aggregated model: 37.20320002734661\n",
      "Aggregated model2: 37.203196600079536\n"
     ]
    },
    {
     "name": "stderr",
     "output_type": "stream",
     "text": [
      "DEBUG flwr 2023-03-06 15:35:59,431 | server.py:179 | evaluate_round 9 received 5 results and 0 failures\n",
      "DEBUG flwr 2023-03-06 15:35:59,431 | server.py:216 | fit_round 10: strategy sampled 5 clients (out of 10)\n"
     ]
    },
    {
     "name": "stdout",
     "output_type": "stream",
     "text": [
      "[0.034827594757080076, 0.03592189788818359, 0.035562103271484374, 0.035985328674316405, 0.034918067932128906]\n",
      "(0.035442998504638674, {'accuracy': 0.0058})\n"
     ]
    },
    {
     "name": "stderr",
     "output_type": "stream",
     "text": [
      "DEBUG flwr 2023-03-06 15:35:59,694 | server.py:230 | fit_round 10 received 5 results and 0 failures\n",
      "DEBUG flwr 2023-03-06 15:35:59,728 | server.py:165 | evaluate_round 10: strategy sampled 5 clients (out of 10)\n"
     ]
    },
    {
     "name": "stdout",
     "output_type": "stream",
     "text": [
      "model: 41.05893877148628\n",
      "model: 52.184034772217274\n",
      "model: 46.33272073045373\n",
      "model: 46.06800040230155\n",
      "model: 40.239669401198626\n",
      "46.06800040230155 6000\n",
      "40.239669401198626 6000\n",
      "41.05893877148628 6000\n",
      "46.33272073045373 6000\n",
      "52.184034772217274 6000\n",
      "Aggregated model: 45.176663130521774\n",
      "Aggregated model2: 45.1766699180007\n"
     ]
    },
    {
     "name": "stderr",
     "output_type": "stream",
     "text": [
      "DEBUG flwr 2023-03-06 15:35:59,964 | server.py:179 | evaluate_round 10 received 5 results and 0 failures\n",
      "INFO flwr 2023-03-06 15:35:59,965 | server.py:144 | FL finished in 6.508090944999822\n",
      "INFO flwr 2023-03-06 15:35:59,966 | app.py:205 | app_fit: losses_distributed [(1, 0.03684676666259765), (2, 0.03662404479980469), (3, 0.03649162521362305), (4, 0.03644300003051758), (5, 0.036238525390625), (6, 0.03600996627807617), (7, 0.03566842498779297), (8, 0.035669976043701174), (9, 0.035442998504638674), (10, 0.03538527297973633)]\n",
      "INFO flwr 2023-03-06 15:35:59,967 | app.py:206 | app_fit: metrics_distributed {'accuracy': [(1, 0.0016), (2, 0.0016), (3, 0.0024), (4, 0.0036), (5, 0.004), (6, 0.0058), (7, 0.005), (8, 0.0052), (9, 0.0058), (10, 0.006)]}\n",
      "INFO flwr 2023-03-06 15:35:59,967 | app.py:207 | app_fit: losses_centralized []\n",
      "INFO flwr 2023-03-06 15:35:59,967 | app.py:208 | app_fit: metrics_centralized {}\n"
     ]
    },
    {
     "name": "stdout",
     "output_type": "stream",
     "text": [
      "[0.03533141326904297, 0.0358226432800293, 0.034452056884765624, 0.03574044036865234, 0.035579811096191405]\n",
      "(0.03538527297973633, {'accuracy': 0.006})\n"
     ]
    }
   ],
   "source": [
    "run1 = complete_run(0)"
   ]
  },
  {
   "cell_type": "code",
   "execution_count": 3,
   "metadata": {},
   "outputs": [
    {
     "name": "stderr",
     "output_type": "stream",
     "text": [
      "INFO flwr 2023-03-06 15:36:00,009 | app.py:147 | Starting Flower simulation, config: ServerConfig(num_rounds=10, round_timeout=None)\n",
      "2023-03-06 15:36:04,071\tINFO worker.py:1553 -- Started a local Ray instance.\n",
      "INFO flwr 2023-03-06 15:36:04,962 | app.py:181 | Flower VCE: Ray initialized with resources: {'object_store_memory': 2532972134.0, 'memory': 5065944270.0, 'CPU': 12.0, 'node:172.25.58.94': 1.0}\n",
      "INFO flwr 2023-03-06 15:36:04,964 | server.py:86 | Initializing global parameters\n",
      "INFO flwr 2023-03-06 15:36:04,965 | server.py:271 | Requesting initial parameters from one random client\n",
      "\u001b[2m\u001b[33m(raylet)\u001b[0m /home/fredrik/anaconda3/envs/fldet/lib/python3.10/site-packages/ray/dashboard/agent.py:51: DeprecationWarning: There is no current event loop\n",
      "\u001b[2m\u001b[33m(raylet)\u001b[0m   aiogrpc.init_grpc_aio()\n"
     ]
    },
    {
     "name": "stdout",
     "output_type": "stream",
     "text": [
      "Deterministic sample: 87798\n"
     ]
    },
    {
     "name": "stderr",
     "output_type": "stream",
     "text": [
      "INFO flwr 2023-03-06 15:36:05,871 | server.py:275 | Received initial parameters from one random client\n",
      "INFO flwr 2023-03-06 15:36:05,872 | server.py:88 | Evaluating initial parameters\n",
      "INFO flwr 2023-03-06 15:36:05,872 | server.py:101 | FL starting\n",
      "DEBUG flwr 2023-03-06 15:36:05,873 | server.py:216 | fit_round 1: strategy sampled 5 clients (out of 10)\n",
      "DEBUG flwr 2023-03-06 15:36:07,299 | server.py:230 | fit_round 1 received 5 results and 0 failures\n",
      "WARNING flwr 2023-03-06 15:36:07,334 | fedavg.py:248 | No fit_metrics_aggregation_fn provided\n",
      "DEBUG flwr 2023-03-06 15:36:07,335 | server.py:165 | evaluate_round 1: strategy sampled 5 clients (out of 10)\n"
     ]
    },
    {
     "name": "stdout",
     "output_type": "stream",
     "text": [
      "model: -7.540801119059324\n",
      "model: -9.420576959848404\n",
      "model: -11.125018235296011\n",
      "model: -4.645153805613518\n",
      "model: -1.988593690097332\n",
      "-1.988593690097332 6000\n",
      "-7.540801119059324 6000\n",
      "-11.125018235296011 6000\n",
      "-9.420576959848404 6000\n",
      "-4.645153805613518 6000\n",
      "Aggregated model: -6.94402975961566\n",
      "Aggregated model2: -6.944027714431286\n"
     ]
    },
    {
     "name": "stderr",
     "output_type": "stream",
     "text": [
      "DEBUG flwr 2023-03-06 15:36:07,750 | server.py:179 | evaluate_round 1 received 5 results and 0 failures\n",
      "DEBUG flwr 2023-03-06 15:36:07,751 | server.py:216 | fit_round 2: strategy sampled 5 clients (out of 10)\n"
     ]
    },
    {
     "name": "stdout",
     "output_type": "stream",
     "text": [
      "[0.03681830978393555, 0.03677233505249024, 0.036820213317871095, 0.03695048522949219, 0.03687248992919922]\n",
      "(0.03684676666259765, {'accuracy': 0.0016})\n"
     ]
    },
    {
     "name": "stderr",
     "output_type": "stream",
     "text": [
      "DEBUG flwr 2023-03-06 15:36:08,064 | server.py:230 | fit_round 2 received 5 results and 0 failures\n",
      "DEBUG flwr 2023-03-06 15:36:08,093 | server.py:165 | evaluate_round 2: strategy sampled 5 clients (out of 10)\n"
     ]
    },
    {
     "name": "stdout",
     "output_type": "stream",
     "text": [
      "model: -9.665154352784157\n",
      "model: -6.340255677700043\n",
      "model: -1.3813256323337555\n",
      "model: -9.502391442656517\n",
      "model: 0.4445279948413372\n",
      "-6.340255677700043 6000\n",
      "-9.502391442656517 6000\n",
      "-9.665154352784157 6000\n",
      "-1.3813256323337555 6000\n",
      "0.4445279948413372 6000\n",
      "Aggregated model: -5.288920424878597\n",
      "Aggregated model2: -5.288921877741814\n"
     ]
    },
    {
     "name": "stderr",
     "output_type": "stream",
     "text": [
      "DEBUG flwr 2023-03-06 15:36:08,414 | server.py:179 | evaluate_round 2 received 5 results and 0 failures\n",
      "DEBUG flwr 2023-03-06 15:36:08,415 | server.py:216 | fit_round 3: strategy sampled 5 clients (out of 10)\n"
     ]
    },
    {
     "name": "stdout",
     "output_type": "stream",
     "text": [
      "[0.03700170516967773, 0.03670878982543945, 0.03640460968017578, 0.036748619079589845, 0.03625650024414063]\n",
      "(0.03662404479980469, {'accuracy': 0.0016})\n"
     ]
    },
    {
     "name": "stderr",
     "output_type": "stream",
     "text": [
      "DEBUG flwr 2023-03-06 15:36:08,695 | server.py:230 | fit_round 3 received 5 results and 0 failures\n",
      "DEBUG flwr 2023-03-06 15:36:08,728 | server.py:165 | evaluate_round 3: strategy sampled 5 clients (out of 10)\n"
     ]
    },
    {
     "name": "stdout",
     "output_type": "stream",
     "text": [
      "model: -3.2299288511276245\n",
      "model: 0.2852197103202343\n",
      "model: -4.0122398510575294\n",
      "model: 0.8204558081924915\n",
      "model: -5.872557293623686\n",
      "0.8204558081924915 6000\n",
      "-3.2299288511276245 6000\n",
      "-5.872557293623686 6000\n",
      "-4.0122398510575294 6000\n",
      "0.2852197103202343 6000\n",
      "Aggregated model: -2.401809599250555\n",
      "Aggregated model2: -2.4018092453479767\n"
     ]
    },
    {
     "name": "stderr",
     "output_type": "stream",
     "text": [
      "DEBUG flwr 2023-03-06 15:36:08,945 | server.py:179 | evaluate_round 3 received 5 results and 0 failures\n",
      "DEBUG flwr 2023-03-06 15:36:08,946 | server.py:216 | fit_round 4: strategy sampled 5 clients (out of 10)\n"
     ]
    },
    {
     "name": "stdout",
     "output_type": "stream",
     "text": [
      "[0.036731029510498045, 0.03665512847900391, 0.03619485473632812, 0.03659749984741211, 0.03627961349487305]\n",
      "(0.03649162521362305, {'accuracy': 0.0024})\n"
     ]
    },
    {
     "name": "stderr",
     "output_type": "stream",
     "text": [
      "DEBUG flwr 2023-03-06 15:36:09,370 | server.py:230 | fit_round 4 received 5 results and 0 failures\n",
      "DEBUG flwr 2023-03-06 15:36:09,403 | server.py:165 | evaluate_round 4: strategy sampled 5 clients (out of 10)\n"
     ]
    },
    {
     "name": "stdout",
     "output_type": "stream",
     "text": [
      "model: -2.9237152002751827\n",
      "model: 5.261254828423262\n",
      "model: -2.0847796499729156\n",
      "model: 10.91481514275074\n",
      "model: 2.144663117825985\n",
      "-2.0847796499729156 6000\n",
      "-2.9237152002751827 6000\n",
      "2.144663117825985 6000\n",
      "10.91481514275074 6000\n",
      "5.261254828423262 6000\n",
      "Aggregated model: 2.6624484546482563\n",
      "Aggregated model2: 2.662447717040777\n"
     ]
    },
    {
     "name": "stderr",
     "output_type": "stream",
     "text": [
      "DEBUG flwr 2023-03-06 15:36:09,619 | server.py:179 | evaluate_round 4 received 5 results and 0 failures\n",
      "DEBUG flwr 2023-03-06 15:36:09,620 | server.py:216 | fit_round 5: strategy sampled 5 clients (out of 10)\n"
     ]
    },
    {
     "name": "stdout",
     "output_type": "stream",
     "text": [
      "[0.03670556640625, 0.0365917854309082, 0.03593280029296875, 0.036496402740478516, 0.036488445281982425]\n",
      "(0.03644300003051758, {'accuracy': 0.0036})\n"
     ]
    },
    {
     "name": "stderr",
     "output_type": "stream",
     "text": [
      "DEBUG flwr 2023-03-06 15:36:09,886 | server.py:230 | fit_round 5 received 5 results and 0 failures\n",
      "DEBUG flwr 2023-03-06 15:36:09,919 | server.py:165 | evaluate_round 5: strategy sampled 5 clients (out of 10)\n"
     ]
    },
    {
     "name": "stdout",
     "output_type": "stream",
     "text": [
      "model: 11.53307182341814\n",
      "model: 5.44713169336319\n",
      "model: 3.6319235749542713\n",
      "model: 10.17601003497839\n",
      "model: 7.788233019411564\n",
      "10.17601003497839 6000\n",
      "7.788233019411564 6000\n",
      "5.44713169336319 6000\n",
      "3.6319235749542713 6000\n",
      "11.53307182341814 6000\n",
      "Aggregated model: 7.715271778404713\n",
      "Aggregated model2: 7.715274930000305\n"
     ]
    },
    {
     "name": "stderr",
     "output_type": "stream",
     "text": [
      "DEBUG flwr 2023-03-06 15:36:10,184 | server.py:179 | evaluate_round 5 received 5 results and 0 failures\n",
      "DEBUG flwr 2023-03-06 15:36:10,185 | server.py:216 | fit_round 6: strategy sampled 5 clients (out of 10)\n"
     ]
    },
    {
     "name": "stdout",
     "output_type": "stream",
     "text": [
      "[0.03577874374389649, 0.03637594985961914, 0.036030448913574216, 0.036525924682617186, 0.03648155975341797]\n",
      "(0.036238525390625, {'accuracy': 0.004})\n"
     ]
    },
    {
     "name": "stderr",
     "output_type": "stream",
     "text": [
      "DEBUG flwr 2023-03-06 15:36:10,482 | server.py:230 | fit_round 6 received 5 results and 0 failures\n",
      "DEBUG flwr 2023-03-06 15:36:10,513 | server.py:165 | evaluate_round 6: strategy sampled 5 clients (out of 10)\n"
     ]
    },
    {
     "name": "stdout",
     "output_type": "stream",
     "text": [
      "model: 10.84666571766138\n",
      "model: 14.408709611743689\n",
      "model: 23.312535889446735\n",
      "model: 13.785882990807295\n",
      "model: 12.089552521705627\n",
      "13.785882990807295 6000\n",
      "10.84666571766138 6000\n",
      "14.408709611743689 6000\n",
      "12.089552521705627 6000\n",
      "23.312535889446735 6000\n",
      "Aggregated model: 14.888671297580004\n",
      "Aggregated model2: 14.888671141117811\n"
     ]
    },
    {
     "name": "stderr",
     "output_type": "stream",
     "text": [
      "DEBUG flwr 2023-03-06 15:36:10,728 | server.py:179 | evaluate_round 6 received 5 results and 0 failures\n",
      "DEBUG flwr 2023-03-06 15:36:10,729 | server.py:216 | fit_round 7: strategy sampled 5 clients (out of 10)\n"
     ]
    },
    {
     "name": "stdout",
     "output_type": "stream",
     "text": [
      "[0.036446617126464846, 0.03552203750610351, 0.03610724258422852, 0.03611715698242188, 0.035856777191162106]\n",
      "(0.03600996627807617, {'accuracy': 0.0058})\n"
     ]
    },
    {
     "name": "stderr",
     "output_type": "stream",
     "text": [
      "DEBUG flwr 2023-03-06 15:36:11,016 | server.py:230 | fit_round 7 received 5 results and 0 failures\n",
      "DEBUG flwr 2023-03-06 15:36:11,045 | server.py:165 | evaluate_round 7: strategy sampled 5 clients (out of 10)\n"
     ]
    },
    {
     "name": "stdout",
     "output_type": "stream",
     "text": [
      "model: 17.729035332798958\n",
      "model: 21.890782479196787\n",
      "model: 32.417233254760504\n",
      "model: 24.004149459302425\n",
      "model: 19.55247811973095\n",
      "21.890782479196787 6000\n",
      "19.55247811973095 6000\n",
      "17.729035332798958 6000\n",
      "32.417233254760504 6000\n",
      "24.004149459302425 6000\n",
      "Aggregated model: 23.11873084306717\n",
      "Aggregated model2: 23.11872961372137\n"
     ]
    },
    {
     "name": "stderr",
     "output_type": "stream",
     "text": [
      "DEBUG flwr 2023-03-06 15:36:11,247 | server.py:179 | evaluate_round 7 received 5 results and 0 failures\n",
      "DEBUG flwr 2023-03-06 15:36:11,248 | server.py:216 | fit_round 8: strategy sampled 5 clients (out of 10)\n"
     ]
    },
    {
     "name": "stdout",
     "output_type": "stream",
     "text": [
      "[0.035711597442626954, 0.03591208648681641, 0.03615528869628906, 0.03531420135498047, 0.03524895095825195]\n",
      "(0.03566842498779297, {'accuracy': 0.005})\n"
     ]
    },
    {
     "name": "stderr",
     "output_type": "stream",
     "text": [
      "DEBUG flwr 2023-03-06 15:36:11,506 | server.py:230 | fit_round 8 received 5 results and 0 failures\n",
      "DEBUG flwr 2023-03-06 15:36:11,535 | server.py:165 | evaluate_round 8: strategy sampled 5 clients (out of 10)\n"
     ]
    },
    {
     "name": "stdout",
     "output_type": "stream",
     "text": [
      "model: 26.78454204648733\n",
      "model: 25.72195853665471\n",
      "model: 26.867137528955936\n",
      "model: 32.71415975689888\n",
      "model: 28.60040857642889\n",
      "25.72195853665471 6000\n",
      "26.78454204648733 6000\n",
      "28.60040857642889 6000\n",
      "26.867137528955936 6000\n",
      "32.71415975689888 6000\n",
      "Aggregated model: 28.13764127343893\n",
      "Aggregated model2: 28.137640576809645\n"
     ]
    },
    {
     "name": "stderr",
     "output_type": "stream",
     "text": [
      "DEBUG flwr 2023-03-06 15:36:11,729 | server.py:179 | evaluate_round 8 received 5 results and 0 failures\n",
      "DEBUG flwr 2023-03-06 15:36:11,730 | server.py:216 | fit_round 9: strategy sampled 5 clients (out of 10)\n"
     ]
    },
    {
     "name": "stdout",
     "output_type": "stream",
     "text": [
      "[0.03567884826660156, 0.03576622772216797, 0.035911201477050785, 0.035774856567382815, 0.035218746185302734]\n",
      "(0.035669976043701174, {'accuracy': 0.0052})\n"
     ]
    },
    {
     "name": "stderr",
     "output_type": "stream",
     "text": [
      "DEBUG flwr 2023-03-06 15:36:11,990 | server.py:230 | fit_round 9 received 5 results and 0 failures\n",
      "DEBUG flwr 2023-03-06 15:36:12,019 | server.py:165 | evaluate_round 9: strategy sampled 5 clients (out of 10)\n"
     ]
    },
    {
     "name": "stdout",
     "output_type": "stream",
     "text": [
      "model: 32.086887411773205\n",
      "model: 45.123354867100716\n",
      "model: 34.08870534226298\n",
      "model: 40.36804498359561\n",
      "model: 34.34897584095597\n",
      "34.08870534226298 6000\n",
      "34.34897584095597 6000\n",
      "32.086887411773205 6000\n",
      "45.123354867100716 6000\n",
      "40.36804498359561 6000\n",
      "Aggregated model: 37.20320002734661\n",
      "Aggregated model2: 37.203196600079536\n"
     ]
    },
    {
     "name": "stderr",
     "output_type": "stream",
     "text": [
      "DEBUG flwr 2023-03-06 15:36:12,218 | server.py:179 | evaluate_round 9 received 5 results and 0 failures\n",
      "DEBUG flwr 2023-03-06 15:36:12,219 | server.py:216 | fit_round 10: strategy sampled 5 clients (out of 10)\n"
     ]
    },
    {
     "name": "stdout",
     "output_type": "stream",
     "text": [
      "[0.03592189788818359, 0.034918067932128906, 0.034827594757080076, 0.035562103271484374, 0.035985328674316405]\n",
      "(0.035442998504638674, {'accuracy': 0.0058})\n"
     ]
    },
    {
     "name": "stderr",
     "output_type": "stream",
     "text": [
      "DEBUG flwr 2023-03-06 15:36:12,526 | server.py:230 | fit_round 10 received 5 results and 0 failures\n",
      "DEBUG flwr 2023-03-06 15:36:12,561 | server.py:165 | evaluate_round 10: strategy sampled 5 clients (out of 10)\n"
     ]
    },
    {
     "name": "stdout",
     "output_type": "stream",
     "text": [
      "model: 40.239669401198626\n",
      "model: 46.33272073045373\n",
      "model: 52.184034772217274\n",
      "model: 46.06800040230155\n",
      "model: 41.05893877148628\n",
      "46.06800040230155 6000\n",
      "40.239669401198626 6000\n",
      "41.05893877148628 6000\n",
      "46.33272073045373 6000\n",
      "52.184034772217274 6000\n",
      "Aggregated model: 45.176663130521774\n",
      "Aggregated model2: 45.1766699180007\n"
     ]
    },
    {
     "name": "stderr",
     "output_type": "stream",
     "text": [
      "DEBUG flwr 2023-03-06 15:36:12,765 | server.py:179 | evaluate_round 10 received 5 results and 0 failures\n",
      "INFO flwr 2023-03-06 15:36:12,766 | server.py:144 | FL finished in 6.892994690000705\n",
      "INFO flwr 2023-03-06 15:36:12,768 | app.py:205 | app_fit: losses_distributed [(1, 0.03684676666259765), (2, 0.03662404479980469), (3, 0.03649162521362305), (4, 0.03644300003051758), (5, 0.036238525390625), (6, 0.03600996627807617), (7, 0.03566842498779297), (8, 0.035669976043701174), (9, 0.035442998504638674), (10, 0.03538527297973633)]\n",
      "INFO flwr 2023-03-06 15:36:12,768 | app.py:206 | app_fit: metrics_distributed {'accuracy': [(1, 0.0016), (2, 0.0016), (3, 0.0024), (4, 0.0036), (5, 0.004), (6, 0.0058), (7, 0.005), (8, 0.0052), (9, 0.0058), (10, 0.006)]}\n",
      "INFO flwr 2023-03-06 15:36:12,769 | app.py:207 | app_fit: losses_centralized []\n",
      "INFO flwr 2023-03-06 15:36:12,769 | app.py:208 | app_fit: metrics_centralized {}\n"
     ]
    },
    {
     "name": "stdout",
     "output_type": "stream",
     "text": [
      "[0.034452056884765624, 0.0358226432800293, 0.035579811096191405, 0.03574044036865234, 0.03533141326904297]\n",
      "(0.03538527297973633, {'accuracy': 0.006})\n"
     ]
    }
   ],
   "source": [
    "run2 = complete_run(0)"
   ]
  },
  {
   "cell_type": "code",
   "execution_count": 7,
   "metadata": {},
   "outputs": [
    {
     "data": {
      "text/plain": [
       "History (loss, distributed):\n",
       "\tround 1: 0.03684676666259765\n",
       "\tround 2: 0.03662404479980469\n",
       "\tround 3: 0.03649162521362305\n",
       "\tround 4: 0.03644300003051758\n",
       "\tround 5: 0.036238525390625\n",
       "\tround 6: 0.03600996627807617\n",
       "\tround 7: 0.03566842498779297\n",
       "\tround 8: 0.035669976043701174\n",
       "\tround 9: 0.035442998504638674\n",
       "\tround 10: 0.03538527297973633\n",
       "History (metrics, distributed):\n",
       "{'accuracy': [(1, 0.0016), (2, 0.0016), (3, 0.0024), (4, 0.0036), (5, 0.004), (6, 0.0058), (7, 0.005), (8, 0.0052), (9, 0.0058), (10, 0.006)]}"
      ]
     },
     "execution_count": 7,
     "metadata": {},
     "output_type": "execute_result"
    }
   ],
   "source": [
    "run1"
   ]
  },
  {
   "cell_type": "code",
   "execution_count": 5,
   "metadata": {},
   "outputs": [
    {
     "data": {
      "text/plain": [
       "History (loss, distributed):\n",
       "\tround 1: 0.03684676666259765\n",
       "\tround 2: 0.03662404479980469\n",
       "\tround 3: 0.03649162521362305\n",
       "\tround 4: 0.03644300003051758\n",
       "\tround 5: 0.036238525390625\n",
       "\tround 6: 0.03600996627807617\n",
       "\tround 7: 0.03566842498779297\n",
       "\tround 8: 0.035669976043701174\n",
       "\tround 9: 0.035442998504638674\n",
       "\tround 10: 0.03538527297973633\n",
       "History (metrics, distributed):\n",
       "{'accuracy': [(1, 0.0016), (2, 0.0016), (3, 0.0024), (4, 0.0036), (5, 0.004), (6, 0.0058), (7, 0.005), (8, 0.0052), (9, 0.0058), (10, 0.006)]}"
      ]
     },
     "execution_count": 5,
     "metadata": {},
     "output_type": "execute_result"
    }
   ],
   "source": [
    "run2"
   ]
  },
  {
   "cell_type": "code",
   "execution_count": 6,
   "metadata": {},
   "outputs": [
    {
     "data": {
      "text/plain": [
       "-6.944028761982916"
      ]
     },
     "execution_count": 6,
     "metadata": {},
     "output_type": "execute_result"
    }
   ],
   "source": [
    "(-11.125018235296011+\\\n",
    "-1.988593690097332+\\\n",
    "-4.645153805613518+\\\n",
    "-9.420576959848404+\\\n",
    "-7.54080111905932)/5"
   ]
  },
  {
   "cell_type": "code",
   "execution_count": null,
   "metadata": {},
   "outputs": [],
   "source": []
  }
 ],
 "metadata": {
  "kernelspec": {
   "display_name": "flwr-mps",
   "language": "python",
   "name": "python3"
  },
  "language_info": {
   "codemirror_mode": {
    "name": "ipython",
    "version": 3
   },
   "file_extension": ".py",
   "mimetype": "text/x-python",
   "name": "python",
   "nbconvert_exporter": "python",
   "pygments_lexer": "ipython3",
   "version": "3.10.9"
  },
  "orig_nbformat": 4
 },
 "nbformat": 4,
 "nbformat_minor": 2
}
