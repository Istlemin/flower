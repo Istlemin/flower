{
 "cells": [
  {
   "cell_type": "code",
   "execution_count": 6,
   "metadata": {},
   "outputs": [],
   "source": [
    "import torch\n",
    "import flwr as fl\n",
    "import random\n",
    "import numpy as np\n",
    "from torchvision.datasets import MNIST\n",
    "from torchvision.transforms import Compose, Normalize, ToTensor\n",
    "from client import get_client_generator, weighted_average_accuracy\n",
    "from dataset import partition_dataset\n",
    "from flwr.server.strategy import FedAvg\n",
    "\n",
    "transform = Compose([ToTensor(), Normalize((0.1307,), (0.3081,))])\n",
    "train_dataset = MNIST(\"./mnist\", train=True, download=True, transform=transform)\n",
    "val_dataset = MNIST(\"./mnist\", train=False, transform=transform)\n",
    "\n",
    "torch.backends.cudnn.deterministic = True\n",
    "torch.backends.cudnn.benchmark = False\n",
    "torch.use_deterministic_algorithms(True)\n",
    "\n",
    "def seed_everything(seed):\n",
    "    random.seed(seed)\n",
    "    np.random.seed(seed)\n",
    "    torch.manual_seed(seed)\n",
    "\n",
    "def complete_run(seed=None, single_threaded=False):\n",
    "    if seed is not None:\n",
    "        seed_everything(seed)\n",
    "\n",
    "    num_clients = 5\n",
    "    train_datasets = partition_dataset(train_dataset, num_clients)\n",
    "    val_datasets = partition_dataset(val_dataset, num_clients)\n",
    "    train_dataloaders = [torch.utils.data.DataLoader(dataset, batch_size=16, shuffle=True) for dataset in train_datasets]\n",
    "    val_dataloaders = [torch.utils.data.DataLoader(dataset, batch_size=16) for dataset in val_datasets]\n",
    "    client_resources = None\n",
    "    client_fn = get_client_generator(train_dataloaders, val_dataloaders)\n",
    "    client_config = {\n",
    "        \"lr\": 0.05,\n",
    "        \"epochs\": 1,\n",
    "    }\n",
    "    strategy = FedAvg(\n",
    "        min_fit_clients=2,\n",
    "        min_evaluate_clients=2,\n",
    "        min_available_clients=2,\n",
    "        fraction_fit=0.25,\n",
    "        fraction_evaluate=0.25,\n",
    "        on_fit_config_fn=lambda _: client_config,\n",
    "        on_evaluate_config_fn=lambda _: client_config,\n",
    "        evaluate_metrics_aggregation_fn=weighted_average_accuracy,\n",
    "    )\n",
    "    if not single_threaded:\n",
    "        hist = fl.simulation.start_simulation(\n",
    "            client_fn=client_fn,\n",
    "            seed_fn=seed_everything if seed is not None else None,\n",
    "            seed=seed,\n",
    "            num_clients=num_clients,\n",
    "            config=fl.server.ServerConfig(num_rounds=5),\n",
    "            client_resources=client_resources,\n",
    "            strategy=strategy\n",
    "        )\n",
    "    else:\n",
    "        hist = fl.simulation.start_simulation_single_threaded(\n",
    "            client_fn=client_fn,\n",
    "            num_clients=num_clients,\n",
    "            config=fl.server.ServerConfig(num_rounds=5),\n",
    "            strategy=strategy,\n",
    "        )\n",
    "\n",
    "    return hist"
   ]
  },
  {
   "cell_type": "code",
   "execution_count": 2,
   "metadata": {},
   "outputs": [
    {
     "name": "stderr",
     "output_type": "stream",
     "text": [
      "INFO flwr 2023-03-09 17:04:03,201 | app.py:179 | Starting Flower simulation, config: ServerConfig(num_rounds=5, round_timeout=None)\n",
      "2023-03-09 17:04:05,353\tINFO worker.py:1553 -- Started a local Ray instance.\n",
      "INFO flwr 2023-03-09 17:04:07,025 | app.py:213 | Flower VCE: Ray initialized with resources: {'CPU': 10.0, 'node:127.0.0.1': 1.0, 'object_store_memory': 2147483648.0, 'memory': 18667405312.0}\n",
      "INFO flwr 2023-03-09 17:04:07,154 | server.py:100 | Initializing global parameters\n",
      "INFO flwr 2023-03-09 17:04:07,154 | server.py:291 | Requesting initial parameters from one random client\n",
      "INFO flwr 2023-03-09 17:04:08,718 | server.py:295 | Received initial parameters from one random client\n",
      "INFO flwr 2023-03-09 17:04:08,718 | server.py:102 | Evaluating initial parameters\n",
      "INFO flwr 2023-03-09 17:04:08,719 | server.py:115 | FL starting\n",
      "DEBUG flwr 2023-03-09 17:04:08,719 | server.py:232 | fit_round 1: strategy sampled 2 clients (out of 5)\n",
      "DEBUG flwr 2023-03-09 17:04:23,172 | server.py:246 | fit_round 1 received 2 results and 0 failures\n",
      "WARNING flwr 2023-03-09 17:04:23,181 | fedavg.py:243 | No fit_metrics_aggregation_fn provided\n",
      "DEBUG flwr 2023-03-09 17:04:23,182 | server.py:179 | evaluate_round 1: strategy sampled 2 clients (out of 5)\n",
      "DEBUG flwr 2023-03-09 17:04:24,025 | server.py:193 | evaluate_round 1 received 2 results and 0 failures\n",
      "DEBUG flwr 2023-03-09 17:04:24,026 | server.py:232 | fit_round 2: strategy sampled 2 clients (out of 5)\n",
      "DEBUG flwr 2023-03-09 17:04:38,590 | server.py:246 | fit_round 2 received 2 results and 0 failures\n",
      "DEBUG flwr 2023-03-09 17:04:38,599 | server.py:179 | evaluate_round 2: strategy sampled 2 clients (out of 5)\n",
      "DEBUG flwr 2023-03-09 17:04:39,395 | server.py:193 | evaluate_round 2 received 2 results and 0 failures\n",
      "DEBUG flwr 2023-03-09 17:04:39,396 | server.py:232 | fit_round 3: strategy sampled 2 clients (out of 5)\n",
      "DEBUG flwr 2023-03-09 17:04:53,744 | server.py:246 | fit_round 3 received 2 results and 0 failures\n",
      "DEBUG flwr 2023-03-09 17:04:53,751 | server.py:179 | evaluate_round 3: strategy sampled 2 clients (out of 5)\n",
      "DEBUG flwr 2023-03-09 17:04:54,499 | server.py:193 | evaluate_round 3 received 2 results and 0 failures\n",
      "DEBUG flwr 2023-03-09 17:04:54,499 | server.py:232 | fit_round 4: strategy sampled 2 clients (out of 5)\n",
      "DEBUG flwr 2023-03-09 17:05:08,973 | server.py:246 | fit_round 4 received 2 results and 0 failures\n",
      "DEBUG flwr 2023-03-09 17:05:08,983 | server.py:179 | evaluate_round 4: strategy sampled 2 clients (out of 5)\n",
      "DEBUG flwr 2023-03-09 17:05:09,786 | server.py:193 | evaluate_round 4 received 2 results and 0 failures\n",
      "DEBUG flwr 2023-03-09 17:05:09,787 | server.py:232 | fit_round 5: strategy sampled 2 clients (out of 5)\n",
      "DEBUG flwr 2023-03-09 17:05:23,966 | server.py:246 | fit_round 5 received 2 results and 0 failures\n",
      "DEBUG flwr 2023-03-09 17:05:23,973 | server.py:179 | evaluate_round 5: strategy sampled 2 clients (out of 5)\n",
      "DEBUG flwr 2023-03-09 17:05:24,755 | server.py:193 | evaluate_round 5 received 2 results and 0 failures\n",
      "INFO flwr 2023-03-09 17:05:24,756 | server.py:158 | FL finished in 76.03419120796025\n",
      "INFO flwr 2023-03-09 17:05:24,757 | app.py:209 | app_fit: losses_distributed [(1, 0.23777819456905128), (2, 0.15710546273272485), (3, 0.11228240823280067), (4, 0.0846113607659936), (5, 0.08301721393363551)]\n",
      "INFO flwr 2023-03-09 17:05:24,757 | app.py:210 | app_fit: metrics_distributed {'accuracy': [(1, 0.933), (2, 0.955), (3, 0.96675), (4, 0.97375), (5, 0.974)]}\n",
      "INFO flwr 2023-03-09 17:05:24,758 | app.py:211 | app_fit: losses_centralized []\n",
      "INFO flwr 2023-03-09 17:05:24,758 | app.py:212 | app_fit: metrics_centralized {}\n",
      "INFO flwr 2023-03-09 17:05:24,786 | app.py:179 | Starting Flower simulation, config: ServerConfig(num_rounds=5, round_timeout=None)\n",
      "2023-03-09 17:05:29,148\tINFO worker.py:1553 -- Started a local Ray instance.\n",
      "INFO flwr 2023-03-09 17:05:30,769 | app.py:213 | Flower VCE: Ray initialized with resources: {'CPU': 10.0, 'node:127.0.0.1': 1.0, 'object_store_memory': 2147483648.0, 'memory': 19762590516.0}\n",
      "INFO flwr 2023-03-09 17:05:30,907 | server.py:100 | Initializing global parameters\n",
      "INFO flwr 2023-03-09 17:05:30,907 | server.py:291 | Requesting initial parameters from one random client\n",
      "INFO flwr 2023-03-09 17:05:32,495 | server.py:295 | Received initial parameters from one random client\n",
      "INFO flwr 2023-03-09 17:05:32,496 | server.py:102 | Evaluating initial parameters\n",
      "INFO flwr 2023-03-09 17:05:32,496 | server.py:115 | FL starting\n",
      "DEBUG flwr 2023-03-09 17:05:32,496 | server.py:232 | fit_round 1: strategy sampled 2 clients (out of 5)\n",
      "DEBUG flwr 2023-03-09 17:05:46,738 | server.py:246 | fit_round 1 received 2 results and 0 failures\n",
      "WARNING flwr 2023-03-09 17:05:46,745 | fedavg.py:243 | No fit_metrics_aggregation_fn provided\n",
      "DEBUG flwr 2023-03-09 17:05:46,745 | server.py:179 | evaluate_round 1: strategy sampled 2 clients (out of 5)\n",
      "DEBUG flwr 2023-03-09 17:05:47,505 | server.py:193 | evaluate_round 1 received 2 results and 0 failures\n",
      "DEBUG flwr 2023-03-09 17:05:47,505 | server.py:232 | fit_round 2: strategy sampled 2 clients (out of 5)\n",
      "DEBUG flwr 2023-03-09 17:06:01,917 | server.py:246 | fit_round 2 received 2 results and 0 failures\n",
      "DEBUG flwr 2023-03-09 17:06:01,924 | server.py:179 | evaluate_round 2: strategy sampled 2 clients (out of 5)\n",
      "DEBUG flwr 2023-03-09 17:06:02,755 | server.py:193 | evaluate_round 2 received 2 results and 0 failures\n",
      "DEBUG flwr 2023-03-09 17:06:02,755 | server.py:232 | fit_round 3: strategy sampled 2 clients (out of 5)\n",
      "DEBUG flwr 2023-03-09 17:06:17,063 | server.py:246 | fit_round 3 received 2 results and 0 failures\n",
      "DEBUG flwr 2023-03-09 17:06:17,072 | server.py:179 | evaluate_round 3: strategy sampled 2 clients (out of 5)\n",
      "DEBUG flwr 2023-03-09 17:06:17,834 | server.py:193 | evaluate_round 3 received 2 results and 0 failures\n",
      "DEBUG flwr 2023-03-09 17:06:17,835 | server.py:232 | fit_round 4: strategy sampled 2 clients (out of 5)\n",
      "DEBUG flwr 2023-03-09 17:06:32,107 | server.py:246 | fit_round 4 received 2 results and 0 failures\n",
      "DEBUG flwr 2023-03-09 17:06:32,114 | server.py:179 | evaluate_round 4: strategy sampled 2 clients (out of 5)\n",
      "DEBUG flwr 2023-03-09 17:06:32,879 | server.py:193 | evaluate_round 4 received 2 results and 0 failures\n",
      "DEBUG flwr 2023-03-09 17:06:32,879 | server.py:232 | fit_round 5: strategy sampled 2 clients (out of 5)\n",
      "DEBUG flwr 2023-03-09 17:06:47,505 | server.py:246 | fit_round 5 received 2 results and 0 failures\n",
      "DEBUG flwr 2023-03-09 17:06:47,513 | server.py:179 | evaluate_round 5: strategy sampled 2 clients (out of 5)\n",
      "DEBUG flwr 2023-03-09 17:06:48,282 | server.py:193 | evaluate_round 5 received 2 results and 0 failures\n",
      "INFO flwr 2023-03-09 17:06:48,283 | server.py:158 | FL finished in 75.78637770796195\n",
      "INFO flwr 2023-03-09 17:06:48,284 | app.py:209 | app_fit: losses_distributed [(1, 0.23777819456905128), (2, 0.15710546273272485), (3, 0.11228240823280067), (4, 0.0846113607659936), (5, 0.08301721393363551)]\n",
      "INFO flwr 2023-03-09 17:06:48,284 | app.py:210 | app_fit: metrics_distributed {'accuracy': [(1, 0.933), (2, 0.955), (3, 0.96675), (4, 0.97375), (5, 0.974)]}\n",
      "INFO flwr 2023-03-09 17:06:48,284 | app.py:211 | app_fit: losses_centralized []\n",
      "INFO flwr 2023-03-09 17:06:48,285 | app.py:212 | app_fit: metrics_centralized {}\n"
     ]
    }
   ],
   "source": [
    "run1 = complete_run(0)\n",
    "run2 = complete_run(0)"
   ]
  },
  {
   "cell_type": "code",
   "execution_count": 3,
   "metadata": {},
   "outputs": [
    {
     "data": {
      "text/plain": [
       "History (loss, distributed):\n",
       "\tround 1: 0.23777819456905128\n",
       "\tround 2: 0.15710546273272485\n",
       "\tround 3: 0.11228240823280067\n",
       "\tround 4: 0.0846113607659936\n",
       "\tround 5: 0.08301721393363551\n",
       "History (metrics, distributed):\n",
       "{'accuracy': [(1, 0.933), (2, 0.955), (3, 0.96675), (4, 0.97375), (5, 0.974)]}"
      ]
     },
     "execution_count": 3,
     "metadata": {},
     "output_type": "execute_result"
    }
   ],
   "source": [
    "run1"
   ]
  },
  {
   "cell_type": "code",
   "execution_count": 4,
   "metadata": {},
   "outputs": [
    {
     "data": {
      "text/plain": [
       "History (loss, distributed):\n",
       "\tround 1: 0.23777819456905128\n",
       "\tround 2: 0.15710546273272485\n",
       "\tround 3: 0.11228240823280067\n",
       "\tround 4: 0.0846113607659936\n",
       "\tround 5: 0.08301721393363551\n",
       "History (metrics, distributed):\n",
       "{'accuracy': [(1, 0.933), (2, 0.955), (3, 0.96675), (4, 0.97375), (5, 0.974)]}"
      ]
     },
     "execution_count": 4,
     "metadata": {},
     "output_type": "execute_result"
    }
   ],
   "source": [
    "run2"
   ]
  },
  {
   "cell_type": "code",
   "execution_count": 7,
   "metadata": {},
   "outputs": [
    {
     "name": "stderr",
     "output_type": "stream",
     "text": [
      "INFO flwr 2023-03-09 17:37:59,285 | app.py:276 | Starting Flower simulation, config: ServerConfig(num_rounds=5, round_timeout=None)\n",
      "INFO flwr 2023-03-09 17:37:59,286 | server.py:100 | Initializing global parameters\n",
      "INFO flwr 2023-03-09 17:37:59,286 | server.py:291 | Requesting initial parameters from one random client\n",
      "INFO flwr 2023-03-09 17:37:59,300 | server.py:295 | Received initial parameters from one random client\n",
      "INFO flwr 2023-03-09 17:37:59,301 | server.py:102 | Evaluating initial parameters\n",
      "INFO flwr 2023-03-09 17:37:59,302 | server.py:115 | FL starting\n",
      "DEBUG flwr 2023-03-09 17:37:59,303 | server.py:232 | fit_round 1: strategy sampled 2 clients (out of 5)\n",
      "DEBUG flwr 2023-03-09 17:38:20,345 | server.py:246 | fit_round 1 received 2 results and 0 failures\n",
      "WARNING flwr 2023-03-09 17:38:20,352 | fedavg.py:243 | No fit_metrics_aggregation_fn provided\n",
      "DEBUG flwr 2023-03-09 17:38:20,353 | server.py:179 | evaluate_round 1: strategy sampled 2 clients (out of 5)\n",
      "DEBUG flwr 2023-03-09 17:38:22,059 | server.py:193 | evaluate_round 1 received 2 results and 0 failures\n",
      "DEBUG flwr 2023-03-09 17:38:22,060 | server.py:232 | fit_round 2: strategy sampled 2 clients (out of 5)\n",
      "DEBUG flwr 2023-03-09 17:38:43,544 | server.py:246 | fit_round 2 received 2 results and 0 failures\n",
      "DEBUG flwr 2023-03-09 17:38:43,552 | server.py:179 | evaluate_round 2: strategy sampled 2 clients (out of 5)\n",
      "DEBUG flwr 2023-03-09 17:38:45,160 | server.py:193 | evaluate_round 2 received 2 results and 0 failures\n",
      "DEBUG flwr 2023-03-09 17:38:45,160 | server.py:232 | fit_round 3: strategy sampled 2 clients (out of 5)\n",
      "DEBUG flwr 2023-03-09 17:39:04,175 | server.py:246 | fit_round 3 received 2 results and 0 failures\n",
      "DEBUG flwr 2023-03-09 17:39:04,182 | server.py:179 | evaluate_round 3: strategy sampled 2 clients (out of 5)\n",
      "DEBUG flwr 2023-03-09 17:39:05,633 | server.py:193 | evaluate_round 3 received 2 results and 0 failures\n",
      "DEBUG flwr 2023-03-09 17:39:05,633 | server.py:232 | fit_round 4: strategy sampled 2 clients (out of 5)\n",
      "DEBUG flwr 2023-03-09 17:39:25,465 | server.py:246 | fit_round 4 received 2 results and 0 failures\n",
      "DEBUG flwr 2023-03-09 17:39:25,472 | server.py:179 | evaluate_round 4: strategy sampled 2 clients (out of 5)\n",
      "DEBUG flwr 2023-03-09 17:39:27,132 | server.py:193 | evaluate_round 4 received 2 results and 0 failures\n",
      "DEBUG flwr 2023-03-09 17:39:27,133 | server.py:232 | fit_round 5: strategy sampled 2 clients (out of 5)\n",
      "DEBUG flwr 2023-03-09 17:39:46,880 | server.py:246 | fit_round 5 received 2 results and 0 failures\n",
      "DEBUG flwr 2023-03-09 17:39:46,888 | server.py:179 | evaluate_round 5: strategy sampled 2 clients (out of 5)\n",
      "DEBUG flwr 2023-03-09 17:39:48,385 | server.py:193 | evaluate_round 5 received 2 results and 0 failures\n",
      "INFO flwr 2023-03-09 17:39:48,385 | server.py:158 | FL finished in 109.08721720898757\n",
      "INFO flwr 2023-03-09 17:39:48,386 | app.py:209 | app_fit: losses_distributed [(1, 0.24160061959177256), (2, 0.15777746839076282), (3, 0.102664565872401), (4, 0.09126850824570283), (5, 0.07899820515606552)]\n",
      "INFO flwr 2023-03-09 17:39:48,386 | app.py:210 | app_fit: metrics_distributed {'accuracy': [(1, 0.93075), (2, 0.9525), (3, 0.96675), (4, 0.97325), (5, 0.97525)]}\n",
      "INFO flwr 2023-03-09 17:39:48,387 | app.py:211 | app_fit: losses_centralized []\n",
      "INFO flwr 2023-03-09 17:39:48,387 | app.py:212 | app_fit: metrics_centralized {}\n"
     ]
    },
    {
     "data": {
      "text/plain": [
       "History (loss, distributed):\n",
       "\tround 1: 0.24160061959177256\n",
       "\tround 2: 0.15777746839076282\n",
       "\tround 3: 0.102664565872401\n",
       "\tround 4: 0.09126850824570283\n",
       "\tround 5: 0.07899820515606552\n",
       "History (metrics, distributed):\n",
       "{'accuracy': [(1, 0.93075), (2, 0.9525), (3, 0.96675), (4, 0.97325), (5, 0.97525)]}"
      ]
     },
     "execution_count": 7,
     "metadata": {},
     "output_type": "execute_result"
    }
   ],
   "source": [
    "complete_run(4, single_threaded=True)"
   ]
  }
 ],
 "metadata": {
  "kernelspec": {
   "display_name": "flwr-mps",
   "language": "python",
   "name": "python3"
  },
  "language_info": {
   "codemirror_mode": {
    "name": "ipython",
    "version": 3
   },
   "file_extension": ".py",
   "mimetype": "text/x-python",
   "name": "python",
   "nbconvert_exporter": "python",
   "pygments_lexer": "ipython3",
   "version": "3.10.9"
  },
  "orig_nbformat": 4
 },
 "nbformat": 4,
 "nbformat_minor": 2
}
