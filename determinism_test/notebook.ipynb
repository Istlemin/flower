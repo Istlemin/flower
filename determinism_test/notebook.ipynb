{
 "cells": [
  {
   "cell_type": "code",
   "execution_count": 1,
   "metadata": {},
   "outputs": [],
   "source": [
    "import torch\n",
    "import flwr as fl\n",
    "import random\n",
    "import numpy as np\n",
    "from torchvision.datasets import MNIST\n",
    "from torchvision.transforms import Compose, Normalize, ToTensor\n",
    "from client import get_client_generator, weighted_average_accuracy\n",
    "from dataset import partition_dataset\n",
    "from flwr.server.strategy import FedAvg\n",
    "\n",
    "transform = Compose([ToTensor(), Normalize((0.1307,), (0.3081,))])\n",
    "train_dataset = MNIST(\"./mnist\", train=True, download=True, transform=transform)\n",
    "val_dataset = MNIST(\"./mnist\", train=False, transform=transform)\n",
    "\n",
    "torch.backends.cudnn.deterministic = True\n",
    "torch.backends.cudnn.benchmark = False\n",
    "torch.use_deterministic_algorithms(True)\n",
    "\n",
    "def seed_everything(seed):\n",
    "    random.seed(seed)\n",
    "    np.random.seed(seed)\n",
    "    torch.manual_seed(seed)\n",
    "\n",
    "def complete_run(seed=None):\n",
    "    if seed is not None:\n",
    "        seed_everything(seed)\n",
    "\n",
    "    num_clients = 5\n",
    "    train_datasets = partition_dataset(train_dataset, num_clients)\n",
    "    val_datasets = partition_dataset(val_dataset, num_clients)\n",
    "    train_dataloaders = [torch.utils.data.DataLoader(dataset, batch_size=16, shuffle=True) for dataset in train_datasets]\n",
    "    val_dataloaders = [torch.utils.data.DataLoader(dataset, batch_size=16) for dataset in val_datasets]\n",
    "    client_resources = None\n",
    "    client_fn = get_client_generator(train_dataloaders, val_dataloaders)\n",
    "    client_config = {\n",
    "        \"lr\": 0.05,\n",
    "        \"epochs\": 1,\n",
    "    }\n",
    "    strategy = FedAvg(\n",
    "        min_fit_clients=2,\n",
    "        min_evaluate_clients=2,\n",
    "        min_available_clients=2,\n",
    "        fraction_fit=0.25,\n",
    "        fraction_evaluate=0.25,\n",
    "        on_fit_config_fn=lambda _: client_config,\n",
    "        on_evaluate_config_fn=lambda _: client_config,\n",
    "        evaluate_metrics_aggregation_fn=weighted_average_accuracy,\n",
    "    )\n",
    "    \n",
    "    hist = fl.simulation.start_simulation(\n",
    "        client_fn=client_fn,\n",
    "        seed_fn=seed_everything if seed is not None else None,\n",
    "        seed=seed,\n",
    "        num_clients=num_clients,\n",
    "        config=fl.server.ServerConfig(num_rounds=5),\n",
    "        client_resources=client_resources,\n",
    "        strategy=strategy\n",
    "    )\n",
    "\n",
    "    return hist"
   ]
  },
  {
   "cell_type": "code",
   "execution_count": 2,
   "metadata": {},
   "outputs": [
    {
     "name": "stderr",
     "output_type": "stream",
     "text": [
      "INFO flwr 2023-03-10 15:43:13,744 | app.py:176 | Starting Flower simulation, config: ServerConfig(num_rounds=5, round_timeout=None)\n",
      "2023-03-10 15:43:15,762\tINFO worker.py:1553 -- Started a local Ray instance.\n",
      "INFO flwr 2023-03-10 15:43:17,259 | app.py:229 | Flower VCE: Ray initialized with resources: {'node:127.0.0.1': 1.0, 'memory': 17146868532.0, 'CPU': 10.0, 'object_store_memory': 2147483648.0}\n",
      "INFO flwr 2023-03-10 15:43:17,389 | server.py:100 | Initializing global parameters\n",
      "INFO flwr 2023-03-10 15:43:17,390 | server.py:291 | Requesting initial parameters from one random client\n",
      "INFO flwr 2023-03-10 15:43:18,789 | server.py:295 | Received initial parameters from one random client\n",
      "INFO flwr 2023-03-10 15:43:18,789 | server.py:102 | Evaluating initial parameters\n",
      "INFO flwr 2023-03-10 15:43:18,789 | server.py:115 | FL starting\n",
      "DEBUG flwr 2023-03-10 15:43:18,790 | server.py:232 | fit_round 1: strategy sampled 2 clients (out of 5)\n",
      "DEBUG flwr 2023-03-10 15:43:31,881 | server.py:246 | fit_round 1 received 2 results and 0 failures\n",
      "WARNING flwr 2023-03-10 15:43:31,888 | fedavg.py:243 | No fit_metrics_aggregation_fn provided\n",
      "DEBUG flwr 2023-03-10 15:43:31,889 | server.py:179 | evaluate_round 1: strategy sampled 2 clients (out of 5)\n",
      "DEBUG flwr 2023-03-10 15:43:32,661 | server.py:193 | evaluate_round 1 received 2 results and 0 failures\n",
      "DEBUG flwr 2023-03-10 15:43:32,662 | server.py:232 | fit_round 2: strategy sampled 2 clients (out of 5)\n",
      "DEBUG flwr 2023-03-10 15:43:46,070 | server.py:246 | fit_round 2 received 2 results and 0 failures\n",
      "DEBUG flwr 2023-03-10 15:43:46,076 | server.py:179 | evaluate_round 2: strategy sampled 2 clients (out of 5)\n",
      "DEBUG flwr 2023-03-10 15:43:46,860 | server.py:193 | evaluate_round 2 received 2 results and 0 failures\n",
      "DEBUG flwr 2023-03-10 15:43:46,860 | server.py:232 | fit_round 3: strategy sampled 2 clients (out of 5)\n",
      "DEBUG flwr 2023-03-10 15:44:00,312 | server.py:246 | fit_round 3 received 2 results and 0 failures\n",
      "DEBUG flwr 2023-03-10 15:44:00,319 | server.py:179 | evaluate_round 3: strategy sampled 2 clients (out of 5)\n",
      "DEBUG flwr 2023-03-10 15:44:01,050 | server.py:193 | evaluate_round 3 received 2 results and 0 failures\n",
      "DEBUG flwr 2023-03-10 15:44:01,050 | server.py:232 | fit_round 4: strategy sampled 2 clients (out of 5)\n",
      "DEBUG flwr 2023-03-10 15:44:14,551 | server.py:246 | fit_round 4 received 2 results and 0 failures\n",
      "DEBUG flwr 2023-03-10 15:44:14,559 | server.py:179 | evaluate_round 4: strategy sampled 2 clients (out of 5)\n",
      "DEBUG flwr 2023-03-10 15:44:15,340 | server.py:193 | evaluate_round 4 received 2 results and 0 failures\n",
      "DEBUG flwr 2023-03-10 15:44:15,340 | server.py:232 | fit_round 5: strategy sampled 2 clients (out of 5)\n",
      "DEBUG flwr 2023-03-10 15:44:28,917 | server.py:246 | fit_round 5 received 2 results and 0 failures\n",
      "DEBUG flwr 2023-03-10 15:44:28,924 | server.py:179 | evaluate_round 5: strategy sampled 2 clients (out of 5)\n",
      "DEBUG flwr 2023-03-10 15:44:29,695 | server.py:193 | evaluate_round 5 received 2 results and 0 failures\n",
      "INFO flwr 2023-03-10 15:44:29,695 | server.py:158 | FL finished in 70.90097375004552\n",
      "INFO flwr 2023-03-10 15:44:29,696 | app.py:209 | app_fit: losses_distributed [(1, 0.23777819456905128), (2, 0.15710546273272485), (3, 0.11228240823280067), (4, 0.0846113607659936), (5, 0.08301721393363551)]\n",
      "INFO flwr 2023-03-10 15:44:29,696 | app.py:210 | app_fit: metrics_distributed {'accuracy': [(1, 0.933), (2, 0.955), (3, 0.96675), (4, 0.97375), (5, 0.974)]}\n",
      "INFO flwr 2023-03-10 15:44:29,697 | app.py:211 | app_fit: losses_centralized []\n",
      "INFO flwr 2023-03-10 15:44:29,697 | app.py:212 | app_fit: metrics_centralized {}\n",
      "INFO flwr 2023-03-10 15:44:32,116 | app.py:176 | Starting Flower simulation, config: ServerConfig(num_rounds=5, round_timeout=None)\n",
      "2023-03-10 15:44:34,055\tINFO worker.py:1553 -- Started a local Ray instance.\n",
      "INFO flwr 2023-03-10 15:44:35,497 | app.py:229 | Flower VCE: Ray initialized with resources: {'object_store_memory': 2147483648.0, 'memory': 17170535220.0, 'CPU': 10.0, 'node:127.0.0.1': 1.0}\n",
      "INFO flwr 2023-03-10 15:44:35,631 | server.py:100 | Initializing global parameters\n",
      "INFO flwr 2023-03-10 15:44:35,631 | server.py:291 | Requesting initial parameters from one random client\n",
      "INFO flwr 2023-03-10 15:44:37,024 | server.py:295 | Received initial parameters from one random client\n",
      "INFO flwr 2023-03-10 15:44:37,024 | server.py:102 | Evaluating initial parameters\n",
      "INFO flwr 2023-03-10 15:44:37,025 | server.py:115 | FL starting\n",
      "DEBUG flwr 2023-03-10 15:44:37,025 | server.py:232 | fit_round 1: strategy sampled 2 clients (out of 5)\n",
      "DEBUG flwr 2023-03-10 15:44:50,103 | server.py:246 | fit_round 1 received 2 results and 0 failures\n",
      "WARNING flwr 2023-03-10 15:44:50,111 | fedavg.py:243 | No fit_metrics_aggregation_fn provided\n",
      "DEBUG flwr 2023-03-10 15:44:50,112 | server.py:179 | evaluate_round 1: strategy sampled 2 clients (out of 5)\n",
      "DEBUG flwr 2023-03-10 15:44:50,897 | server.py:193 | evaluate_round 1 received 2 results and 0 failures\n",
      "DEBUG flwr 2023-03-10 15:44:50,897 | server.py:232 | fit_round 2: strategy sampled 2 clients (out of 5)\n",
      "DEBUG flwr 2023-03-10 15:45:04,068 | server.py:246 | fit_round 2 received 2 results and 0 failures\n",
      "DEBUG flwr 2023-03-10 15:45:04,078 | server.py:179 | evaluate_round 2: strategy sampled 2 clients (out of 5)\n",
      "DEBUG flwr 2023-03-10 15:45:04,864 | server.py:193 | evaluate_round 2 received 2 results and 0 failures\n",
      "DEBUG flwr 2023-03-10 15:45:04,864 | server.py:232 | fit_round 3: strategy sampled 2 clients (out of 5)\n",
      "DEBUG flwr 2023-03-10 15:45:17,982 | server.py:246 | fit_round 3 received 2 results and 0 failures\n",
      "DEBUG flwr 2023-03-10 15:45:17,991 | server.py:179 | evaluate_round 3: strategy sampled 2 clients (out of 5)\n",
      "DEBUG flwr 2023-03-10 15:45:18,714 | server.py:193 | evaluate_round 3 received 2 results and 0 failures\n",
      "DEBUG flwr 2023-03-10 15:45:18,714 | server.py:232 | fit_round 4: strategy sampled 2 clients (out of 5)\n",
      "DEBUG flwr 2023-03-10 15:45:31,844 | server.py:246 | fit_round 4 received 2 results and 0 failures\n",
      "DEBUG flwr 2023-03-10 15:45:31,851 | server.py:179 | evaluate_round 4: strategy sampled 2 clients (out of 5)\n",
      "DEBUG flwr 2023-03-10 15:45:32,615 | server.py:193 | evaluate_round 4 received 2 results and 0 failures\n",
      "DEBUG flwr 2023-03-10 15:45:32,615 | server.py:232 | fit_round 5: strategy sampled 2 clients (out of 5)\n",
      "DEBUG flwr 2023-03-10 15:45:45,798 | server.py:246 | fit_round 5 received 2 results and 0 failures\n",
      "DEBUG flwr 2023-03-10 15:45:45,806 | server.py:179 | evaluate_round 5: strategy sampled 2 clients (out of 5)\n",
      "DEBUG flwr 2023-03-10 15:45:46,560 | server.py:193 | evaluate_round 5 received 2 results and 0 failures\n",
      "INFO flwr 2023-03-10 15:45:46,561 | server.py:158 | FL finished in 69.53326958301477\n",
      "INFO flwr 2023-03-10 15:45:46,561 | app.py:209 | app_fit: losses_distributed [(1, 0.23777819456905128), (2, 0.15710546273272485), (3, 0.11228240823280067), (4, 0.0846113607659936), (5, 0.08301721393363551)]\n",
      "INFO flwr 2023-03-10 15:45:46,562 | app.py:210 | app_fit: metrics_distributed {'accuracy': [(1, 0.933), (2, 0.955), (3, 0.96675), (4, 0.97375), (5, 0.974)]}\n",
      "INFO flwr 2023-03-10 15:45:46,562 | app.py:211 | app_fit: losses_centralized []\n",
      "INFO flwr 2023-03-10 15:45:46,562 | app.py:212 | app_fit: metrics_centralized {}\n"
     ]
    }
   ],
   "source": [
    "run1 = complete_run(0)\n",
    "run2 = complete_run(0)"
   ]
  },
  {
   "cell_type": "code",
   "execution_count": 3,
   "metadata": {},
   "outputs": [
    {
     "data": {
      "text/plain": [
       "History (loss, distributed):\n",
       "\tround 1: 0.23777819456905128\n",
       "\tround 2: 0.15710546273272485\n",
       "\tround 3: 0.11228240823280067\n",
       "\tround 4: 0.0846113607659936\n",
       "\tround 5: 0.08301721393363551\n",
       "History (metrics, distributed):\n",
       "{'accuracy': [(1, 0.933), (2, 0.955), (3, 0.96675), (4, 0.97375), (5, 0.974)]}"
      ]
     },
     "execution_count": 3,
     "metadata": {},
     "output_type": "execute_result"
    }
   ],
   "source": [
    "run1"
   ]
  },
  {
   "cell_type": "code",
   "execution_count": 4,
   "metadata": {},
   "outputs": [
    {
     "data": {
      "text/plain": [
       "History (loss, distributed):\n",
       "\tround 1: 0.23777819456905128\n",
       "\tround 2: 0.15710546273272485\n",
       "\tround 3: 0.11228240823280067\n",
       "\tround 4: 0.0846113607659936\n",
       "\tround 5: 0.08301721393363551\n",
       "History (metrics, distributed):\n",
       "{'accuracy': [(1, 0.933), (2, 0.955), (3, 0.96675), (4, 0.97375), (5, 0.974)]}"
      ]
     },
     "execution_count": 4,
     "metadata": {},
     "output_type": "execute_result"
    }
   ],
   "source": [
    "run2"
   ]
  },
  {
   "cell_type": "code",
   "execution_count": 5,
   "metadata": {},
   "outputs": [
    {
     "name": "stderr",
     "output_type": "stream",
     "text": [
      "INFO flwr 2023-03-10 15:45:48,444 | app.py:176 | Starting Flower simulation, config: ServerConfig(num_rounds=5, round_timeout=None)\n",
      "2023-03-10 15:45:50,365\tINFO worker.py:1553 -- Started a local Ray instance.\n",
      "INFO flwr 2023-03-10 15:45:51,764 | app.py:229 | Flower VCE: Ray initialized with resources: {'memory': 17133169869.0, 'CPU': 10.0, 'node:127.0.0.1': 1.0, 'object_store_memory': 2147483648.0}\n",
      "INFO flwr 2023-03-10 15:45:51,898 | server.py:100 | Initializing global parameters\n",
      "INFO flwr 2023-03-10 15:45:51,898 | server.py:291 | Requesting initial parameters from one random client\n",
      "INFO flwr 2023-03-10 15:45:53,369 | server.py:295 | Received initial parameters from one random client\n",
      "INFO flwr 2023-03-10 15:45:53,370 | server.py:102 | Evaluating initial parameters\n",
      "INFO flwr 2023-03-10 15:45:53,370 | server.py:115 | FL starting\n",
      "DEBUG flwr 2023-03-10 15:45:53,370 | server.py:232 | fit_round 1: strategy sampled 2 clients (out of 5)\n",
      "DEBUG flwr 2023-03-10 15:46:06,570 | server.py:246 | fit_round 1 received 2 results and 0 failures\n",
      "WARNING flwr 2023-03-10 15:46:06,579 | fedavg.py:243 | No fit_metrics_aggregation_fn provided\n",
      "DEBUG flwr 2023-03-10 15:46:06,580 | server.py:179 | evaluate_round 1: strategy sampled 2 clients (out of 5)\n",
      "DEBUG flwr 2023-03-10 15:46:07,356 | server.py:193 | evaluate_round 1 received 2 results and 0 failures\n",
      "DEBUG flwr 2023-03-10 15:46:07,356 | server.py:232 | fit_round 2: strategy sampled 2 clients (out of 5)\n",
      "DEBUG flwr 2023-03-10 15:46:20,649 | server.py:246 | fit_round 2 received 2 results and 0 failures\n",
      "DEBUG flwr 2023-03-10 15:46:20,658 | server.py:179 | evaluate_round 2: strategy sampled 2 clients (out of 5)\n",
      "DEBUG flwr 2023-03-10 15:46:21,379 | server.py:193 | evaluate_round 2 received 2 results and 0 failures\n",
      "DEBUG flwr 2023-03-10 15:46:21,379 | server.py:232 | fit_round 3: strategy sampled 2 clients (out of 5)\n",
      "DEBUG flwr 2023-03-10 15:46:34,502 | server.py:246 | fit_round 3 received 2 results and 0 failures\n",
      "DEBUG flwr 2023-03-10 15:46:34,509 | server.py:179 | evaluate_round 3: strategy sampled 2 clients (out of 5)\n",
      "DEBUG flwr 2023-03-10 15:46:35,230 | server.py:193 | evaluate_round 3 received 2 results and 0 failures\n",
      "DEBUG flwr 2023-03-10 15:46:35,230 | server.py:232 | fit_round 4: strategy sampled 2 clients (out of 5)\n",
      "DEBUG flwr 2023-03-10 15:46:48,576 | server.py:246 | fit_round 4 received 2 results and 0 failures\n",
      "DEBUG flwr 2023-03-10 15:46:48,585 | server.py:179 | evaluate_round 4: strategy sampled 2 clients (out of 5)\n",
      "DEBUG flwr 2023-03-10 15:46:49,307 | server.py:193 | evaluate_round 4 received 2 results and 0 failures\n",
      "DEBUG flwr 2023-03-10 15:46:49,308 | server.py:232 | fit_round 5: strategy sampled 2 clients (out of 5)\n",
      "DEBUG flwr 2023-03-10 15:47:02,102 | server.py:246 | fit_round 5 received 2 results and 0 failures\n",
      "DEBUG flwr 2023-03-10 15:47:02,110 | server.py:179 | evaluate_round 5: strategy sampled 2 clients (out of 5)\n",
      "DEBUG flwr 2023-03-10 15:47:02,871 | server.py:193 | evaluate_round 5 received 2 results and 0 failures\n",
      "INFO flwr 2023-03-10 15:47:02,871 | server.py:158 | FL finished in 69.50118079100503\n",
      "INFO flwr 2023-03-10 15:47:02,872 | app.py:209 | app_fit: losses_distributed [(1, 0.23599314831197263), (2, 0.13439781311899424), (3, 0.103604506816715), (4, 0.08954817651212216), (5, 0.07751182667119429)]\n",
      "INFO flwr 2023-03-10 15:47:02,872 | app.py:210 | app_fit: metrics_distributed {'accuracy': [(1, 0.934), (2, 0.9585), (3, 0.9675), (4, 0.9715), (5, 0.97525)]}\n",
      "INFO flwr 2023-03-10 15:47:02,872 | app.py:211 | app_fit: losses_centralized []\n",
      "INFO flwr 2023-03-10 15:47:02,873 | app.py:212 | app_fit: metrics_centralized {}\n"
     ]
    },
    {
     "data": {
      "text/plain": [
       "History (loss, distributed):\n",
       "\tround 1: 0.23599314831197263\n",
       "\tround 2: 0.13439781311899424\n",
       "\tround 3: 0.103604506816715\n",
       "\tround 4: 0.08954817651212216\n",
       "\tround 5: 0.07751182667119429\n",
       "History (metrics, distributed):\n",
       "{'accuracy': [(1, 0.934), (2, 0.9585), (3, 0.9675), (4, 0.9715), (5, 0.97525)]}"
      ]
     },
     "execution_count": 5,
     "metadata": {},
     "output_type": "execute_result"
    }
   ],
   "source": [
    "complete_run(4)"
   ]
  }
 ],
 "metadata": {
  "kernelspec": {
   "display_name": "flwr-mps",
   "language": "python",
   "name": "python3"
  },
  "language_info": {
   "codemirror_mode": {
    "name": "ipython",
    "version": 3
   },
   "file_extension": ".py",
   "mimetype": "text/x-python",
   "name": "python",
   "nbconvert_exporter": "python",
   "pygments_lexer": "ipython3",
   "version": "3.10.9"
  },
  "orig_nbformat": 4
 },
 "nbformat": 4,
 "nbformat_minor": 2
}
