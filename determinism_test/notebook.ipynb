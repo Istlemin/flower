{
 "cells": [
  {
   "cell_type": "code",
   "execution_count": 6,
   "metadata": {},
   "outputs": [],
   "source": [
    "import torch\n",
    "import flwr as fl\n",
    "from torch.utils.data import Dataset, Subset\n",
    "from torchvision.datasets import MNIST\n",
    "from torchvision.transforms import Compose, Normalize, ToTensor\n",
    "from client import get_client_generator, weighted_average_accuracy\n",
    "from dataset import partition_dataset\n",
    "from util import seed_everything\n",
    "from flwr.server.strategy import FedAvg\n",
    "\n",
    "transform = Compose([ToTensor(), Normalize((0.1307,), (0.3081,))])\n",
    "train_dataset = MNIST(\"./mnist\", train=True, download=True, transform=transform)\n",
    "val_dataset = MNIST(\"./mnist\", train=False, transform=transform)\n",
    "\n",
    "def complete_run(seed):\n",
    "    seed_everything(seed)\n",
    "\n",
    "    num_clients = 10\n",
    "    train_datasets = partition_dataset(train_dataset, num_clients)\n",
    "    val_datasets = partition_dataset(val_dataset, num_clients)\n",
    "    train_dataloaders = [torch.utils.data.DataLoader(dataset, batch_size=16, shuffle=True) for dataset in train_datasets]\n",
    "    val_dataloaders = [torch.utils.data.DataLoader(dataset, batch_size=16) for dataset in val_datasets]\n",
    "    client_resources = None\n",
    "    client_fn = get_client_generator(train_dataloaders, val_dataloaders)\n",
    "    client_config = {\n",
    "        \"lr\": 0.05,\n",
    "        \"epochs\": 1,\n",
    "    }\n",
    "    strategy = FedAvg(\n",
    "        min_fit_clients=2,\n",
    "        min_evaluate_clients=2,\n",
    "        min_available_clients=2,\n",
    "        fraction_fit=0.5,\n",
    "        fraction_evaluate=0.5,\n",
    "        on_fit_config_fn=lambda _: client_config,\n",
    "        on_evaluate_config_fn=lambda _: client_config,\n",
    "        evaluate_metrics_aggregation_fn=weighted_average_accuracy,\n",
    "    )\n",
    "    hist = fl.simulation.start_simulation(\n",
    "        client_fn=client_fn,\n",
    "        seed_fn=seed_everything,\n",
    "        seed=1234,\n",
    "        num_clients=num_clients,\n",
    "        config=fl.server.ServerConfig(num_rounds=5),\n",
    "        client_resources=client_resources,\n",
    "        strategy=strategy\n",
    "    )\n",
    "    return hist"
   ]
  },
  {
   "cell_type": "code",
   "execution_count": 7,
   "metadata": {},
   "outputs": [
    {
     "name": "stderr",
     "output_type": "stream",
     "text": [
      "INFO flwr 2023-03-08 14:55:05,530 | app.py:148 | Starting Flower simulation, config: ServerConfig(num_rounds=5, round_timeout=None)\n",
      "2023-03-08 14:55:09,639\tINFO worker.py:1553 -- Started a local Ray instance.\n",
      "INFO flwr 2023-03-08 14:55:11,133 | app.py:182 | Flower VCE: Ray initialized with resources: {'object_store_memory': 2147483648.0, 'node:127.0.0.1': 1.0, 'CPU': 10.0, 'memory': 17186784871.0}\n",
      "INFO flwr 2023-03-08 14:55:11,135 | server.py:96 | Initializing global parameters\n",
      "INFO flwr 2023-03-08 14:55:11,136 | server.py:289 | Requesting initial parameters from one random client\n",
      "INFO flwr 2023-03-08 14:55:11,917 | server.py:293 | Received initial parameters from one random client\n",
      "INFO flwr 2023-03-08 14:55:11,918 | server.py:98 | Evaluating initial parameters\n",
      "INFO flwr 2023-03-08 14:55:11,918 | server.py:111 | FL starting\n",
      "DEBUG flwr 2023-03-08 14:55:11,919 | server.py:230 | fit_round 1: strategy sampled 9 clients (out of 18)\n",
      "DEBUG flwr 2023-03-08 14:55:19,004 | server.py:244 | fit_round 1 received 9 results and 0 failures\n",
      "WARNING flwr 2023-03-08 14:55:19,035 | fedavg.py:243 | No fit_metrics_aggregation_fn provided\n",
      "DEBUG flwr 2023-03-08 14:55:19,038 | server.py:175 | evaluate_round 1: strategy sampled 9 clients (out of 18)\n",
      "DEBUG flwr 2023-03-08 14:55:20,161 | server.py:189 | evaluate_round 1 received 9 results and 0 failures\n",
      "DEBUG flwr 2023-03-08 14:55:20,162 | server.py:230 | fit_round 2: strategy sampled 9 clients (out of 18)\n"
     ]
    }
   ],
   "source": [
    "run1 = complete_run(0)"
   ]
  },
  {
   "cell_type": "code",
   "execution_count": null,
   "metadata": {},
   "outputs": [
    {
     "name": "stderr",
     "output_type": "stream",
     "text": [
      "INFO flwr 2023-03-08 14:54:24,045 | app.py:148 | Starting Flower simulation, config: ServerConfig(num_rounds=1, round_timeout=None)\n",
      "2023-03-08 14:54:28,528\tINFO worker.py:1553 -- Started a local Ray instance.\n",
      "INFO flwr 2023-03-08 14:54:30,082 | app.py:182 | Flower VCE: Ray initialized with resources: {'object_store_memory': 2147483648.0, 'CPU': 10.0, 'memory': 16810904781.0, 'node:127.0.0.1': 1.0}\n",
      "INFO flwr 2023-03-08 14:54:30,084 | server.py:96 | Initializing global parameters\n",
      "INFO flwr 2023-03-08 14:54:30,084 | server.py:289 | Requesting initial parameters from one random client\n",
      "INFO flwr 2023-03-08 14:54:30,788 | server.py:293 | Received initial parameters from one random client\n",
      "INFO flwr 2023-03-08 14:54:30,788 | server.py:98 | Evaluating initial parameters\n",
      "INFO flwr 2023-03-08 14:54:30,789 | server.py:111 | FL starting\n",
      "DEBUG flwr 2023-03-08 14:54:30,789 | server.py:230 | fit_round 1: strategy sampled 9 clients (out of 18)\n",
      "DEBUG flwr 2023-03-08 14:54:38,156 | server.py:244 | fit_round 1 received 9 results and 0 failures\n",
      "WARNING flwr 2023-03-08 14:54:38,184 | fedavg.py:243 | No fit_metrics_aggregation_fn provided\n",
      "DEBUG flwr 2023-03-08 14:54:38,186 | server.py:175 | evaluate_round 1: strategy sampled 9 clients (out of 18)\n",
      "DEBUG flwr 2023-03-08 14:54:39,052 | server.py:189 | evaluate_round 1 received 9 results and 0 failures\n",
      "INFO flwr 2023-03-08 14:54:39,053 | server.py:154 | FL finished in 8.263931917026639\n",
      "INFO flwr 2023-03-08 14:54:39,056 | app.py:209 | app_fit: losses_distributed [(1, 0.40468900497972216)]\n",
      "INFO flwr 2023-03-08 14:54:39,056 | app.py:210 | app_fit: metrics_distributed {'accuracy': [(1, 0.8957791558311662)]}\n",
      "INFO flwr 2023-03-08 14:54:39,057 | app.py:211 | app_fit: losses_centralized []\n",
      "INFO flwr 2023-03-08 14:54:39,057 | app.py:212 | app_fit: metrics_centralized {}\n"
     ]
    }
   ],
   "source": [
    "run2 = complete_run(0)"
   ]
  },
  {
   "cell_type": "code",
   "execution_count": null,
   "metadata": {},
   "outputs": [
    {
     "data": {
      "text/plain": [
       "History (loss, distributed):\n",
       "\tround 1: 0.40468900497972216\n",
       "History (metrics, distributed):\n",
       "{'accuracy': [(1, 0.8957791558311662)]}"
      ]
     },
     "execution_count": 4,
     "metadata": {},
     "output_type": "execute_result"
    }
   ],
   "source": [
    "run1"
   ]
  },
  {
   "cell_type": "code",
   "execution_count": null,
   "metadata": {},
   "outputs": [
    {
     "data": {
      "text/plain": [
       "History (loss, distributed):\n",
       "\tround 1: 0.40468900497972216\n",
       "History (metrics, distributed):\n",
       "{'accuracy': [(1, 0.8957791558311662)]}"
      ]
     },
     "execution_count": 5,
     "metadata": {},
     "output_type": "execute_result"
    }
   ],
   "source": [
    "run2"
   ]
  },
  {
   "cell_type": "code",
   "execution_count": null,
   "metadata": {},
   "outputs": [],
   "source": []
  }
 ],
 "metadata": {
  "kernelspec": {
   "display_name": "flwr-mps",
   "language": "python",
   "name": "python3"
  },
  "language_info": {
   "codemirror_mode": {
    "name": "ipython",
    "version": 3
   },
   "file_extension": ".py",
   "mimetype": "text/x-python",
   "name": "python",
   "nbconvert_exporter": "python",
   "pygments_lexer": "ipython3",
   "version": "3.10.9"
  },
  "orig_nbformat": 4
 },
 "nbformat": 4,
 "nbformat_minor": 2
}
