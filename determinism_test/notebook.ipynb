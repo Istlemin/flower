{
 "cells": [
  {
   "cell_type": "code",
   "execution_count": 12,
   "metadata": {},
   "outputs": [],
   "source": [
    "import torch\n",
    "import flwr as fl\n",
    "import random\n",
    "import numpy as np\n",
    "from torchvision.datasets import MNIST\n",
    "from torchvision.transforms import Compose, Normalize, ToTensor\n",
    "from client import get_client_generator, weighted_average_accuracy\n",
    "from dataset import partition_dataset\n",
    "from flwr.server.strategy import FedAvg\n",
    "\n",
    "transform = Compose([ToTensor(), Normalize((0.1307,), (0.3081,))])\n",
    "train_dataset = MNIST(\"./mnist\", train=True, download=True, transform=transform)\n",
    "val_dataset = MNIST(\"./mnist\", train=False, transform=transform)\n",
    "\n",
    "torch.backends.cudnn.deterministic = True\n",
    "torch.backends.cudnn.benchmark = False\n",
    "torch.use_deterministic_algorithms(True)\n",
    "\n",
    "def seed_everything(seed):\n",
    "    random.seed(seed)\n",
    "    np.random.seed(seed)\n",
    "    torch.manual_seed(seed)\n",
    "\n",
    "def complete_run(seed=None, ):\n",
    "    if seed is not None:\n",
    "        seed_everything(seed)\n",
    "\n",
    "    num_clients = 5\n",
    "    train_datasets = partition_dataset(train_dataset, num_clients)\n",
    "    val_datasets = partition_dataset(val_dataset, num_clients)\n",
    "    train_dataloaders = [torch.utils.data.DataLoader(dataset, batch_size=16, shuffle=True) for dataset in train_datasets]\n",
    "    val_dataloaders = [torch.utils.data.DataLoader(dataset, batch_size=16) for dataset in val_datasets]\n",
    "    client_resources = None\n",
    "    client_fn = get_client_generator(train_dataloaders, val_dataloaders)\n",
    "    client_config = {\n",
    "        \"lr\": 0.05,\n",
    "        \"epochs\": 1,\n",
    "    }\n",
    "    strategy = FedAvg(\n",
    "        min_fit_clients=2,\n",
    "        min_evaluate_clients=2,\n",
    "        min_available_clients=2,\n",
    "        fraction_fit=0.25,\n",
    "        fraction_evaluate=0.25,\n",
    "        on_fit_config_fn=lambda _: client_config,\n",
    "        on_evaluate_config_fn=lambda _: client_config,\n",
    "        evaluate_metrics_aggregation_fn=weighted_average_accuracy,\n",
    "    )\n",
    "    \n",
    "    hist = fl.simulation.start_simulation(\n",
    "        client_fn=client_fn,\n",
    "        seed_fn=seed_everything if seed is not None else None,\n",
    "        seed=seed,\n",
    "        num_clients=num_clients,\n",
    "        config=fl.server.ServerConfig(num_rounds=5),\n",
    "        client_resources=client_resources,\n",
    "        strategy=strategy\n",
    "    )\n",
    "\n",
    "    return hist"
   ]
  },
  {
   "cell_type": "code",
   "execution_count": 13,
   "metadata": {},
   "outputs": [
    {
     "name": "stderr",
     "output_type": "stream",
     "text": [
      "INFO flwr 2023-03-10 14:19:46,283 | app.py:176 | Starting Flower simulation, config: ServerConfig(num_rounds=5, round_timeout=None)\n",
      "2023-03-10 14:19:50,586\tINFO worker.py:1553 -- Started a local Ray instance.\n",
      "INFO flwr 2023-03-10 14:19:52,032 | app.py:210 | Flower VCE: Ray initialized with resources: {'memory': 15634279629.0, 'object_store_memory': 2147483648.0, 'node:127.0.0.1': 1.0, 'CPU': 10.0}\n",
      "INFO flwr 2023-03-10 14:19:52,212 | server.py:100 | Initializing global parameters\n",
      "INFO flwr 2023-03-10 14:19:52,212 | server.py:291 | Requesting initial parameters from one random client\n",
      "INFO flwr 2023-03-10 14:19:53,758 | server.py:295 | Received initial parameters from one random client\n",
      "INFO flwr 2023-03-10 14:19:53,758 | server.py:102 | Evaluating initial parameters\n",
      "INFO flwr 2023-03-10 14:19:53,758 | server.py:115 | FL starting\n",
      "DEBUG flwr 2023-03-10 14:19:53,758 | server.py:232 | fit_round 1: strategy sampled 2 clients (out of 5)\n",
      "DEBUG flwr 2023-03-10 14:20:06,898 | server.py:246 | fit_round 1 received 2 results and 0 failures\n",
      "WARNING flwr 2023-03-10 14:20:06,906 | fedavg.py:243 | No fit_metrics_aggregation_fn provided\n",
      "DEBUG flwr 2023-03-10 14:20:06,907 | server.py:179 | evaluate_round 1: strategy sampled 2 clients (out of 5)\n",
      "DEBUG flwr 2023-03-10 14:20:07,682 | server.py:193 | evaluate_round 1 received 2 results and 0 failures\n",
      "DEBUG flwr 2023-03-10 14:20:07,682 | server.py:232 | fit_round 2: strategy sampled 2 clients (out of 5)\n",
      "DEBUG flwr 2023-03-10 14:20:20,976 | server.py:246 | fit_round 2 received 2 results and 0 failures\n",
      "DEBUG flwr 2023-03-10 14:20:20,984 | server.py:179 | evaluate_round 2: strategy sampled 2 clients (out of 5)\n",
      "DEBUG flwr 2023-03-10 14:20:21,767 | server.py:193 | evaluate_round 2 received 2 results and 0 failures\n",
      "DEBUG flwr 2023-03-10 14:20:21,767 | server.py:232 | fit_round 3: strategy sampled 2 clients (out of 5)\n",
      "DEBUG flwr 2023-03-10 14:20:35,046 | server.py:246 | fit_round 3 received 2 results and 0 failures\n",
      "DEBUG flwr 2023-03-10 14:20:35,055 | server.py:179 | evaluate_round 3: strategy sampled 2 clients (out of 5)\n",
      "DEBUG flwr 2023-03-10 14:20:35,781 | server.py:193 | evaluate_round 3 received 2 results and 0 failures\n",
      "DEBUG flwr 2023-03-10 14:20:35,782 | server.py:232 | fit_round 4: strategy sampled 2 clients (out of 5)\n",
      "DEBUG flwr 2023-03-10 14:20:49,065 | server.py:246 | fit_round 4 received 2 results and 0 failures\n",
      "DEBUG flwr 2023-03-10 14:20:49,074 | server.py:179 | evaluate_round 4: strategy sampled 2 clients (out of 5)\n",
      "DEBUG flwr 2023-03-10 14:20:49,857 | server.py:193 | evaluate_round 4 received 2 results and 0 failures\n",
      "DEBUG flwr 2023-03-10 14:20:49,857 | server.py:232 | fit_round 5: strategy sampled 2 clients (out of 5)\n",
      "DEBUG flwr 2023-03-10 14:21:03,376 | server.py:246 | fit_round 5 received 2 results and 0 failures\n",
      "DEBUG flwr 2023-03-10 14:21:03,384 | server.py:179 | evaluate_round 5: strategy sampled 2 clients (out of 5)\n",
      "DEBUG flwr 2023-03-10 14:21:04,118 | server.py:193 | evaluate_round 5 received 2 results and 0 failures\n",
      "INFO flwr 2023-03-10 14:21:04,119 | server.py:158 | FL finished in 70.36039095802698\n",
      "INFO flwr 2023-03-10 14:21:04,119 | app.py:209 | app_fit: losses_distributed [(1, 0.23777819456905128), (2, 0.15710546273272485), (3, 0.11228240823280067), (4, 0.0846113607659936), (5, 0.08301721393363551)]\n",
      "INFO flwr 2023-03-10 14:21:04,119 | app.py:210 | app_fit: metrics_distributed {'accuracy': [(1, 0.933), (2, 0.955), (3, 0.96675), (4, 0.97375), (5, 0.974)]}\n",
      "INFO flwr 2023-03-10 14:21:04,120 | app.py:211 | app_fit: losses_centralized []\n",
      "INFO flwr 2023-03-10 14:21:04,120 | app.py:212 | app_fit: metrics_centralized {}\n",
      "INFO flwr 2023-03-10 14:21:04,142 | app.py:176 | Starting Flower simulation, config: ServerConfig(num_rounds=5, round_timeout=None)\n",
      "2023-03-10 14:21:07,863\tINFO worker.py:1553 -- Started a local Ray instance.\n",
      "INFO flwr 2023-03-10 14:21:09,330 | app.py:210 | Flower VCE: Ray initialized with resources: {'memory': 16580976640.0, 'object_store_memory': 2147483648.0, 'CPU': 10.0, 'node:127.0.0.1': 1.0}\n",
      "INFO flwr 2023-03-10 14:21:09,501 | server.py:100 | Initializing global parameters\n",
      "INFO flwr 2023-03-10 14:21:09,502 | server.py:291 | Requesting initial parameters from one random client\n",
      "INFO flwr 2023-03-10 14:21:11,083 | server.py:295 | Received initial parameters from one random client\n",
      "INFO flwr 2023-03-10 14:21:11,083 | server.py:102 | Evaluating initial parameters\n",
      "INFO flwr 2023-03-10 14:21:11,084 | server.py:115 | FL starting\n",
      "DEBUG flwr 2023-03-10 14:21:11,084 | server.py:232 | fit_round 1: strategy sampled 2 clients (out of 5)\n",
      "DEBUG flwr 2023-03-10 14:21:24,493 | server.py:246 | fit_round 1 received 2 results and 0 failures\n",
      "WARNING flwr 2023-03-10 14:21:24,502 | fedavg.py:243 | No fit_metrics_aggregation_fn provided\n",
      "DEBUG flwr 2023-03-10 14:21:24,502 | server.py:179 | evaluate_round 1: strategy sampled 2 clients (out of 5)\n",
      "DEBUG flwr 2023-03-10 14:21:25,214 | server.py:193 | evaluate_round 1 received 2 results and 0 failures\n",
      "DEBUG flwr 2023-03-10 14:21:25,214 | server.py:232 | fit_round 2: strategy sampled 2 clients (out of 5)\n",
      "DEBUG flwr 2023-03-10 14:21:38,522 | server.py:246 | fit_round 2 received 2 results and 0 failures\n",
      "DEBUG flwr 2023-03-10 14:21:38,530 | server.py:179 | evaluate_round 2: strategy sampled 2 clients (out of 5)\n",
      "DEBUG flwr 2023-03-10 14:21:39,243 | server.py:193 | evaluate_round 2 received 2 results and 0 failures\n",
      "DEBUG flwr 2023-03-10 14:21:39,243 | server.py:232 | fit_round 3: strategy sampled 2 clients (out of 5)\n",
      "DEBUG flwr 2023-03-10 14:21:52,517 | server.py:246 | fit_round 3 received 2 results and 0 failures\n",
      "DEBUG flwr 2023-03-10 14:21:52,524 | server.py:179 | evaluate_round 3: strategy sampled 2 clients (out of 5)\n",
      "DEBUG flwr 2023-03-10 14:21:53,233 | server.py:193 | evaluate_round 3 received 2 results and 0 failures\n",
      "DEBUG flwr 2023-03-10 14:21:53,234 | server.py:232 | fit_round 4: strategy sampled 2 clients (out of 5)\n",
      "DEBUG flwr 2023-03-10 14:22:06,206 | server.py:246 | fit_round 4 received 2 results and 0 failures\n",
      "DEBUG flwr 2023-03-10 14:22:06,213 | server.py:179 | evaluate_round 4: strategy sampled 2 clients (out of 5)\n",
      "DEBUG flwr 2023-03-10 14:22:06,908 | server.py:193 | evaluate_round 4 received 2 results and 0 failures\n",
      "DEBUG flwr 2023-03-10 14:22:06,908 | server.py:232 | fit_round 5: strategy sampled 2 clients (out of 5)\n",
      "DEBUG flwr 2023-03-10 14:22:20,146 | server.py:246 | fit_round 5 received 2 results and 0 failures\n",
      "DEBUG flwr 2023-03-10 14:22:20,152 | server.py:179 | evaluate_round 5: strategy sampled 2 clients (out of 5)\n",
      "DEBUG flwr 2023-03-10 14:22:20,857 | server.py:193 | evaluate_round 5 received 2 results and 0 failures\n",
      "INFO flwr 2023-03-10 14:22:20,857 | server.py:158 | FL finished in 69.77379033400211\n",
      "INFO flwr 2023-03-10 14:22:20,858 | app.py:209 | app_fit: losses_distributed [(1, 0.23777819456905128), (2, 0.15710546273272485), (3, 0.11228240823280067), (4, 0.0846113607659936), (5, 0.08301721393363551)]\n",
      "INFO flwr 2023-03-10 14:22:20,858 | app.py:210 | app_fit: metrics_distributed {'accuracy': [(1, 0.933), (2, 0.955), (3, 0.96675), (4, 0.97375), (5, 0.974)]}\n",
      "INFO flwr 2023-03-10 14:22:20,859 | app.py:211 | app_fit: losses_centralized []\n",
      "INFO flwr 2023-03-10 14:22:20,859 | app.py:212 | app_fit: metrics_centralized {}\n"
     ]
    }
   ],
   "source": [
    "run1 = complete_run(0)\n",
    "run2 = complete_run(0)"
   ]
  },
  {
   "cell_type": "code",
   "execution_count": 14,
   "metadata": {},
   "outputs": [
    {
     "data": {
      "text/plain": [
       "History (loss, distributed):\n",
       "\tround 1: 0.23777819456905128\n",
       "\tround 2: 0.15710546273272485\n",
       "\tround 3: 0.11228240823280067\n",
       "\tround 4: 0.0846113607659936\n",
       "\tround 5: 0.08301721393363551\n",
       "History (metrics, distributed):\n",
       "{'accuracy': [(1, 0.933), (2, 0.955), (3, 0.96675), (4, 0.97375), (5, 0.974)]}"
      ]
     },
     "execution_count": 14,
     "metadata": {},
     "output_type": "execute_result"
    }
   ],
   "source": [
    "run1"
   ]
  },
  {
   "cell_type": "code",
   "execution_count": 15,
   "metadata": {},
   "outputs": [
    {
     "data": {
      "text/plain": [
       "History (loss, distributed):\n",
       "\tround 1: 0.23777819456905128\n",
       "\tround 2: 0.15710546273272485\n",
       "\tround 3: 0.11228240823280067\n",
       "\tround 4: 0.0846113607659936\n",
       "\tround 5: 0.08301721393363551\n",
       "History (metrics, distributed):\n",
       "{'accuracy': [(1, 0.933), (2, 0.955), (3, 0.96675), (4, 0.97375), (5, 0.974)]}"
      ]
     },
     "execution_count": 15,
     "metadata": {},
     "output_type": "execute_result"
    }
   ],
   "source": [
    "run2"
   ]
  },
  {
   "cell_type": "code",
   "execution_count": 16,
   "metadata": {},
   "outputs": [
    {
     "name": "stderr",
     "output_type": "stream",
     "text": [
      "INFO flwr 2023-03-10 14:22:20,980 | app.py:176 | Starting Flower simulation, config: ServerConfig(num_rounds=5, round_timeout=None)\n",
      "2023-03-10 14:22:25,517\tINFO worker.py:1553 -- Started a local Ray instance.\n",
      "INFO flwr 2023-03-10 14:22:27,030 | app.py:210 | Flower VCE: Ray initialized with resources: {'node:127.0.0.1': 1.0, 'memory': 16693013709.0, 'CPU': 10.0, 'object_store_memory': 2147483648.0}\n",
      "INFO flwr 2023-03-10 14:22:27,200 | server.py:100 | Initializing global parameters\n",
      "INFO flwr 2023-03-10 14:22:27,200 | server.py:291 | Requesting initial parameters from one random client\n",
      "INFO flwr 2023-03-10 14:22:28,670 | server.py:295 | Received initial parameters from one random client\n",
      "INFO flwr 2023-03-10 14:22:28,671 | server.py:102 | Evaluating initial parameters\n",
      "INFO flwr 2023-03-10 14:22:28,671 | server.py:115 | FL starting\n",
      "DEBUG flwr 2023-03-10 14:22:28,671 | server.py:232 | fit_round 1: strategy sampled 2 clients (out of 5)\n",
      "DEBUG flwr 2023-03-10 14:22:41,978 | server.py:246 | fit_round 1 received 2 results and 0 failures\n",
      "WARNING flwr 2023-03-10 14:22:41,985 | fedavg.py:243 | No fit_metrics_aggregation_fn provided\n",
      "DEBUG flwr 2023-03-10 14:22:41,986 | server.py:179 | evaluate_round 1: strategy sampled 2 clients (out of 5)\n",
      "DEBUG flwr 2023-03-10 14:22:42,766 | server.py:193 | evaluate_round 1 received 2 results and 0 failures\n",
      "DEBUG flwr 2023-03-10 14:22:42,766 | server.py:232 | fit_round 2: strategy sampled 2 clients (out of 5)\n",
      "DEBUG flwr 2023-03-10 14:22:55,991 | server.py:246 | fit_round 2 received 2 results and 0 failures\n",
      "DEBUG flwr 2023-03-10 14:22:56,000 | server.py:179 | evaluate_round 2: strategy sampled 2 clients (out of 5)\n",
      "DEBUG flwr 2023-03-10 14:22:56,738 | server.py:193 | evaluate_round 2 received 2 results and 0 failures\n",
      "DEBUG flwr 2023-03-10 14:22:56,739 | server.py:232 | fit_round 3: strategy sampled 2 clients (out of 5)\n",
      "DEBUG flwr 2023-03-10 14:23:09,874 | server.py:246 | fit_round 3 received 2 results and 0 failures\n",
      "DEBUG flwr 2023-03-10 14:23:09,883 | server.py:179 | evaluate_round 3: strategy sampled 2 clients (out of 5)\n",
      "DEBUG flwr 2023-03-10 14:23:10,587 | server.py:193 | evaluate_round 3 received 2 results and 0 failures\n",
      "DEBUG flwr 2023-03-10 14:23:10,587 | server.py:232 | fit_round 4: strategy sampled 2 clients (out of 5)\n",
      "DEBUG flwr 2023-03-10 14:23:24,223 | server.py:246 | fit_round 4 received 2 results and 0 failures\n",
      "DEBUG flwr 2023-03-10 14:23:24,231 | server.py:179 | evaluate_round 4: strategy sampled 2 clients (out of 5)\n",
      "DEBUG flwr 2023-03-10 14:23:24,989 | server.py:193 | evaluate_round 4 received 2 results and 0 failures\n",
      "DEBUG flwr 2023-03-10 14:23:24,989 | server.py:232 | fit_round 5: strategy sampled 2 clients (out of 5)\n",
      "DEBUG flwr 2023-03-10 14:23:38,469 | server.py:246 | fit_round 5 received 2 results and 0 failures\n",
      "DEBUG flwr 2023-03-10 14:23:38,477 | server.py:179 | evaluate_round 5: strategy sampled 2 clients (out of 5)\n",
      "DEBUG flwr 2023-03-10 14:23:39,255 | server.py:193 | evaluate_round 5 received 2 results and 0 failures\n",
      "INFO flwr 2023-03-10 14:23:39,255 | server.py:158 | FL finished in 70.58400791703025\n",
      "INFO flwr 2023-03-10 14:23:39,256 | app.py:209 | app_fit: losses_distributed [(1, 0.23599314831197263), (2, 0.13439781311899424), (3, 0.103604506816715), (4, 0.08954817651212216), (5, 0.07751182667119429)]\n",
      "INFO flwr 2023-03-10 14:23:39,256 | app.py:210 | app_fit: metrics_distributed {'accuracy': [(1, 0.934), (2, 0.9585), (3, 0.9675), (4, 0.9715), (5, 0.97525)]}\n",
      "INFO flwr 2023-03-10 14:23:39,257 | app.py:211 | app_fit: losses_centralized []\n",
      "INFO flwr 2023-03-10 14:23:39,257 | app.py:212 | app_fit: metrics_centralized {}\n"
     ]
    },
    {
     "data": {
      "text/plain": [
       "History (loss, distributed):\n",
       "\tround 1: 0.23599314831197263\n",
       "\tround 2: 0.13439781311899424\n",
       "\tround 3: 0.103604506816715\n",
       "\tround 4: 0.08954817651212216\n",
       "\tround 5: 0.07751182667119429\n",
       "History (metrics, distributed):\n",
       "{'accuracy': [(1, 0.934), (2, 0.9585), (3, 0.9675), (4, 0.9715), (5, 0.97525)]}"
      ]
     },
     "execution_count": 16,
     "metadata": {},
     "output_type": "execute_result"
    }
   ],
   "source": [
    "complete_run(4)"
   ]
  }
 ],
 "metadata": {
  "kernelspec": {
   "display_name": "flwr-mps",
   "language": "python",
   "name": "python3"
  },
  "language_info": {
   "codemirror_mode": {
    "name": "ipython",
    "version": 3
   },
   "file_extension": ".py",
   "mimetype": "text/x-python",
   "name": "python",
   "nbconvert_exporter": "python",
   "pygments_lexer": "ipython3",
   "version": "3.10.9"
  },
  "orig_nbformat": 4
 },
 "nbformat": 4,
 "nbformat_minor": 2
}
