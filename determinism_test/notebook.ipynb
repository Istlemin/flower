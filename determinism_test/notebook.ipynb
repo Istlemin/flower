{
 "cells": [
  {
   "cell_type": "code",
   "execution_count": 11,
   "metadata": {},
   "outputs": [],
   "source": [
    "import torch\n",
    "import flwr as fl\n",
    "import random\n",
    "import numpy as np\n",
    "from torchvision.datasets import MNIST\n",
    "from torchvision.transforms import Compose, Normalize, ToTensor\n",
    "from client import get_client_generator, weighted_average_accuracy\n",
    "from dataset import partition_dataset\n",
    "from flwr.server.strategy import FedAvg\n",
    "\n",
    "transform = Compose([ToTensor(), Normalize((0.1307,), (0.3081,))])\n",
    "train_dataset = MNIST(\"./mnist\", train=True, download=True, transform=transform)\n",
    "val_dataset = MNIST(\"./mnist\", train=False, transform=transform)\n",
    "\n",
    "torch.backends.cudnn.deterministic = True\n",
    "torch.backends.cudnn.benchmark = False\n",
    "torch.use_deterministic_algorithms(True)\n",
    "\n",
    "def seed_everything(seed):\n",
    "    random.seed(seed)\n",
    "    np.random.seed(seed)\n",
    "    torch.manual_seed(seed)\n",
    "\n",
    "def complete_run(seed=None):\n",
    "    if seed is not None:\n",
    "        seed_everything(seed)\n",
    "\n",
    "    num_clients = 5\n",
    "    train_datasets = partition_dataset(train_dataset, num_clients)\n",
    "    val_datasets = partition_dataset(val_dataset, num_clients)\n",
    "    train_dataloaders = [torch.utils.data.DataLoader(dataset, batch_size=16, shuffle=True) for dataset in train_datasets]\n",
    "    val_dataloaders = [torch.utils.data.DataLoader(dataset, batch_size=16) for dataset in val_datasets]\n",
    "    client_resources = None\n",
    "    client_fn = get_client_generator(train_dataloaders, val_dataloaders)\n",
    "    client_config = {\n",
    "        \"lr\": 0.05,\n",
    "        \"epochs\": 1,\n",
    "    }\n",
    "    strategy = FedAvg(\n",
    "        min_fit_clients=2,\n",
    "        min_evaluate_clients=2,\n",
    "        min_available_clients=2,\n",
    "        fraction_fit=0.25,\n",
    "        fraction_evaluate=0.25,\n",
    "        on_fit_config_fn=lambda _: client_config,\n",
    "        on_evaluate_config_fn=lambda _: client_config,\n",
    "        evaluate_metrics_aggregation_fn=weighted_average_accuracy,\n",
    "    )\n",
    "    \n",
    "    hist = fl.simulation.start_simulation(\n",
    "        client_fn=client_fn,\n",
    "        seed_fn=seed_everything if seed is not None else None,\n",
    "        seed=seed,\n",
    "        num_clients=num_clients,\n",
    "        config=fl.server.ServerConfig(num_rounds=5),\n",
    "        client_resources=client_resources,\n",
    "        strategy=strategy\n",
    "    )\n",
    "\n",
    "    return hist"
   ]
  },
  {
   "cell_type": "code",
   "execution_count": 12,
   "metadata": {},
   "outputs": [
    {
     "name": "stderr",
     "output_type": "stream",
     "text": [
      "INFO flwr 2023-03-10 16:27:38,257 | app.py:176 | Starting Flower simulation, config: ServerConfig(num_rounds=5, round_timeout=None)\n",
      "2023-03-10 16:27:40,287\tINFO worker.py:1553 -- Started a local Ray instance.\n",
      "INFO flwr 2023-03-10 16:27:41,843 | app.py:229 | Flower VCE: Ray initialized with resources: {'CPU': 10.0, 'node:127.0.0.1': 1.0, 'object_store_memory': 2147483648.0, 'memory': 15522699674.0}\n",
      "INFO flwr 2023-03-10 16:27:42,034 | server.py:100 | Initializing global parameters\n",
      "INFO flwr 2023-03-10 16:27:42,035 | server.py:291 | Requesting initial parameters from one random client\n",
      "INFO flwr 2023-03-10 16:27:43,731 | server.py:295 | Received initial parameters from one random client\n",
      "INFO flwr 2023-03-10 16:27:43,731 | server.py:102 | Evaluating initial parameters\n",
      "INFO flwr 2023-03-10 16:27:43,732 | server.py:115 | FL starting\n",
      "DEBUG flwr 2023-03-10 16:27:43,732 | server.py:232 | fit_round 1: strategy sampled 2 clients (out of 5)\n",
      "DEBUG flwr 2023-03-10 16:27:56,849 | server.py:246 | fit_round 1 received 2 results and 0 failures\n",
      "WARNING flwr 2023-03-10 16:27:56,858 | fedavg.py:243 | No fit_metrics_aggregation_fn provided\n",
      "DEBUG flwr 2023-03-10 16:27:56,860 | server.py:179 | evaluate_round 1: strategy sampled 2 clients (out of 5)\n",
      "DEBUG flwr 2023-03-10 16:27:57,654 | server.py:193 | evaluate_round 1 received 2 results and 0 failures\n",
      "DEBUG flwr 2023-03-10 16:27:57,655 | server.py:232 | fit_round 2: strategy sampled 2 clients (out of 5)\n",
      "DEBUG flwr 2023-03-10 16:28:10,889 | server.py:246 | fit_round 2 received 2 results and 0 failures\n",
      "DEBUG flwr 2023-03-10 16:28:10,898 | server.py:179 | evaluate_round 2: strategy sampled 2 clients (out of 5)\n",
      "DEBUG flwr 2023-03-10 16:28:11,676 | server.py:193 | evaluate_round 2 received 2 results and 0 failures\n",
      "DEBUG flwr 2023-03-10 16:28:11,676 | server.py:232 | fit_round 3: strategy sampled 2 clients (out of 5)\n",
      "DEBUG flwr 2023-03-10 16:28:25,031 | server.py:246 | fit_round 3 received 2 results and 0 failures\n",
      "DEBUG flwr 2023-03-10 16:28:25,038 | server.py:179 | evaluate_round 3: strategy sampled 2 clients (out of 5)\n",
      "DEBUG flwr 2023-03-10 16:28:25,750 | server.py:193 | evaluate_round 3 received 2 results and 0 failures\n",
      "DEBUG flwr 2023-03-10 16:28:25,750 | server.py:232 | fit_round 4: strategy sampled 2 clients (out of 5)\n",
      "DEBUG flwr 2023-03-10 16:28:39,106 | server.py:246 | fit_round 4 received 2 results and 0 failures\n",
      "DEBUG flwr 2023-03-10 16:28:39,114 | server.py:179 | evaluate_round 4: strategy sampled 2 clients (out of 5)\n",
      "DEBUG flwr 2023-03-10 16:28:39,902 | server.py:193 | evaluate_round 4 received 2 results and 0 failures\n",
      "DEBUG flwr 2023-03-10 16:28:39,903 | server.py:232 | fit_round 5: strategy sampled 2 clients (out of 5)\n",
      "DEBUG flwr 2023-03-10 16:28:53,325 | server.py:246 | fit_round 5 received 2 results and 0 failures\n",
      "DEBUG flwr 2023-03-10 16:28:53,332 | server.py:179 | evaluate_round 5: strategy sampled 2 clients (out of 5)\n",
      "DEBUG flwr 2023-03-10 16:28:54,114 | server.py:193 | evaluate_round 5 received 2 results and 0 failures\n",
      "INFO flwr 2023-03-10 16:28:54,114 | server.py:158 | FL finished in 70.3814061669982\n",
      "INFO flwr 2023-03-10 16:28:54,114 | app.py:209 | app_fit: losses_distributed [(1, 0.23777819456905128), (2, 0.15710546273272485), (3, 0.11228240823280067), (4, 0.0846113607659936), (5, 0.08301721393363551)]\n",
      "INFO flwr 2023-03-10 16:28:54,115 | app.py:210 | app_fit: metrics_distributed {'accuracy': [(1, 0.933), (2, 0.955), (3, 0.96675), (4, 0.97375), (5, 0.974)]}\n",
      "INFO flwr 2023-03-10 16:28:54,115 | app.py:211 | app_fit: losses_centralized []\n",
      "INFO flwr 2023-03-10 16:28:54,115 | app.py:212 | app_fit: metrics_centralized {}\n",
      "INFO flwr 2023-03-10 16:28:56,734 | app.py:176 | Starting Flower simulation, config: ServerConfig(num_rounds=5, round_timeout=None)\n",
      "2023-03-10 16:28:59,643\tINFO worker.py:1553 -- Started a local Ray instance.\n",
      "INFO flwr 2023-03-10 16:29:00,985 | app.py:229 | Flower VCE: Ray initialized with resources: {'CPU': 10.0, 'node:127.0.0.1': 1.0, 'memory': 16909729792.0, 'object_store_memory': 2147483648.0}\n",
      "INFO flwr 2023-03-10 16:29:01,114 | server.py:100 | Initializing global parameters\n",
      "INFO flwr 2023-03-10 16:29:01,115 | server.py:291 | Requesting initial parameters from one random client\n",
      "INFO flwr 2023-03-10 16:29:02,556 | server.py:295 | Received initial parameters from one random client\n",
      "INFO flwr 2023-03-10 16:29:02,556 | server.py:102 | Evaluating initial parameters\n",
      "INFO flwr 2023-03-10 16:29:02,556 | server.py:115 | FL starting\n",
      "DEBUG flwr 2023-03-10 16:29:02,557 | server.py:232 | fit_round 1: strategy sampled 2 clients (out of 5)\n",
      "DEBUG flwr 2023-03-10 16:29:15,649 | server.py:246 | fit_round 1 received 2 results and 0 failures\n",
      "WARNING flwr 2023-03-10 16:29:15,657 | fedavg.py:243 | No fit_metrics_aggregation_fn provided\n",
      "DEBUG flwr 2023-03-10 16:29:15,658 | server.py:179 | evaluate_round 1: strategy sampled 2 clients (out of 5)\n",
      "DEBUG flwr 2023-03-10 16:29:16,388 | server.py:193 | evaluate_round 1 received 2 results and 0 failures\n",
      "DEBUG flwr 2023-03-10 16:29:16,388 | server.py:232 | fit_round 2: strategy sampled 2 clients (out of 5)\n",
      "DEBUG flwr 2023-03-10 16:29:29,785 | server.py:246 | fit_round 2 received 2 results and 0 failures\n",
      "DEBUG flwr 2023-03-10 16:29:29,794 | server.py:179 | evaluate_round 2: strategy sampled 2 clients (out of 5)\n",
      "DEBUG flwr 2023-03-10 16:29:30,556 | server.py:193 | evaluate_round 2 received 2 results and 0 failures\n",
      "DEBUG flwr 2023-03-10 16:29:30,556 | server.py:232 | fit_round 3: strategy sampled 2 clients (out of 5)\n",
      "DEBUG flwr 2023-03-10 16:29:43,723 | server.py:246 | fit_round 3 received 2 results and 0 failures\n",
      "DEBUG flwr 2023-03-10 16:29:43,732 | server.py:179 | evaluate_round 3: strategy sampled 2 clients (out of 5)\n",
      "DEBUG flwr 2023-03-10 16:29:44,455 | server.py:193 | evaluate_round 3 received 2 results and 0 failures\n",
      "DEBUG flwr 2023-03-10 16:29:44,455 | server.py:232 | fit_round 4: strategy sampled 2 clients (out of 5)\n",
      "DEBUG flwr 2023-03-10 16:29:57,706 | server.py:246 | fit_round 4 received 2 results and 0 failures\n",
      "DEBUG flwr 2023-03-10 16:29:57,714 | server.py:179 | evaluate_round 4: strategy sampled 2 clients (out of 5)\n",
      "DEBUG flwr 2023-03-10 16:29:58,491 | server.py:193 | evaluate_round 4 received 2 results and 0 failures\n",
      "DEBUG flwr 2023-03-10 16:29:58,492 | server.py:232 | fit_round 5: strategy sampled 2 clients (out of 5)\n",
      "DEBUG flwr 2023-03-10 16:30:11,632 | server.py:246 | fit_round 5 received 2 results and 0 failures\n",
      "DEBUG flwr 2023-03-10 16:30:11,640 | server.py:179 | evaluate_round 5: strategy sampled 2 clients (out of 5)\n",
      "DEBUG flwr 2023-03-10 16:30:12,425 | server.py:193 | evaluate_round 5 received 2 results and 0 failures\n",
      "INFO flwr 2023-03-10 16:30:12,425 | server.py:158 | FL finished in 69.86793658300303\n",
      "INFO flwr 2023-03-10 16:30:12,426 | app.py:209 | app_fit: losses_distributed [(1, 0.23777819456905128), (2, 0.15710546273272485), (3, 0.11228240823280067), (4, 0.0846113607659936), (5, 0.08301721393363551)]\n",
      "INFO flwr 2023-03-10 16:30:12,427 | app.py:210 | app_fit: metrics_distributed {'accuracy': [(1, 0.933), (2, 0.955), (3, 0.96675), (4, 0.97375), (5, 0.974)]}\n",
      "INFO flwr 2023-03-10 16:30:12,427 | app.py:211 | app_fit: losses_centralized []\n",
      "INFO flwr 2023-03-10 16:30:12,427 | app.py:212 | app_fit: metrics_centralized {}\n"
     ]
    }
   ],
   "source": [
    "run1 = complete_run(0)\n",
    "run2 = complete_run(0)"
   ]
  },
  {
   "cell_type": "code",
   "execution_count": 13,
   "metadata": {},
   "outputs": [
    {
     "data": {
      "text/plain": [
       "History (loss, distributed):\n",
       "\tround 1: 0.23777819456905128\n",
       "\tround 2: 0.15710546273272485\n",
       "\tround 3: 0.11228240823280067\n",
       "\tround 4: 0.0846113607659936\n",
       "\tround 5: 0.08301721393363551\n",
       "History (metrics, distributed):\n",
       "{'accuracy': [(1, 0.933), (2, 0.955), (3, 0.96675), (4, 0.97375), (5, 0.974)]}"
      ]
     },
     "execution_count": 13,
     "metadata": {},
     "output_type": "execute_result"
    }
   ],
   "source": [
    "run1"
   ]
  },
  {
   "cell_type": "code",
   "execution_count": 14,
   "metadata": {},
   "outputs": [
    {
     "data": {
      "text/plain": [
       "History (loss, distributed):\n",
       "\tround 1: 0.23777819456905128\n",
       "\tround 2: 0.15710546273272485\n",
       "\tround 3: 0.11228240823280067\n",
       "\tround 4: 0.0846113607659936\n",
       "\tround 5: 0.08301721393363551\n",
       "History (metrics, distributed):\n",
       "{'accuracy': [(1, 0.933), (2, 0.955), (3, 0.96675), (4, 0.97375), (5, 0.974)]}"
      ]
     },
     "execution_count": 14,
     "metadata": {},
     "output_type": "execute_result"
    }
   ],
   "source": [
    "run2"
   ]
  },
  {
   "cell_type": "code",
   "execution_count": 15,
   "metadata": {},
   "outputs": [
    {
     "name": "stderr",
     "output_type": "stream",
     "text": [
      "INFO flwr 2023-03-10 16:30:15,063 | app.py:176 | Starting Flower simulation, config: ServerConfig(num_rounds=5, round_timeout=None)\n",
      "2023-03-10 16:30:17,131\tINFO worker.py:1553 -- Started a local Ray instance.\n",
      "INFO flwr 2023-03-10 16:30:18,656 | app.py:229 | Flower VCE: Ray initialized with resources: {'CPU': 10.0, 'node:127.0.0.1': 1.0, 'object_store_memory': 2147483648.0, 'memory': 17289576448.0}\n",
      "INFO flwr 2023-03-10 16:30:18,795 | server.py:100 | Initializing global parameters\n",
      "INFO flwr 2023-03-10 16:30:18,796 | server.py:291 | Requesting initial parameters from one random client\n",
      "INFO flwr 2023-03-10 16:30:20,367 | server.py:295 | Received initial parameters from one random client\n",
      "INFO flwr 2023-03-10 16:30:20,367 | server.py:102 | Evaluating initial parameters\n",
      "INFO flwr 2023-03-10 16:30:20,368 | server.py:115 | FL starting\n",
      "DEBUG flwr 2023-03-10 16:30:20,368 | server.py:232 | fit_round 1: strategy sampled 2 clients (out of 5)\n",
      "DEBUG flwr 2023-03-10 16:30:33,528 | server.py:246 | fit_round 1 received 2 results and 0 failures\n",
      "WARNING flwr 2023-03-10 16:30:33,536 | fedavg.py:243 | No fit_metrics_aggregation_fn provided\n",
      "DEBUG flwr 2023-03-10 16:30:33,537 | server.py:179 | evaluate_round 1: strategy sampled 2 clients (out of 5)\n",
      "DEBUG flwr 2023-03-10 16:30:34,318 | server.py:193 | evaluate_round 1 received 2 results and 0 failures\n",
      "DEBUG flwr 2023-03-10 16:30:34,319 | server.py:232 | fit_round 2: strategy sampled 2 clients (out of 5)\n",
      "DEBUG flwr 2023-03-10 16:30:47,438 | server.py:246 | fit_round 2 received 2 results and 0 failures\n",
      "DEBUG flwr 2023-03-10 16:30:47,448 | server.py:179 | evaluate_round 2: strategy sampled 2 clients (out of 5)\n",
      "DEBUG flwr 2023-03-10 16:30:48,145 | server.py:193 | evaluate_round 2 received 2 results and 0 failures\n",
      "DEBUG flwr 2023-03-10 16:30:48,146 | server.py:232 | fit_round 3: strategy sampled 2 clients (out of 5)\n",
      "DEBUG flwr 2023-03-10 16:31:01,657 | server.py:246 | fit_round 3 received 2 results and 0 failures\n",
      "DEBUG flwr 2023-03-10 16:31:01,664 | server.py:179 | evaluate_round 3: strategy sampled 2 clients (out of 5)\n",
      "DEBUG flwr 2023-03-10 16:31:02,389 | server.py:193 | evaluate_round 3 received 2 results and 0 failures\n",
      "DEBUG flwr 2023-03-10 16:31:02,389 | server.py:232 | fit_round 4: strategy sampled 2 clients (out of 5)\n",
      "DEBUG flwr 2023-03-10 16:31:15,543 | server.py:246 | fit_round 4 received 2 results and 0 failures\n",
      "DEBUG flwr 2023-03-10 16:31:15,552 | server.py:179 | evaluate_round 4: strategy sampled 2 clients (out of 5)\n",
      "DEBUG flwr 2023-03-10 16:31:16,263 | server.py:193 | evaluate_round 4 received 2 results and 0 failures\n",
      "DEBUG flwr 2023-03-10 16:31:16,263 | server.py:232 | fit_round 5: strategy sampled 2 clients (out of 5)\n",
      "DEBUG flwr 2023-03-10 16:31:29,515 | server.py:246 | fit_round 5 received 2 results and 0 failures\n",
      "DEBUG flwr 2023-03-10 16:31:29,522 | server.py:179 | evaluate_round 5: strategy sampled 2 clients (out of 5)\n",
      "DEBUG flwr 2023-03-10 16:31:30,232 | server.py:193 | evaluate_round 5 received 2 results and 0 failures\n",
      "INFO flwr 2023-03-10 16:31:30,232 | server.py:158 | FL finished in 69.86356916598743\n",
      "INFO flwr 2023-03-10 16:31:30,233 | app.py:209 | app_fit: losses_distributed [(1, 0.23599314831197263), (2, 0.13439781311899424), (3, 0.103604506816715), (4, 0.08954817651212216), (5, 0.07751182667119429)]\n",
      "INFO flwr 2023-03-10 16:31:30,233 | app.py:210 | app_fit: metrics_distributed {'accuracy': [(1, 0.934), (2, 0.9585), (3, 0.9675), (4, 0.9715), (5, 0.97525)]}\n",
      "INFO flwr 2023-03-10 16:31:30,233 | app.py:211 | app_fit: losses_centralized []\n",
      "INFO flwr 2023-03-10 16:31:30,233 | app.py:212 | app_fit: metrics_centralized {}\n"
     ]
    },
    {
     "data": {
      "text/plain": [
       "History (loss, distributed):\n",
       "\tround 1: 0.23599314831197263\n",
       "\tround 2: 0.13439781311899424\n",
       "\tround 3: 0.103604506816715\n",
       "\tround 4: 0.08954817651212216\n",
       "\tround 5: 0.07751182667119429\n",
       "History (metrics, distributed):\n",
       "{'accuracy': [(1, 0.934), (2, 0.9585), (3, 0.9675), (4, 0.9715), (5, 0.97525)]}"
      ]
     },
     "execution_count": 15,
     "metadata": {},
     "output_type": "execute_result"
    }
   ],
   "source": [
    "complete_run(4)"
   ]
  }
 ],
 "metadata": {
  "kernelspec": {
   "display_name": "flwr-mps",
   "language": "python",
   "name": "python3"
  },
  "language_info": {
   "codemirror_mode": {
    "name": "ipython",
    "version": 3
   },
   "file_extension": ".py",
   "mimetype": "text/x-python",
   "name": "python",
   "nbconvert_exporter": "python",
   "pygments_lexer": "ipython3",
   "version": "3.10.9"
  },
  "orig_nbformat": 4
 },
 "nbformat": 4,
 "nbformat_minor": 2
}
