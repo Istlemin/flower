{
 "cells": [
  {
   "cell_type": "code",
   "execution_count": 1,
   "metadata": {},
   "outputs": [],
   "source": [
    "import torch\n",
    "import flwr as fl\n",
    "from torchvision.datasets import MNIST\n",
    "from torchvision.transforms import Compose, Normalize, ToTensor\n",
    "from client import get_client_generator, weighted_average_accuracy\n",
    "from dataset import partition_dataset\n",
    "from util import seed_everything\n",
    "from flwr.server.strategy import FedAvg\n",
    "\n",
    "transform = Compose([ToTensor(), Normalize((0.1307,), (0.3081,))])\n",
    "train_dataset = MNIST(\"./mnist\", train=True, download=True, transform=transform)\n",
    "val_dataset = MNIST(\"./mnist\", train=False, transform=transform)\n",
    "\n",
    "def complete_run(seed=None):\n",
    "    if seed is not None:\n",
    "        seed_everything(seed)\n",
    "\n",
    "    num_clients = 10\n",
    "    train_datasets = partition_dataset(train_dataset, num_clients)\n",
    "    val_datasets = partition_dataset(val_dataset, num_clients)\n",
    "    train_dataloaders = [torch.utils.data.DataLoader(dataset, batch_size=16, shuffle=True) for dataset in train_datasets]\n",
    "    val_dataloaders = [torch.utils.data.DataLoader(dataset, batch_size=16) for dataset in val_datasets]\n",
    "    client_resources = None\n",
    "    client_fn = get_client_generator(train_dataloaders, val_dataloaders)\n",
    "    client_config = {\n",
    "        \"lr\": 0.05,\n",
    "        \"epochs\": 1,\n",
    "    }\n",
    "    strategy = FedAvg(\n",
    "        min_fit_clients=2,\n",
    "        min_evaluate_clients=2,\n",
    "        min_available_clients=2,\n",
    "        fraction_fit=0.5,\n",
    "        fraction_evaluate=0.5,\n",
    "        on_fit_config_fn=lambda _: client_config,\n",
    "        on_evaluate_config_fn=lambda _: client_config,\n",
    "        evaluate_metrics_aggregation_fn=weighted_average_accuracy,\n",
    "    )\n",
    "    hist = fl.simulation.start_simulation(\n",
    "        client_fn=client_fn,\n",
    "        seed_fn=seed_everything if seed is not None else None,\n",
    "        seed=seed,\n",
    "        num_clients=num_clients,\n",
    "        config=fl.server.ServerConfig(num_rounds=2),\n",
    "        client_resources=client_resources,\n",
    "        strategy=strategy\n",
    "    )\n",
    "    return hist"
   ]
  },
  {
   "cell_type": "code",
   "execution_count": 2,
   "metadata": {},
   "outputs": [
    {
     "name": "stderr",
     "output_type": "stream",
     "text": [
      "INFO flwr 2023-03-08 16:28:26,587 | app.py:176 | Starting Flower simulation, config: ServerConfig(num_rounds=5, round_timeout=None)\n",
      "2023-03-08 16:28:28,617\tINFO worker.py:1553 -- Started a local Ray instance.\n",
      "INFO flwr 2023-03-08 16:28:30,165 | app.py:210 | Flower VCE: Ray initialized with resources: {'node:127.0.0.1': 1.0, 'memory': 17053086516.0, 'CPU': 10.0, 'object_store_memory': 2147483648.0}\n",
      "INFO flwr 2023-03-08 16:28:30,167 | server.py:100 | Initializing global parameters\n",
      "INFO flwr 2023-03-08 16:28:30,167 | server.py:293 | Requesting initial parameters from one random client\n",
      "INFO flwr 2023-03-08 16:28:30,842 | server.py:297 | Received initial parameters from one random client\n",
      "INFO flwr 2023-03-08 16:28:30,843 | server.py:102 | Evaluating initial parameters\n",
      "INFO flwr 2023-03-08 16:28:30,843 | server.py:115 | FL starting\n",
      "DEBUG flwr 2023-03-08 16:28:30,843 | server.py:234 | fit_round 1: strategy sampled 5 clients (out of 10)\n",
      "DEBUG flwr 2023-03-08 16:28:39,930 | server.py:248 | fit_round 1 received 5 results and 0 failures\n",
      "WARNING flwr 2023-03-08 16:28:39,944 | fedavg.py:243 | No fit_metrics_aggregation_fn provided\n",
      "DEBUG flwr 2023-03-08 16:28:39,945 | server.py:179 | evaluate_round 1: strategy sampled 5 clients (out of 10)\n",
      "DEBUG flwr 2023-03-08 16:28:40,668 | server.py:193 | evaluate_round 1 received 5 results and 0 failures\n",
      "DEBUG flwr 2023-03-08 16:28:40,669 | server.py:234 | fit_round 2: strategy sampled 5 clients (out of 10)\n",
      "DEBUG flwr 2023-03-08 16:28:49,314 | server.py:248 | fit_round 2 received 5 results and 0 failures\n",
      "DEBUG flwr 2023-03-08 16:28:49,329 | server.py:179 | evaluate_round 2: strategy sampled 5 clients (out of 10)\n",
      "DEBUG flwr 2023-03-08 16:28:49,969 | server.py:193 | evaluate_round 2 received 5 results and 0 failures\n",
      "DEBUG flwr 2023-03-08 16:28:49,970 | server.py:234 | fit_round 3: strategy sampled 5 clients (out of 10)\n",
      "DEBUG flwr 2023-03-08 16:28:58,763 | server.py:248 | fit_round 3 received 5 results and 0 failures\n",
      "DEBUG flwr 2023-03-08 16:28:58,778 | server.py:179 | evaluate_round 3: strategy sampled 5 clients (out of 10)\n",
      "DEBUG flwr 2023-03-08 16:28:59,435 | server.py:193 | evaluate_round 3 received 5 results and 0 failures\n",
      "DEBUG flwr 2023-03-08 16:28:59,436 | server.py:234 | fit_round 4: strategy sampled 5 clients (out of 10)\n",
      "DEBUG flwr 2023-03-08 16:29:08,076 | server.py:248 | fit_round 4 received 5 results and 0 failures\n",
      "DEBUG flwr 2023-03-08 16:29:08,093 | server.py:179 | evaluate_round 4: strategy sampled 5 clients (out of 10)\n",
      "DEBUG flwr 2023-03-08 16:29:08,791 | server.py:193 | evaluate_round 4 received 5 results and 0 failures\n",
      "DEBUG flwr 2023-03-08 16:29:08,792 | server.py:234 | fit_round 5: strategy sampled 5 clients (out of 10)\n",
      "DEBUG flwr 2023-03-08 16:29:17,483 | server.py:248 | fit_round 5 received 5 results and 0 failures\n",
      "DEBUG flwr 2023-03-08 16:29:17,498 | server.py:179 | evaluate_round 5: strategy sampled 5 clients (out of 10)\n",
      "DEBUG flwr 2023-03-08 16:29:18,165 | server.py:193 | evaluate_round 5 received 5 results and 0 failures\n",
      "INFO flwr 2023-03-08 16:29:18,166 | server.py:158 | FL finished in 47.3224992499745\n",
      "INFO flwr 2023-03-08 16:29:18,168 | app.py:209 | app_fit: losses_distributed [(1, 0.341917051410675), (2, 0.2334419816419482), (3, 0.1811397484153509), (4, 0.1350405248582363), (5, 0.1206499027621001)]\n",
      "INFO flwr 2023-03-08 16:29:18,169 | app.py:210 | app_fit: metrics_distributed {'accuracy': [(1, 0.9072), (2, 0.9336), (3, 0.9464), (4, 0.9584), (5, 0.9646)]}\n",
      "INFO flwr 2023-03-08 16:29:18,169 | app.py:211 | app_fit: losses_centralized []\n",
      "INFO flwr 2023-03-08 16:29:18,169 | app.py:212 | app_fit: metrics_centralized {}\n"
     ]
    }
   ],
   "source": [
    "run1 = complete_run(0)"
   ]
  },
  {
   "cell_type": "code",
   "execution_count": 3,
   "metadata": {},
   "outputs": [
    {
     "name": "stderr",
     "output_type": "stream",
     "text": [
      "INFO flwr 2023-03-08 16:29:18,203 | app.py:176 | Starting Flower simulation, config: ServerConfig(num_rounds=5, round_timeout=None)\n",
      "2023-03-08 16:29:22,062\tINFO worker.py:1553 -- Started a local Ray instance.\n",
      "INFO flwr 2023-03-08 16:29:23,560 | app.py:210 | Flower VCE: Ray initialized with resources: {'memory': 17183496602.0, 'node:127.0.0.1': 1.0, 'CPU': 10.0, 'object_store_memory': 2147483648.0}\n",
      "INFO flwr 2023-03-08 16:29:23,561 | server.py:100 | Initializing global parameters\n",
      "INFO flwr 2023-03-08 16:29:23,562 | server.py:293 | Requesting initial parameters from one random client\n",
      "INFO flwr 2023-03-08 16:29:24,239 | server.py:297 | Received initial parameters from one random client\n",
      "INFO flwr 2023-03-08 16:29:24,239 | server.py:102 | Evaluating initial parameters\n",
      "INFO flwr 2023-03-08 16:29:24,240 | server.py:115 | FL starting\n",
      "DEBUG flwr 2023-03-08 16:29:24,240 | server.py:234 | fit_round 1: strategy sampled 5 clients (out of 10)\n",
      "DEBUG flwr 2023-03-08 16:29:33,248 | server.py:248 | fit_round 1 received 5 results and 0 failures\n",
      "WARNING flwr 2023-03-08 16:29:33,268 | fedavg.py:243 | No fit_metrics_aggregation_fn provided\n",
      "DEBUG flwr 2023-03-08 16:29:33,271 | server.py:179 | evaluate_round 1: strategy sampled 5 clients (out of 10)\n",
      "DEBUG flwr 2023-03-08 16:29:33,939 | server.py:193 | evaluate_round 1 received 5 results and 0 failures\n",
      "DEBUG flwr 2023-03-08 16:29:33,939 | server.py:234 | fit_round 2: strategy sampled 5 clients (out of 10)\n",
      "DEBUG flwr 2023-03-08 16:29:42,339 | server.py:248 | fit_round 2 received 5 results and 0 failures\n",
      "DEBUG flwr 2023-03-08 16:29:42,358 | server.py:179 | evaluate_round 2: strategy sampled 5 clients (out of 10)\n",
      "DEBUG flwr 2023-03-08 16:29:43,051 | server.py:193 | evaluate_round 2 received 5 results and 0 failures\n",
      "DEBUG flwr 2023-03-08 16:29:43,051 | server.py:234 | fit_round 3: strategy sampled 5 clients (out of 10)\n",
      "DEBUG flwr 2023-03-08 16:29:51,552 | server.py:248 | fit_round 3 received 5 results and 0 failures\n",
      "DEBUG flwr 2023-03-08 16:29:51,566 | server.py:179 | evaluate_round 3: strategy sampled 5 clients (out of 10)\n",
      "DEBUG flwr 2023-03-08 16:29:52,244 | server.py:193 | evaluate_round 3 received 5 results and 0 failures\n",
      "DEBUG flwr 2023-03-08 16:29:52,245 | server.py:234 | fit_round 4: strategy sampled 5 clients (out of 10)\n",
      "DEBUG flwr 2023-03-08 16:30:00,946 | server.py:248 | fit_round 4 received 5 results and 0 failures\n",
      "DEBUG flwr 2023-03-08 16:30:00,961 | server.py:179 | evaluate_round 4: strategy sampled 5 clients (out of 10)\n",
      "DEBUG flwr 2023-03-08 16:30:01,651 | server.py:193 | evaluate_round 4 received 5 results and 0 failures\n",
      "DEBUG flwr 2023-03-08 16:30:01,651 | server.py:234 | fit_round 5: strategy sampled 5 clients (out of 10)\n",
      "DEBUG flwr 2023-03-08 16:30:10,368 | server.py:248 | fit_round 5 received 5 results and 0 failures\n",
      "DEBUG flwr 2023-03-08 16:30:10,385 | server.py:179 | evaluate_round 5: strategy sampled 5 clients (out of 10)\n",
      "DEBUG flwr 2023-03-08 16:30:11,105 | server.py:193 | evaluate_round 5 received 5 results and 0 failures\n",
      "INFO flwr 2023-03-08 16:30:11,105 | server.py:158 | FL finished in 46.86516304197721\n",
      "INFO flwr 2023-03-08 16:30:11,107 | app.py:209 | app_fit: losses_distributed [(1, 0.341917051410675), (2, 0.2334419816419482), (3, 0.1811397484153509), (4, 0.1350405248582363), (5, 0.1206499027621001)]\n",
      "INFO flwr 2023-03-08 16:30:11,107 | app.py:210 | app_fit: metrics_distributed {'accuracy': [(1, 0.9072), (2, 0.9336), (3, 0.9464), (4, 0.9584), (5, 0.9646)]}\n",
      "INFO flwr 2023-03-08 16:30:11,107 | app.py:211 | app_fit: losses_centralized []\n",
      "INFO flwr 2023-03-08 16:30:11,108 | app.py:212 | app_fit: metrics_centralized {}\n"
     ]
    }
   ],
   "source": [
    "run2 = complete_run(0)"
   ]
  },
  {
   "cell_type": "code",
   "execution_count": 4,
   "metadata": {},
   "outputs": [
    {
     "data": {
      "text/plain": [
       "History (loss, distributed):\n",
       "\tround 1: 0.341917051410675\n",
       "\tround 2: 0.2334419816419482\n",
       "\tround 3: 0.1811397484153509\n",
       "\tround 4: 0.1350405248582363\n",
       "\tround 5: 0.1206499027621001\n",
       "History (metrics, distributed):\n",
       "{'accuracy': [(1, 0.9072), (2, 0.9336), (3, 0.9464), (4, 0.9584), (5, 0.9646)]}"
      ]
     },
     "execution_count": 4,
     "metadata": {},
     "output_type": "execute_result"
    }
   ],
   "source": [
    "run1"
   ]
  },
  {
   "cell_type": "code",
   "execution_count": 5,
   "metadata": {},
   "outputs": [
    {
     "data": {
      "text/plain": [
       "History (loss, distributed):\n",
       "\tround 1: 0.341917051410675\n",
       "\tround 2: 0.2334419816419482\n",
       "\tround 3: 0.1811397484153509\n",
       "\tround 4: 0.1350405248582363\n",
       "\tround 5: 0.1206499027621001\n",
       "History (metrics, distributed):\n",
       "{'accuracy': [(1, 0.9072), (2, 0.9336), (3, 0.9464), (4, 0.9584), (5, 0.9646)]}"
      ]
     },
     "execution_count": 5,
     "metadata": {},
     "output_type": "execute_result"
    }
   ],
   "source": [
    "run2"
   ]
  },
  {
   "cell_type": "code",
   "execution_count": 7,
   "metadata": {},
   "outputs": [
    {
     "name": "stderr",
     "output_type": "stream",
     "text": [
      "INFO flwr 2023-03-08 16:31:31,400 | app.py:176 | Starting Flower simulation, config: ServerConfig(num_rounds=5, round_timeout=None)\n",
      "2023-03-08 16:31:35,613\tINFO worker.py:1553 -- Started a local Ray instance.\n",
      "INFO flwr 2023-03-08 16:31:37,089 | app.py:210 | Flower VCE: Ray initialized with resources: {'memory': 17119176295.0, 'CPU': 10.0, 'object_store_memory': 2147483648.0, 'node:127.0.0.1': 1.0}\n",
      "INFO flwr 2023-03-08 16:31:37,090 | server.py:100 | Initializing global parameters\n",
      "INFO flwr 2023-03-08 16:31:37,090 | server.py:293 | Requesting initial parameters from one random client\n",
      "INFO flwr 2023-03-08 16:31:37,724 | server.py:297 | Received initial parameters from one random client\n",
      "INFO flwr 2023-03-08 16:31:37,724 | server.py:102 | Evaluating initial parameters\n",
      "INFO flwr 2023-03-08 16:31:37,724 | server.py:115 | FL starting\n",
      "DEBUG flwr 2023-03-08 16:31:37,725 | server.py:234 | fit_round 1: strategy sampled 5 clients (out of 10)\n",
      "DEBUG flwr 2023-03-08 16:31:46,756 | server.py:248 | fit_round 1 received 5 results and 0 failures\n",
      "WARNING flwr 2023-03-08 16:31:46,777 | fedavg.py:243 | No fit_metrics_aggregation_fn provided\n",
      "DEBUG flwr 2023-03-08 16:31:46,779 | server.py:179 | evaluate_round 1: strategy sampled 5 clients (out of 10)\n",
      "DEBUG flwr 2023-03-08 16:31:47,342 | server.py:193 | evaluate_round 1 received 5 results and 0 failures\n",
      "DEBUG flwr 2023-03-08 16:31:47,342 | server.py:234 | fit_round 2: strategy sampled 5 clients (out of 10)\n",
      "DEBUG flwr 2023-03-08 16:31:55,863 | server.py:248 | fit_round 2 received 5 results and 0 failures\n",
      "DEBUG flwr 2023-03-08 16:31:55,889 | server.py:179 | evaluate_round 2: strategy sampled 5 clients (out of 10)\n",
      "DEBUG flwr 2023-03-08 16:31:56,432 | server.py:193 | evaluate_round 2 received 5 results and 0 failures\n",
      "DEBUG flwr 2023-03-08 16:31:56,433 | server.py:234 | fit_round 3: strategy sampled 5 clients (out of 10)\n",
      "DEBUG flwr 2023-03-08 16:32:05,176 | server.py:248 | fit_round 3 received 5 results and 0 failures\n",
      "DEBUG flwr 2023-03-08 16:32:05,194 | server.py:179 | evaluate_round 3: strategy sampled 5 clients (out of 10)\n",
      "DEBUG flwr 2023-03-08 16:32:05,812 | server.py:193 | evaluate_round 3 received 5 results and 0 failures\n",
      "DEBUG flwr 2023-03-08 16:32:05,812 | server.py:234 | fit_round 4: strategy sampled 5 clients (out of 10)\n",
      "DEBUG flwr 2023-03-08 16:32:14,515 | server.py:248 | fit_round 4 received 5 results and 0 failures\n",
      "DEBUG flwr 2023-03-08 16:32:14,536 | server.py:179 | evaluate_round 4: strategy sampled 5 clients (out of 10)\n",
      "DEBUG flwr 2023-03-08 16:32:15,140 | server.py:193 | evaluate_round 4 received 5 results and 0 failures\n",
      "DEBUG flwr 2023-03-08 16:32:15,140 | server.py:234 | fit_round 5: strategy sampled 5 clients (out of 10)\n",
      "DEBUG flwr 2023-03-08 16:32:23,991 | server.py:248 | fit_round 5 received 5 results and 0 failures\n",
      "DEBUG flwr 2023-03-08 16:32:24,013 | server.py:179 | evaluate_round 5: strategy sampled 5 clients (out of 10)\n",
      "DEBUG flwr 2023-03-08 16:32:24,599 | server.py:193 | evaluate_round 5 received 5 results and 0 failures\n",
      "INFO flwr 2023-03-08 16:32:24,599 | server.py:158 | FL finished in 46.87456216700957\n",
      "INFO flwr 2023-03-08 16:32:24,602 | app.py:209 | app_fit: losses_distributed [(1, 0.33000900975465775), (2, 0.23638388906121255), (3, 0.17670042675733566), (4, 0.13710359512716533), (5, 0.11678394395560027)]\n",
      "INFO flwr 2023-03-08 16:32:24,603 | app.py:210 | app_fit: metrics_distributed {'accuracy': [(1, 0.9078), (2, 0.9324), (3, 0.9494), (4, 0.9574), (5, 0.9642)]}\n",
      "INFO flwr 2023-03-08 16:32:24,603 | app.py:211 | app_fit: losses_centralized []\n",
      "INFO flwr 2023-03-08 16:32:24,603 | app.py:212 | app_fit: metrics_centralized {}\n"
     ]
    }
   ],
   "source": [
    "run3 = complete_run()"
   ]
  }
 ],
 "metadata": {
  "kernelspec": {
   "display_name": "flwr-mps",
   "language": "python",
   "name": "python3"
  },
  "language_info": {
   "codemirror_mode": {
    "name": "ipython",
    "version": 3
   },
   "file_extension": ".py",
   "mimetype": "text/x-python",
   "name": "python",
   "nbconvert_exporter": "python",
   "pygments_lexer": "ipython3",
   "version": "3.10.9"
  },
  "orig_nbformat": 4
 },
 "nbformat": 4,
 "nbformat_minor": 2
}
