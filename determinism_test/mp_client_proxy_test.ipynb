{
 "cells": [
  {
   "cell_type": "code",
   "execution_count": 2,
   "metadata": {},
   "outputs": [
    {
     "ename": "AttributeError",
     "evalue": "'tuple' object has no attribute 'parameters'",
     "output_type": "error",
     "traceback": [
      "\u001b[0;31m---------------------------------------------------------------------------\u001b[0m",
      "\u001b[0;31mRemoteTraceback\u001b[0m                           Traceback (most recent call last)",
      "\u001b[0;31mRemoteTraceback\u001b[0m: \n\"\"\"\nTraceback (most recent call last):\n  File \"/home/fredrik/anaconda3/envs/fldet/lib/python3.10/site-packages/multiprocess/pool.py\", line 125, in worker\n    result = (True, func(*args, **kwds))\n  File \"/home/fredrik/repos/flower/src/py/flwr/simulation/mp_client_proxy.py\", line 128, in fit\n    return maybe_call_fit(self._get_client(), ins)\n  File \"/home/fredrik/repos/flower/src/py/flwr/client/client.py\", line 184, in maybe_call_fit\n    return client.fit(fit_ins)\n  File \"/home/fredrik/repos/flower/src/py/flwr/client/app.py\", line 272, in _fit\n    parameters: NDArrays = parameters_to_ndarrays(ins.parameters)\nAttributeError: 'tuple' object has no attribute 'parameters'\n\"\"\"",
      "\nThe above exception was the direct cause of the following exception:\n",
      "\u001b[0;31mAttributeError\u001b[0m                            Traceback (most recent call last)",
      "\u001b[0;32m/tmp/ipykernel_2611/2420201865.py\u001b[0m in \u001b[0;36m<cell line: 23>\u001b[0;34m()\u001b[0m\n\u001b[1;32m     24\u001b[0m     \u001b[0;34m\"num_gpus\"\u001b[0m\u001b[0;34m:\u001b[0m \u001b[0;36m0.5\u001b[0m\u001b[0;34m,\u001b[0m\u001b[0;34m\u001b[0m\u001b[0;34m\u001b[0m\u001b[0m\n\u001b[1;32m     25\u001b[0m     \u001b[0;34m\"num_cpus\"\u001b[0m\u001b[0;34m:\u001b[0m \u001b[0;36m1.0\u001b[0m\u001b[0;34m,\u001b[0m\u001b[0;34m\u001b[0m\u001b[0;34m\u001b[0m\u001b[0m\n\u001b[0;32m---> 26\u001b[0;31m }).fit((1,),10)\n\u001b[0m",
      "\u001b[0;32m~/repos/flower/src/py/flwr/simulation/mp_client_proxy.py\u001b[0m in \u001b[0;36mfit\u001b[0;34m(self, ins, timeout)\u001b[0m\n\u001b[1;32m     71\u001b[0m     \u001b[0;32mdef\u001b[0m \u001b[0mfit\u001b[0m\u001b[0;34m(\u001b[0m\u001b[0mself\u001b[0m\u001b[0;34m,\u001b[0m \u001b[0mins\u001b[0m\u001b[0;34m:\u001b[0m \u001b[0mcommon\u001b[0m\u001b[0;34m.\u001b[0m\u001b[0mFitIns\u001b[0m\u001b[0;34m,\u001b[0m \u001b[0mtimeout\u001b[0m\u001b[0;34m:\u001b[0m \u001b[0mOptional\u001b[0m\u001b[0;34m[\u001b[0m\u001b[0mfloat\u001b[0m\u001b[0;34m]\u001b[0m\u001b[0;34m)\u001b[0m \u001b[0;34m->\u001b[0m \u001b[0mcommon\u001b[0m\u001b[0;34m.\u001b[0m\u001b[0mFitRes\u001b[0m\u001b[0;34m:\u001b[0m\u001b[0;34m\u001b[0m\u001b[0;34m\u001b[0m\u001b[0m\n\u001b[1;32m     72\u001b[0m         \u001b[0;34m\"\"\"Train model parameters on the locally held dataset.\"\"\"\u001b[0m\u001b[0;34m\u001b[0m\u001b[0;34m\u001b[0m\u001b[0m\n\u001b[0;32m---> 73\u001b[0;31m         \u001b[0;32mreturn\u001b[0m \u001b[0mexecute_with_timeout\u001b[0m\u001b[0;34m(\u001b[0m\u001b[0mself\u001b[0m\u001b[0;34m.\u001b[0m\u001b[0mremote_client_proxy\u001b[0m\u001b[0;34m.\u001b[0m\u001b[0mfit\u001b[0m\u001b[0;34m,\u001b[0m\u001b[0mins\u001b[0m\u001b[0;34m,\u001b[0m \u001b[0mtimeout\u001b[0m\u001b[0;34m)\u001b[0m\u001b[0;34m\u001b[0m\u001b[0;34m\u001b[0m\u001b[0m\n\u001b[0m\u001b[1;32m     74\u001b[0m \u001b[0;34m\u001b[0m\u001b[0m\n\u001b[1;32m     75\u001b[0m     \u001b[0;32mdef\u001b[0m \u001b[0mevaluate\u001b[0m\u001b[0;34m(\u001b[0m\u001b[0mself\u001b[0m\u001b[0;34m,\u001b[0m \u001b[0mins\u001b[0m\u001b[0;34m:\u001b[0m \u001b[0mcommon\u001b[0m\u001b[0;34m.\u001b[0m\u001b[0mEvaluateIns\u001b[0m\u001b[0;34m,\u001b[0m \u001b[0mtimeout\u001b[0m\u001b[0;34m:\u001b[0m \u001b[0mOptional\u001b[0m\u001b[0;34m[\u001b[0m\u001b[0mfloat\u001b[0m\u001b[0;34m]\u001b[0m\u001b[0;34m)\u001b[0m \u001b[0;34m->\u001b[0m \u001b[0mcommon\u001b[0m\u001b[0;34m.\u001b[0m\u001b[0mEvaluateRes\u001b[0m\u001b[0;34m:\u001b[0m\u001b[0;34m\u001b[0m\u001b[0;34m\u001b[0m\u001b[0m\n",
      "\u001b[0;32m~/repos/flower/src/py/flwr/simulation/mp_client_proxy.py\u001b[0m in \u001b[0;36mexecute_with_timeout\u001b[0;34m(fn, ins, timeout)\u001b[0m\n\u001b[1;32m     40\u001b[0m     \u001b[0;32mwith\u001b[0m \u001b[0mmp\u001b[0m\u001b[0;34m.\u001b[0m\u001b[0mPool\u001b[0m\u001b[0;34m(\u001b[0m\u001b[0mprocesses\u001b[0m\u001b[0;34m=\u001b[0m\u001b[0;36m1\u001b[0m\u001b[0;34m)\u001b[0m \u001b[0;32mas\u001b[0m \u001b[0mp\u001b[0m\u001b[0;34m:\u001b[0m\u001b[0;34m\u001b[0m\u001b[0;34m\u001b[0m\u001b[0m\n\u001b[1;32m     41\u001b[0m         \u001b[0mres\u001b[0m \u001b[0;34m=\u001b[0m \u001b[0mp\u001b[0m\u001b[0;34m.\u001b[0m\u001b[0mapply_async\u001b[0m\u001b[0;34m(\u001b[0m\u001b[0mfn\u001b[0m\u001b[0;34m,\u001b[0m \u001b[0margs\u001b[0m\u001b[0;34m=\u001b[0m\u001b[0;34m(\u001b[0m\u001b[0mins\u001b[0m\u001b[0;34m,\u001b[0m\u001b[0;34m)\u001b[0m\u001b[0;34m)\u001b[0m\u001b[0;34m\u001b[0m\u001b[0;34m\u001b[0m\u001b[0m\n\u001b[0;32m---> 42\u001b[0;31m         \u001b[0;32mreturn\u001b[0m \u001b[0mres\u001b[0m\u001b[0;34m.\u001b[0m\u001b[0mget\u001b[0m\u001b[0;34m(\u001b[0m\u001b[0mtimeout\u001b[0m\u001b[0;34m)\u001b[0m\u001b[0;34m\u001b[0m\u001b[0;34m\u001b[0m\u001b[0m\n\u001b[0m\u001b[1;32m     43\u001b[0m \u001b[0;34m\u001b[0m\u001b[0m\n\u001b[1;32m     44\u001b[0m \u001b[0;32mclass\u001b[0m \u001b[0mMPClientProxy\u001b[0m\u001b[0;34m(\u001b[0m\u001b[0mClientProxy\u001b[0m\u001b[0;34m)\u001b[0m\u001b[0;34m:\u001b[0m\u001b[0;34m\u001b[0m\u001b[0;34m\u001b[0m\u001b[0m\n",
      "\u001b[0;32m~/anaconda3/envs/fldet/lib/python3.10/site-packages/multiprocess/pool.py\u001b[0m in \u001b[0;36mget\u001b[0;34m(self, timeout)\u001b[0m\n\u001b[1;32m    772\u001b[0m             \u001b[0;32mreturn\u001b[0m \u001b[0mself\u001b[0m\u001b[0;34m.\u001b[0m\u001b[0m_value\u001b[0m\u001b[0;34m\u001b[0m\u001b[0;34m\u001b[0m\u001b[0m\n\u001b[1;32m    773\u001b[0m         \u001b[0;32melse\u001b[0m\u001b[0;34m:\u001b[0m\u001b[0;34m\u001b[0m\u001b[0;34m\u001b[0m\u001b[0m\n\u001b[0;32m--> 774\u001b[0;31m             \u001b[0;32mraise\u001b[0m \u001b[0mself\u001b[0m\u001b[0;34m.\u001b[0m\u001b[0m_value\u001b[0m\u001b[0;34m\u001b[0m\u001b[0;34m\u001b[0m\u001b[0m\n\u001b[0m\u001b[1;32m    775\u001b[0m \u001b[0;34m\u001b[0m\u001b[0m\n\u001b[1;32m    776\u001b[0m     \u001b[0;32mdef\u001b[0m \u001b[0m_set\u001b[0m\u001b[0;34m(\u001b[0m\u001b[0mself\u001b[0m\u001b[0;34m,\u001b[0m \u001b[0mi\u001b[0m\u001b[0;34m,\u001b[0m \u001b[0mobj\u001b[0m\u001b[0;34m)\u001b[0m\u001b[0;34m:\u001b[0m\u001b[0;34m\u001b[0m\u001b[0;34m\u001b[0m\u001b[0m\n",
      "\u001b[0;31mAttributeError\u001b[0m: 'tuple' object has no attribute 'parameters'"
     ]
    }
   ],
   "source": [
    "import torch\n",
    "import flwr as fl\n",
    "from torchvision.datasets import MNIST\n",
    "from torchvision.transforms import Compose, Normalize, ToTensor\n",
    "from client import get_client_generator, weighted_average_accuracy\n",
    "from dataset import partition_dataset\n",
    "from util import seed_everything\n",
    "from flwr.server.strategy import FedAvg\n",
    "from flwr.simulation.mp_client_proxy import MPClientProxy\n",
    "\n",
    "transform = Compose([ToTensor(), Normalize((0.1307,), (0.3081,))])\n",
    "train_dataset = MNIST(\"./mnist\", train=True, download=True, transform=transform)\n",
    "val_dataset = MNIST(\"./mnist\", train=False, transform=transform)\n",
    "\n",
    "num_clients = 10\n",
    "train_datasets = partition_dataset(train_dataset, num_clients)\n",
    "val_datasets = partition_dataset(val_dataset, num_clients)\n",
    "train_dataloaders = [torch.utils.data.DataLoader(dataset, batch_size=16, shuffle=True) for dataset in train_datasets]\n",
    "val_dataloaders = [torch.utils.data.DataLoader(dataset, batch_size=16) for dataset in val_datasets]\n",
    "client_resources = None\n",
    "client_fn = get_client_generator(train_dataloaders, val_dataloaders)\n",
    "\n",
    "MPClientProxy(client_fn,None,0,{\n",
    "    \"num_gpus\": 0.5,\n",
    "    \"num_cpus\": 1.0,\n",
    "}).fit((1,),10)"
   ]
  },
  {
   "cell_type": "code",
   "execution_count": null,
   "metadata": {},
   "outputs": [],
   "source": []
  },
  {
   "cell_type": "code",
   "execution_count": 2,
   "metadata": {},
   "outputs": [
    {
     "ename": "NameError",
     "evalue": "name 'complete_run' is not defined",
     "output_type": "error",
     "traceback": [
      "\u001b[0;31m---------------------------------------------------------------------------\u001b[0m",
      "\u001b[0;31mNameError\u001b[0m                                 Traceback (most recent call last)",
      "\u001b[0;32m/tmp/ipykernel_2560/3136967379.py\u001b[0m in \u001b[0;36m<cell line: 1>\u001b[0;34m()\u001b[0m\n\u001b[0;32m----> 1\u001b[0;31m \u001b[0mrun2\u001b[0m \u001b[0;34m=\u001b[0m \u001b[0mcomplete_run\u001b[0m\u001b[0;34m(\u001b[0m\u001b[0;36m0\u001b[0m\u001b[0;34m)\u001b[0m\u001b[0;34m\u001b[0m\u001b[0;34m\u001b[0m\u001b[0m\n\u001b[0m",
      "\u001b[0;31mNameError\u001b[0m: name 'complete_run' is not defined"
     ]
    }
   ],
   "source": [
    "run2 = complete_run(0)"
   ]
  },
  {
   "cell_type": "code",
   "execution_count": null,
   "metadata": {},
   "outputs": [
    {
     "data": {
      "text/plain": [
       "History (loss, distributed):\n",
       "\tround 1: 0.341917051410675\n",
       "\tround 2: 0.2334419816419482\n",
       "\tround 3: 0.1811397484153509\n",
       "\tround 4: 0.1350405248582363\n",
       "\tround 5: 0.1206499027621001\n",
       "History (metrics, distributed):\n",
       "{'accuracy': [(1, 0.9072), (2, 0.9336), (3, 0.9464), (4, 0.9584), (5, 0.9646)]}"
      ]
     },
     "execution_count": 4,
     "metadata": {},
     "output_type": "execute_result"
    }
   ],
   "source": [
    "run1"
   ]
  },
  {
   "cell_type": "code",
   "execution_count": null,
   "metadata": {},
   "outputs": [
    {
     "data": {
      "text/plain": [
       "History (loss, distributed):\n",
       "\tround 1: 0.341917051410675\n",
       "\tround 2: 0.2334419816419482\n",
       "\tround 3: 0.1811397484153509\n",
       "\tround 4: 0.1350405248582363\n",
       "\tround 5: 0.1206499027621001\n",
       "History (metrics, distributed):\n",
       "{'accuracy': [(1, 0.9072), (2, 0.9336), (3, 0.9464), (4, 0.9584), (5, 0.9646)]}"
      ]
     },
     "execution_count": 5,
     "metadata": {},
     "output_type": "execute_result"
    }
   ],
   "source": [
    "run2"
   ]
  },
  {
   "cell_type": "code",
   "execution_count": null,
   "metadata": {},
   "outputs": [
    {
     "name": "stderr",
     "output_type": "stream",
     "text": [
      "INFO flwr 2023-03-08 17:18:01,371 | app.py:177 | Starting Flower simulation, config: ServerConfig(num_rounds=5, round_timeout=None)\n",
      "2023-03-08 17:18:05,344\tINFO worker.py:1553 -- Started a local Ray instance.\n",
      "INFO flwr 2023-03-08 17:18:06,837 | app.py:211 | Flower VCE: Ray initialized with resources: {'object_store_memory': 2147483648.0, 'CPU': 10.0, 'node:127.0.0.1': 1.0, 'memory': 17010442240.0}\n",
      "INFO flwr 2023-03-08 17:18:07,325 | server.py:100 | Initializing global parameters\n",
      "INFO flwr 2023-03-08 17:18:07,362 | server.py:293 | Requesting initial parameters from one random client\n",
      "INFO flwr 2023-03-08 17:18:09,385 | server.py:297 | Received initial parameters from one random client\n",
      "INFO flwr 2023-03-08 17:18:09,385 | server.py:102 | Evaluating initial parameters\n",
      "INFO flwr 2023-03-08 17:18:09,386 | server.py:115 | FL starting\n",
      "DEBUG flwr 2023-03-08 17:18:09,386 | server.py:234 | fit_round 1: strategy sampled 5 clients (out of 10)\n",
      "DEBUG flwr 2023-03-08 17:18:17,723 | server.py:248 | fit_round 1 received 5 results and 0 failures\n",
      "WARNING flwr 2023-03-08 17:18:17,743 | fedavg.py:243 | No fit_metrics_aggregation_fn provided\n",
      "DEBUG flwr 2023-03-08 17:18:17,746 | server.py:179 | evaluate_round 1: strategy sampled 5 clients (out of 10)\n",
      "DEBUG flwr 2023-03-08 17:18:18,187 | server.py:193 | evaluate_round 1 received 5 results and 0 failures\n",
      "DEBUG flwr 2023-03-08 17:18:18,187 | server.py:234 | fit_round 2: strategy sampled 5 clients (out of 10)\n",
      "DEBUG flwr 2023-03-08 17:18:26,480 | server.py:248 | fit_round 2 received 5 results and 0 failures\n",
      "DEBUG flwr 2023-03-08 17:18:26,500 | server.py:179 | evaluate_round 2: strategy sampled 5 clients (out of 10)\n",
      "DEBUG flwr 2023-03-08 17:18:26,965 | server.py:193 | evaluate_round 2 received 5 results and 0 failures\n",
      "DEBUG flwr 2023-03-08 17:18:26,965 | server.py:234 | fit_round 3: strategy sampled 5 clients (out of 10)\n",
      "DEBUG flwr 2023-03-08 17:18:35,476 | server.py:248 | fit_round 3 received 5 results and 0 failures\n",
      "DEBUG flwr 2023-03-08 17:18:35,499 | server.py:179 | evaluate_round 3: strategy sampled 5 clients (out of 10)\n",
      "DEBUG flwr 2023-03-08 17:18:35,957 | server.py:193 | evaluate_round 3 received 5 results and 0 failures\n",
      "DEBUG flwr 2023-03-08 17:18:35,958 | server.py:234 | fit_round 4: strategy sampled 5 clients (out of 10)\n",
      "DEBUG flwr 2023-03-08 17:18:44,449 | server.py:248 | fit_round 4 received 5 results and 0 failures\n",
      "DEBUG flwr 2023-03-08 17:18:44,467 | server.py:179 | evaluate_round 4: strategy sampled 5 clients (out of 10)\n",
      "DEBUG flwr 2023-03-08 17:18:44,915 | server.py:193 | evaluate_round 4 received 5 results and 0 failures\n",
      "DEBUG flwr 2023-03-08 17:18:44,916 | server.py:234 | fit_round 5: strategy sampled 5 clients (out of 10)\n",
      "DEBUG flwr 2023-03-08 17:18:53,156 | server.py:248 | fit_round 5 received 5 results and 0 failures\n",
      "DEBUG flwr 2023-03-08 17:18:53,174 | server.py:179 | evaluate_round 5: strategy sampled 5 clients (out of 10)\n",
      "DEBUG flwr 2023-03-08 17:18:53,623 | server.py:193 | evaluate_round 5 received 5 results and 0 failures\n",
      "INFO flwr 2023-03-08 17:18:53,624 | server.py:158 | FL finished in 44.23775616599596\n",
      "INFO flwr 2023-03-08 17:18:53,627 | app.py:209 | app_fit: losses_distributed [(1, 0.3261045752644539), (2, 0.22692426733374596), (3, 0.1712837350204587), (4, 0.13125322770513595), (5, 0.10564676019698381)]\n",
      "INFO flwr 2023-03-08 17:18:53,627 | app.py:210 | app_fit: metrics_distributed {'accuracy': [(1, 0.908), (2, 0.9308), (3, 0.9506), (4, 0.9606), (5, 0.9668)]}\n",
      "INFO flwr 2023-03-08 17:18:53,628 | app.py:211 | app_fit: losses_centralized []\n",
      "INFO flwr 2023-03-08 17:18:53,628 | app.py:212 | app_fit: metrics_centralized {}\n"
     ]
    }
   ],
   "source": [
    "run3 = complete_run()"
   ]
  }
 ],
 "metadata": {
  "kernelspec": {
   "display_name": "flwr-mps",
   "language": "python",
   "name": "python3"
  },
  "language_info": {
   "codemirror_mode": {
    "name": "ipython",
    "version": 3
   },
   "file_extension": ".py",
   "mimetype": "text/x-python",
   "name": "python",
   "nbconvert_exporter": "python",
   "pygments_lexer": "ipython3",
   "version": "3.10.9"
  },
  "orig_nbformat": 4
 },
 "nbformat": 4,
 "nbformat_minor": 2
}
